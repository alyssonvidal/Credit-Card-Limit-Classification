{
 "cells": [
  {
   "cell_type": "markdown",
   "id": "2ccb536f",
   "metadata": {},
   "source": [
    "# Content\n",
    "     \n",
    "**Data Preprocessing**  \n",
    "- Settings\n",
    "- Loading Data\n",
    "- Dealing with missing Values\n",
    "- Fixing Data Types\n",
    "- Dealing with Bad Values(Data Imputation)\n",
    "  - KNN Imputation\n",
    "- Feature Engieenier\n",
    "      \n",
    "**EDA**\n",
    "- Summary Table\n",
    "   \n",
    "**Data Preparation**\n",
    "- Dealing With Outliers\n",
    "- Normalization\n",
    "- Encoding\n",
    "  \n",
    "**Modeling**\n",
    "- Sampling\n",
    "    - Over Sampling\n",
    "    - Under Sampling(Choosen)\n",
    "- Train-Test Split\n",
    "- Cross Validation\n",
    "    - Random Forest\n",
    "    - XGBoost \n",
    "    \n",
    "**Feature Selection**\n",
    "- Filter Methods\n",
    "    - Person Correlation, Anova, Chi2\n",
    "- Embeeded Methods \n",
    "  \n",
    "**Hyperaramters Tunning** \n",
    "- Random Forest\n",
    "- XGBoost \n",
    "\n",
    "**Evaluating Best Model**\n",
    "  \n",
    "**Test**\n",
    "- Data Preprossesing/Preparation\n",
    "- Using Best Model"
   ]
  },
  {
   "cell_type": "markdown",
   "id": "de611645",
   "metadata": {},
   "source": [
    "# Data Preprocessing"
   ]
  },
  {
   "cell_type": "code",
   "execution_count": 2,
   "id": "7809ac5a",
   "metadata": {},
   "outputs": [],
   "source": [
    "### Data Analisy Libraries ###\n",
    "import seaborn as sns\n",
    "import numpy as np\n",
    "from matplotlib import pyplot as plt\n",
    "%matplotlib inline\n",
    "import pandas as pd\n",
    "\n",
    "### Machine Learning Libraries ###\n",
    "from sklearn.model_selection import cross_val_predict, KFold, cross_validate, StratifiedKFold\n",
    "from sklearn.model_selection import train_test_split, GridSearchCV\n",
    "from sklearn.preprocessing import LabelEncoder, StandardScaler, OneHotEncoder, MinMaxScaler \n",
    "from sklearn.linear_model import LogisticRegression\n",
    "from sklearn.ensemble import RandomForestClassifier\n",
    "\n",
    "from xgboost import XGBClassifier\n",
    "from sklearn.compose import ColumnTransformer\n",
    "from sklearn.metrics import make_scorer, accuracy_score, recall_score, precision_score, f1_score\n",
    "from sklearn.metrics import confusion_matrix, ConfusionMatrixDisplay, classification_report\n",
    "#from sklearn.decomposition import PCA\n",
    "\n",
    "from sklearn.feature_selection import SelectKBest, chi2, f_classif, SelectFromModel, VarianceThreshold, SelectPercentile\n",
    "\n",
    "\n",
    "from sklearn.impute import KNNImputer\n",
    "from math import ceil\n",
    "\n",
    "from imblearn.pipeline import make_pipeline\n",
    "from imblearn.over_sampling import SMOTE\n",
    "from imblearn.under_sampling import TomekLinks\n",
    "from collections import Counter"
   ]
  },
  {
   "cell_type": "code",
   "execution_count": 3,
   "id": "a7aafb8f",
   "metadata": {},
   "outputs": [],
   "source": [
    "pd.options.display.float_format = '{:,.2f}'.format"
   ]
  },
  {
   "cell_type": "markdown",
   "id": "d443920b",
   "metadata": {},
   "source": [
    "## Loading Data"
   ]
  },
  {
   "cell_type": "code",
   "execution_count": 4,
   "id": "c68e289a",
   "metadata": {},
   "outputs": [],
   "source": [
    "data_train_raw = pd.read_csv('train.csv')\n",
    "data_test_raw = pd.read_csv('test.csv')\n",
    "data_sub_raw = pd.read_csv('sample_submission.csv')"
   ]
  },
  {
   "cell_type": "code",
   "execution_count": 5,
   "id": "c74714a3",
   "metadata": {},
   "outputs": [],
   "source": [
    "data = data_train_raw.copy()"
   ]
  },
  {
   "cell_type": "code",
   "execution_count": 6,
   "id": "c1601825",
   "metadata": {},
   "outputs": [
    {
     "data": {
      "text/plain": [
       "(Negar       7995\n",
       " Conceder    1505\n",
       " Name: limite_adicional, dtype: int64,\n",
       " Negar      0.84\n",
       " Conceder   0.16\n",
       " Name: limite_adicional, dtype: float64)"
      ]
     },
     "execution_count": 6,
     "metadata": {},
     "output_type": "execute_result"
    }
   ],
   "source": [
    "data['limite_adicional'].value_counts(), data['limite_adicional'].value_counts(normalize=True)"
   ]
  },
  {
   "cell_type": "markdown",
   "id": "565ce25a",
   "metadata": {},
   "source": [
    "## Dealing with Bad Values(Data Imputation)"
   ]
  },
  {
   "cell_type": "code",
   "execution_count": 7,
   "id": "df4a9631",
   "metadata": {},
   "outputs": [
    {
     "data": {
      "text/html": [
       "<div>\n",
       "<style scoped>\n",
       "    .dataframe tbody tr th:only-of-type {\n",
       "        vertical-align: middle;\n",
       "    }\n",
       "\n",
       "    .dataframe tbody tr th {\n",
       "        vertical-align: top;\n",
       "    }\n",
       "\n",
       "    .dataframe thead th {\n",
       "        text-align: right;\n",
       "    }\n",
       "</style>\n",
       "<table border=\"1\" class=\"dataframe\">\n",
       "  <thead>\n",
       "    <tr style=\"text-align: right;\">\n",
       "      <th></th>\n",
       "      <th>count</th>\n",
       "      <th>mean</th>\n",
       "      <th>std</th>\n",
       "      <th>min</th>\n",
       "      <th>25%</th>\n",
       "      <th>50%</th>\n",
       "      <th>75%</th>\n",
       "      <th>max</th>\n",
       "    </tr>\n",
       "  </thead>\n",
       "  <tbody>\n",
       "    <tr>\n",
       "      <th>id_cliente</th>\n",
       "      <td>9,500.00</td>\n",
       "      <td>6,210.53</td>\n",
       "      <td>3,603.24</td>\n",
       "      <td>1.00</td>\n",
       "      <td>3,091.75</td>\n",
       "      <td>6,172.50</td>\n",
       "      <td>9,320.25</td>\n",
       "      <td>12,500.00</td>\n",
       "    </tr>\n",
       "    <tr>\n",
       "      <th>idade</th>\n",
       "      <td>9,500.00</td>\n",
       "      <td>126.40</td>\n",
       "      <td>685.04</td>\n",
       "      <td>18.00</td>\n",
       "      <td>28.00</td>\n",
       "      <td>38.00</td>\n",
       "      <td>47.00</td>\n",
       "      <td>8,598.00</td>\n",
       "    </tr>\n",
       "    <tr>\n",
       "      <th>saldo_atual</th>\n",
       "      <td>9,500.00</td>\n",
       "      <td>404.53</td>\n",
       "      <td>217.70</td>\n",
       "      <td>0.09</td>\n",
       "      <td>272.36</td>\n",
       "      <td>337.17</td>\n",
       "      <td>471.26</td>\n",
       "      <td>1,602.04</td>\n",
       "    </tr>\n",
       "    <tr>\n",
       "      <th>divida_atual</th>\n",
       "      <td>9,500.00</td>\n",
       "      <td>1,437.09</td>\n",
       "      <td>1,156.26</td>\n",
       "      <td>0.23</td>\n",
       "      <td>573.62</td>\n",
       "      <td>1,175.73</td>\n",
       "      <td>1,963.33</td>\n",
       "      <td>4,998.07</td>\n",
       "    </tr>\n",
       "    <tr>\n",
       "      <th>renda_anual</th>\n",
       "      <td>9,500.00</td>\n",
       "      <td>195,037.27</td>\n",
       "      <td>1,454,273.73</td>\n",
       "      <td>10,473.87</td>\n",
       "      <td>26,207.90</td>\n",
       "      <td>45,991.11</td>\n",
       "      <td>80,449.83</td>\n",
       "      <td>23,279,657.98</td>\n",
       "    </tr>\n",
       "    <tr>\n",
       "      <th>valor_em_investimentos</th>\n",
       "      <td>9,500.00</td>\n",
       "      <td>612.00</td>\n",
       "      <td>2,002.44</td>\n",
       "      <td>0.00</td>\n",
       "      <td>76.08</td>\n",
       "      <td>134.20</td>\n",
       "      <td>249.18</td>\n",
       "      <td>10,000.00</td>\n",
       "    </tr>\n",
       "    <tr>\n",
       "      <th>taxa_utilizacao_credito</th>\n",
       "      <td>9,500.00</td>\n",
       "      <td>32.27</td>\n",
       "      <td>5.11</td>\n",
       "      <td>20.99</td>\n",
       "      <td>28.08</td>\n",
       "      <td>32.26</td>\n",
       "      <td>36.46</td>\n",
       "      <td>49.56</td>\n",
       "    </tr>\n",
       "    <tr>\n",
       "      <th>num_emprestimos</th>\n",
       "      <td>9,500.00</td>\n",
       "      <td>10.86</td>\n",
       "      <td>62.56</td>\n",
       "      <td>0.00</td>\n",
       "      <td>2.00</td>\n",
       "      <td>3.00</td>\n",
       "      <td>6.00</td>\n",
       "      <td>1,496.00</td>\n",
       "    </tr>\n",
       "    <tr>\n",
       "      <th>num_contas_bancarias</th>\n",
       "      <td>9,500.00</td>\n",
       "      <td>17.55</td>\n",
       "      <td>120.98</td>\n",
       "      <td>0.00</td>\n",
       "      <td>3.00</td>\n",
       "      <td>6.00</td>\n",
       "      <td>7.00</td>\n",
       "      <td>1,779.00</td>\n",
       "    </tr>\n",
       "    <tr>\n",
       "      <th>num_cartoes_credito</th>\n",
       "      <td>9,500.00</td>\n",
       "      <td>21.43</td>\n",
       "      <td>122.68</td>\n",
       "      <td>1.00</td>\n",
       "      <td>4.00</td>\n",
       "      <td>6.00</td>\n",
       "      <td>7.00</td>\n",
       "      <td>1,479.00</td>\n",
       "    </tr>\n",
       "    <tr>\n",
       "      <th>dias_atraso_dt_venc</th>\n",
       "      <td>9,500.00</td>\n",
       "      <td>20.99</td>\n",
       "      <td>14.80</td>\n",
       "      <td>-5.00</td>\n",
       "      <td>10.00</td>\n",
       "      <td>18.00</td>\n",
       "      <td>28.00</td>\n",
       "      <td>67.00</td>\n",
       "    </tr>\n",
       "    <tr>\n",
       "      <th>num_pgtos_atrasados</th>\n",
       "      <td>9,500.00</td>\n",
       "      <td>29.83</td>\n",
       "      <td>222.64</td>\n",
       "      <td>0.00</td>\n",
       "      <td>9.00</td>\n",
       "      <td>14.00</td>\n",
       "      <td>18.00</td>\n",
       "      <td>4,388.00</td>\n",
       "    </tr>\n",
       "    <tr>\n",
       "      <th>num_consultas_credito</th>\n",
       "      <td>9,500.00</td>\n",
       "      <td>24.94</td>\n",
       "      <td>183.73</td>\n",
       "      <td>0.00</td>\n",
       "      <td>2.00</td>\n",
       "      <td>4.00</td>\n",
       "      <td>8.00</td>\n",
       "      <td>2,589.00</td>\n",
       "    </tr>\n",
       "    <tr>\n",
       "      <th>taxa_juros</th>\n",
       "      <td>9,500.00</td>\n",
       "      <td>66.62</td>\n",
       "      <td>440.12</td>\n",
       "      <td>1.00</td>\n",
       "      <td>8.00</td>\n",
       "      <td>14.00</td>\n",
       "      <td>20.00</td>\n",
       "      <td>5,788.00</td>\n",
       "    </tr>\n",
       "  </tbody>\n",
       "</table>\n",
       "</div>"
      ],
      "text/plain": [
       "                           count       mean          std       min       25%  \\\n",
       "id_cliente              9,500.00   6,210.53     3,603.24      1.00  3,091.75   \n",
       "idade                   9,500.00     126.40       685.04     18.00     28.00   \n",
       "saldo_atual             9,500.00     404.53       217.70      0.09    272.36   \n",
       "divida_atual            9,500.00   1,437.09     1,156.26      0.23    573.62   \n",
       "renda_anual             9,500.00 195,037.27 1,454,273.73 10,473.87 26,207.90   \n",
       "valor_em_investimentos  9,500.00     612.00     2,002.44      0.00     76.08   \n",
       "taxa_utilizacao_credito 9,500.00      32.27         5.11     20.99     28.08   \n",
       "num_emprestimos         9,500.00      10.86        62.56      0.00      2.00   \n",
       "num_contas_bancarias    9,500.00      17.55       120.98      0.00      3.00   \n",
       "num_cartoes_credito     9,500.00      21.43       122.68      1.00      4.00   \n",
       "dias_atraso_dt_venc     9,500.00      20.99        14.80     -5.00     10.00   \n",
       "num_pgtos_atrasados     9,500.00      29.83       222.64      0.00      9.00   \n",
       "num_consultas_credito   9,500.00      24.94       183.73      0.00      2.00   \n",
       "taxa_juros              9,500.00      66.62       440.12      1.00      8.00   \n",
       "\n",
       "                              50%       75%           max  \n",
       "id_cliente               6,172.50  9,320.25     12,500.00  \n",
       "idade                       38.00     47.00      8,598.00  \n",
       "saldo_atual                337.17    471.26      1,602.04  \n",
       "divida_atual             1,175.73  1,963.33      4,998.07  \n",
       "renda_anual             45,991.11 80,449.83 23,279,657.98  \n",
       "valor_em_investimentos     134.20    249.18     10,000.00  \n",
       "taxa_utilizacao_credito     32.26     36.46         49.56  \n",
       "num_emprestimos              3.00      6.00      1,496.00  \n",
       "num_contas_bancarias         6.00      7.00      1,779.00  \n",
       "num_cartoes_credito          6.00      7.00      1,479.00  \n",
       "dias_atraso_dt_venc         18.00     28.00         67.00  \n",
       "num_pgtos_atrasados         14.00     18.00      4,388.00  \n",
       "num_consultas_credito        4.00      8.00      2,589.00  \n",
       "taxa_juros                  14.00     20.00      5,788.00  "
      ]
     },
     "execution_count": 7,
     "metadata": {},
     "output_type": "execute_result"
    }
   ],
   "source": [
    "data.describe().T"
   ]
  },
  {
   "cell_type": "markdown",
   "id": "5c3cb93a",
   "metadata": {},
   "source": [
    "## KNN Inputation"
   ]
  },
  {
   "cell_type": "code",
   "execution_count": 8,
   "id": "23a55091",
   "metadata": {},
   "outputs": [],
   "source": [
    "def nan_transformer(data): \n",
    "    '''\n",
    "    Os valores limiares foram escolhidos baseado nos valores observador no Q3 e usando bom senso, valores absurdos foram considerados Nan\n",
    "    '''\n",
    "    data['idade'] = data['idade'].apply(lambda x: np.nan if x > 120 else x)\n",
    "    data['num_emprestimos'] = data['num_emprestimos'].apply(lambda x: np.nan if x > 30 else x)\n",
    "    data['num_contas_bancarias'] = data['num_contas_bancarias'].apply(lambda x: np.nan if x > 30 else x)\n",
    "    data['num_cartoes_credito'] = data['num_cartoes_credito'].apply(lambda x: np.nan if x > 30 else x)\n",
    "    data['num_pgtos_atrasados'] = data['num_pgtos_atrasados'].apply(lambda x: np.nan if x > 50 else x)\n",
    "    data['num_consultas_credito'] = data['num_consultas_credito'].apply(lambda x: np.nan if x > 50 else x)\n",
    "    data['taxa_juros'] = data['taxa_juros'].apply(lambda x: np.nan if x > 99 else x)  "
   ]
  },
  {
   "cell_type": "code",
   "execution_count": 9,
   "id": "7328540a",
   "metadata": {},
   "outputs": [],
   "source": [
    "def knn_imputer(X_knn, y_knn=False):\n",
    "    \n",
    "    numerical =  X_knn.select_dtypes(include=[\"number\",\"int64\"])#.drop(drop_features, axis=1)\n",
    "    numerical_features_values = numerical.columns.values\n",
    "    num_impute = KNNImputer()\n",
    "    num_impute.fit(X_knn[numerical_features_values])\n",
    "    X_knn[numerical_features_values] = num_impute.transform(X_knn[numerical_features_values])    "
   ]
  },
  {
   "cell_type": "code",
   "execution_count": 10,
   "id": "ecaa94ce",
   "metadata": {},
   "outputs": [],
   "source": [
    "def round_col(data): \n",
    "    '''\n",
    "    O KNN pode fazer grupos om valores fracionados, devemos corrigir isso\n",
    "    '''\n",
    "   \n",
    "    data['idade'] = data['idade'].apply(lambda x: ceil(x)) \n",
    "    data['num_emprestimos'] = data['num_emprestimos'].apply(lambda x: ceil(x)) \n",
    "    data['num_contas_bancarias'] = data['num_contas_bancarias'].apply(lambda x: ceil(x))\n",
    "    data['num_cartoes_credito'] = data['num_cartoes_credito'].apply(lambda x: ceil(x))\n",
    "    data['num_pgtos_atrasados'] = data['num_pgtos_atrasados'].apply(lambda x: ceil(x))\n",
    "    data['num_consultas_credito'] = data['num_consultas_credito'].apply(lambda x: ceil(x))\n",
    "    data['taxa_juros'] = data['taxa_juros'].apply(lambda x: ceil(x))   "
   ]
  },
  {
   "cell_type": "code",
   "execution_count": 11,
   "id": "c19ba7d7",
   "metadata": {},
   "outputs": [],
   "source": [
    "nan_transformer(data)\n",
    "y_knn = data['limite_adicional']\n",
    "X_knn = data.drop(['id_cliente','limite_adicional'], axis=1)\n",
    "knn_imputer(X_knn, y_knn)\n",
    "round_col(X_knn)"
   ]
  },
  {
   "cell_type": "code",
   "execution_count": 12,
   "id": "a8e2d9ec",
   "metadata": {},
   "outputs": [
    {
     "data": {
      "text/plain": [
       "idade                            36\n",
       "saldo_atual                  253.54\n",
       "divida_atual               4,183.81\n",
       "renda_anual               20,042.06\n",
       "valor_em_investimentos       104.87\n",
       "taxa_utilizacao_credito       39.95\n",
       "num_emprestimos                   6\n",
       "num_contas_bancarias              9\n",
       "num_cartoes_credito               5\n",
       "dias_atraso_dt_venc           35.00\n",
       "num_pgtos_atrasados              18\n",
       "num_consultas_credito             6\n",
       "taxa_juros                       17\n",
       "investe_exterior                Não\n",
       "pessoa_polit_exp                Não\n",
       "Name: 8633, dtype: object"
      ]
     },
     "execution_count": 12,
     "metadata": {},
     "output_type": "execute_result"
    }
   ],
   "source": [
    "X_knn.loc[8633]"
   ]
  },
  {
   "cell_type": "code",
   "execution_count": 13,
   "id": "a23934a4",
   "metadata": {},
   "outputs": [],
   "source": [
    "data_new = pd.concat([data[['id_cliente']], X_knn, y_knn],axis=1)"
   ]
  },
  {
   "cell_type": "code",
   "execution_count": 14,
   "id": "20b301e8",
   "metadata": {},
   "outputs": [
    {
     "data": {
      "text/plain": [
       "id_cliente                 0\n",
       "idade                      0\n",
       "saldo_atual                0\n",
       "divida_atual               0\n",
       "renda_anual                0\n",
       "valor_em_investimentos     0\n",
       "taxa_utilizacao_credito    0\n",
       "num_emprestimos            0\n",
       "num_contas_bancarias       0\n",
       "num_cartoes_credito        0\n",
       "dias_atraso_dt_venc        0\n",
       "num_pgtos_atrasados        0\n",
       "num_consultas_credito      0\n",
       "taxa_juros                 0\n",
       "investe_exterior           0\n",
       "pessoa_polit_exp           0\n",
       "limite_adicional           0\n",
       "dtype: int64"
      ]
     },
     "execution_count": 14,
     "metadata": {},
     "output_type": "execute_result"
    }
   ],
   "source": [
    "data_new.isna().sum()"
   ]
  },
  {
   "cell_type": "code",
   "execution_count": 15,
   "id": "768444d9",
   "metadata": {},
   "outputs": [
    {
     "data": {
      "text/html": [
       "<div>\n",
       "<style scoped>\n",
       "    .dataframe tbody tr th:only-of-type {\n",
       "        vertical-align: middle;\n",
       "    }\n",
       "\n",
       "    .dataframe tbody tr th {\n",
       "        vertical-align: top;\n",
       "    }\n",
       "\n",
       "    .dataframe thead th {\n",
       "        text-align: right;\n",
       "    }\n",
       "</style>\n",
       "<table border=\"1\" class=\"dataframe\">\n",
       "  <thead>\n",
       "    <tr style=\"text-align: right;\">\n",
       "      <th></th>\n",
       "      <th>id_cliente</th>\n",
       "      <th>idade</th>\n",
       "      <th>saldo_atual</th>\n",
       "      <th>divida_atual</th>\n",
       "      <th>renda_anual</th>\n",
       "      <th>valor_em_investimentos</th>\n",
       "      <th>taxa_utilizacao_credito</th>\n",
       "      <th>num_emprestimos</th>\n",
       "      <th>num_contas_bancarias</th>\n",
       "      <th>num_cartoes_credito</th>\n",
       "      <th>dias_atraso_dt_venc</th>\n",
       "      <th>num_pgtos_atrasados</th>\n",
       "      <th>num_consultas_credito</th>\n",
       "      <th>taxa_juros</th>\n",
       "      <th>investe_exterior</th>\n",
       "      <th>pessoa_polit_exp</th>\n",
       "      <th>limite_adicional</th>\n",
       "    </tr>\n",
       "  </thead>\n",
       "  <tbody>\n",
       "    <tr>\n",
       "      <th>0</th>\n",
       "      <td>1767</td>\n",
       "      <td>21</td>\n",
       "      <td>278.17</td>\n",
       "      <td>2,577.05</td>\n",
       "      <td>24,196.90</td>\n",
       "      <td>104.31</td>\n",
       "      <td>31.04</td>\n",
       "      <td>6</td>\n",
       "      <td>5</td>\n",
       "      <td>7</td>\n",
       "      <td>21.00</td>\n",
       "      <td>14</td>\n",
       "      <td>9</td>\n",
       "      <td>15</td>\n",
       "      <td>Não</td>\n",
       "      <td>Não</td>\n",
       "      <td>Negar</td>\n",
       "    </tr>\n",
       "    <tr>\n",
       "      <th>1</th>\n",
       "      <td>11920</td>\n",
       "      <td>40</td>\n",
       "      <td>268.87</td>\n",
       "      <td>2,465.39</td>\n",
       "      <td>19,227.38</td>\n",
       "      <td>69.86</td>\n",
       "      <td>36.92</td>\n",
       "      <td>5</td>\n",
       "      <td>8</td>\n",
       "      <td>5</td>\n",
       "      <td>40.00</td>\n",
       "      <td>23</td>\n",
       "      <td>10</td>\n",
       "      <td>18</td>\n",
       "      <td>Não</td>\n",
       "      <td>Não</td>\n",
       "      <td>Negar</td>\n",
       "    </tr>\n",
       "    <tr>\n",
       "      <th>2</th>\n",
       "      <td>8910</td>\n",
       "      <td>36</td>\n",
       "      <td>446.64</td>\n",
       "      <td>1,055.29</td>\n",
       "      <td>42,822.28</td>\n",
       "      <td>134.20</td>\n",
       "      <td>34.56</td>\n",
       "      <td>0</td>\n",
       "      <td>3</td>\n",
       "      <td>6</td>\n",
       "      <td>26.00</td>\n",
       "      <td>13</td>\n",
       "      <td>3</td>\n",
       "      <td>15</td>\n",
       "      <td>Sim</td>\n",
       "      <td>Não</td>\n",
       "      <td>Negar</td>\n",
       "    </tr>\n",
       "    <tr>\n",
       "      <th>3</th>\n",
       "      <td>4964</td>\n",
       "      <td>58</td>\n",
       "      <td>321.14</td>\n",
       "      <td>703.05</td>\n",
       "      <td>51,786.83</td>\n",
       "      <td>297.35</td>\n",
       "      <td>31.49</td>\n",
       "      <td>0</td>\n",
       "      <td>3</td>\n",
       "      <td>7</td>\n",
       "      <td>12.00</td>\n",
       "      <td>7</td>\n",
       "      <td>2</td>\n",
       "      <td>1</td>\n",
       "      <td>Sim</td>\n",
       "      <td>Não</td>\n",
       "      <td>Negar</td>\n",
       "    </tr>\n",
       "    <tr>\n",
       "      <th>4</th>\n",
       "      <td>10100</td>\n",
       "      <td>35</td>\n",
       "      <td>428.72</td>\n",
       "      <td>891.29</td>\n",
       "      <td>44,626.85</td>\n",
       "      <td>134.20</td>\n",
       "      <td>28.03</td>\n",
       "      <td>2</td>\n",
       "      <td>8</td>\n",
       "      <td>7</td>\n",
       "      <td>24.00</td>\n",
       "      <td>10</td>\n",
       "      <td>8</td>\n",
       "      <td>20</td>\n",
       "      <td>Sim</td>\n",
       "      <td>Não</td>\n",
       "      <td>Negar</td>\n",
       "    </tr>\n",
       "  </tbody>\n",
       "</table>\n",
       "</div>"
      ],
      "text/plain": [
       "   id_cliente  idade  saldo_atual  divida_atual  renda_anual  \\\n",
       "0        1767     21       278.17      2,577.05    24,196.90   \n",
       "1       11920     40       268.87      2,465.39    19,227.38   \n",
       "2        8910     36       446.64      1,055.29    42,822.28   \n",
       "3        4964     58       321.14        703.05    51,786.83   \n",
       "4       10100     35       428.72        891.29    44,626.85   \n",
       "\n",
       "   valor_em_investimentos  taxa_utilizacao_credito  num_emprestimos  \\\n",
       "0                  104.31                    31.04                6   \n",
       "1                   69.86                    36.92                5   \n",
       "2                  134.20                    34.56                0   \n",
       "3                  297.35                    31.49                0   \n",
       "4                  134.20                    28.03                2   \n",
       "\n",
       "   num_contas_bancarias  num_cartoes_credito  dias_atraso_dt_venc  \\\n",
       "0                     5                    7                21.00   \n",
       "1                     8                    5                40.00   \n",
       "2                     3                    6                26.00   \n",
       "3                     3                    7                12.00   \n",
       "4                     8                    7                24.00   \n",
       "\n",
       "   num_pgtos_atrasados  num_consultas_credito  taxa_juros investe_exterior  \\\n",
       "0                   14                      9          15              Não   \n",
       "1                   23                     10          18              Não   \n",
       "2                   13                      3          15              Sim   \n",
       "3                    7                      2           1              Sim   \n",
       "4                   10                      8          20              Sim   \n",
       "\n",
       "  pessoa_polit_exp limite_adicional  \n",
       "0              Não            Negar  \n",
       "1              Não            Negar  \n",
       "2              Não            Negar  \n",
       "3              Não            Negar  \n",
       "4              Não            Negar  "
      ]
     },
     "execution_count": 15,
     "metadata": {},
     "output_type": "execute_result"
    }
   ],
   "source": [
    "data_new.head()"
   ]
  },
  {
   "cell_type": "markdown",
   "id": "1a333aaf",
   "metadata": {},
   "source": [
    "## Feature Engieener"
   ]
  },
  {
   "cell_type": "code",
   "execution_count": 16,
   "id": "cdd2d175",
   "metadata": {},
   "outputs": [],
   "source": [
    "# data['dias_adiantamento_dt_venc'] = data['dias_atraso_dt_venc'].copy()\n",
    "# data['dias_adiantamento_dt_venc'] = data['dias_adiantamento_dt_venc'].apply(lambda x : 0 if x >= 0 else -1*x )\n",
    "# data['dias_atraso_dt_venc']= data['dias_atraso_dt_venc'].apply(lambda x : 0 if x <= 0 else x )"
   ]
  },
  {
   "cell_type": "markdown",
   "id": "8e2f9ee7",
   "metadata": {},
   "source": [
    "## EDA"
   ]
  },
  {
   "cell_type": "code",
   "execution_count": 16,
   "id": "c94e6d2e",
   "metadata": {},
   "outputs": [],
   "source": [
    "data_eda = data_new.copy()"
   ]
  },
  {
   "cell_type": "code",
   "execution_count": 458,
   "id": "38931104",
   "metadata": {},
   "outputs": [],
   "source": [
    "def display_stats(df):\n",
    "    \n",
    "    \"\"\"\n",
    "    Descreptive Table   \n",
    "    \"\"\"\n",
    "\n",
    "    df=data.describe()\n",
    "    skewness=data.skew()\n",
    "    kurtosis=data.kurtosis()\n",
    "    df=df.append([skewness, kurtosis],ignore_index=True)\n",
    "    idx=pd.Series(['count','mean','std','min','25%','50%','75%','max','skewness','kurtosis'],name='Summary Statistic')\n",
    "    df=pd.concat([df,idx],1).set_index('Summary Statistic')\n",
    "    df=df.drop('count',axis=0)    \n",
    "    \n",
    "    cm = sns.light_palette(\"#A2A2A2\", as_cmap = True)\n",
    "    display(df.T)"
   ]
  },
  {
   "cell_type": "code",
   "execution_count": 459,
   "id": "ada390f1",
   "metadata": {},
   "outputs": [
    {
     "name": "stderr",
     "output_type": "stream",
     "text": [
      "C:\\Users\\Alysson\\AppData\\Local\\Temp/ipykernel_8988/4053549992.py:8: FutureWarning: Dropping of nuisance columns in DataFrame reductions (with 'numeric_only=None') is deprecated; in a future version this will raise TypeError.  Select only valid columns before calling the reduction.\n",
      "  skewness=data.skew()\n",
      "C:\\Users\\Alysson\\AppData\\Local\\Temp/ipykernel_8988/4053549992.py:9: FutureWarning: Dropping of nuisance columns in DataFrame reductions (with 'numeric_only=None') is deprecated; in a future version this will raise TypeError.  Select only valid columns before calling the reduction.\n",
      "  kurtosis=data.kurtosis()\n",
      "C:\\Users\\Alysson\\AppData\\Local\\Temp/ipykernel_8988/4053549992.py:12: FutureWarning: In a future version of pandas all arguments of concat except for the argument 'objs' will be keyword-only\n",
      "  df=pd.concat([df,idx],1).set_index('Summary Statistic')\n"
     ]
    },
    {
     "data": {
      "text/html": [
       "<div>\n",
       "<style scoped>\n",
       "    .dataframe tbody tr th:only-of-type {\n",
       "        vertical-align: middle;\n",
       "    }\n",
       "\n",
       "    .dataframe tbody tr th {\n",
       "        vertical-align: top;\n",
       "    }\n",
       "\n",
       "    .dataframe thead th {\n",
       "        text-align: right;\n",
       "    }\n",
       "</style>\n",
       "<table border=\"1\" class=\"dataframe\">\n",
       "  <thead>\n",
       "    <tr style=\"text-align: right;\">\n",
       "      <th>Summary Statistic</th>\n",
       "      <th>mean</th>\n",
       "      <th>std</th>\n",
       "      <th>min</th>\n",
       "      <th>25%</th>\n",
       "      <th>50%</th>\n",
       "      <th>75%</th>\n",
       "      <th>max</th>\n",
       "      <th>skewness</th>\n",
       "      <th>kurtosis</th>\n",
       "    </tr>\n",
       "  </thead>\n",
       "  <tbody>\n",
       "    <tr>\n",
       "      <th>id_cliente</th>\n",
       "      <td>6,210.53</td>\n",
       "      <td>3,603.24</td>\n",
       "      <td>1.00</td>\n",
       "      <td>3,091.75</td>\n",
       "      <td>6,172.50</td>\n",
       "      <td>9,320.25</td>\n",
       "      <td>12,500.00</td>\n",
       "      <td>0.01</td>\n",
       "      <td>-1.20</td>\n",
       "    </tr>\n",
       "    <tr>\n",
       "      <th>idade</th>\n",
       "      <td>37.68</td>\n",
       "      <td>11.41</td>\n",
       "      <td>18.00</td>\n",
       "      <td>28.00</td>\n",
       "      <td>38.00</td>\n",
       "      <td>46.00</td>\n",
       "      <td>101.00</td>\n",
       "      <td>0.21</td>\n",
       "      <td>-0.85</td>\n",
       "    </tr>\n",
       "    <tr>\n",
       "      <th>saldo_atual</th>\n",
       "      <td>404.53</td>\n",
       "      <td>217.70</td>\n",
       "      <td>0.09</td>\n",
       "      <td>272.36</td>\n",
       "      <td>337.17</td>\n",
       "      <td>471.26</td>\n",
       "      <td>1,602.04</td>\n",
       "      <td>1.62</td>\n",
       "      <td>3.10</td>\n",
       "    </tr>\n",
       "    <tr>\n",
       "      <th>divida_atual</th>\n",
       "      <td>1,437.09</td>\n",
       "      <td>1,156.26</td>\n",
       "      <td>0.23</td>\n",
       "      <td>573.62</td>\n",
       "      <td>1,175.73</td>\n",
       "      <td>1,963.33</td>\n",
       "      <td>4,998.07</td>\n",
       "      <td>1.19</td>\n",
       "      <td>0.85</td>\n",
       "    </tr>\n",
       "    <tr>\n",
       "      <th>renda_anual</th>\n",
       "      <td>195,037.27</td>\n",
       "      <td>1,454,273.73</td>\n",
       "      <td>10,473.87</td>\n",
       "      <td>26,207.90</td>\n",
       "      <td>45,991.11</td>\n",
       "      <td>80,449.83</td>\n",
       "      <td>23,279,657.98</td>\n",
       "      <td>11.87</td>\n",
       "      <td>149.39</td>\n",
       "    </tr>\n",
       "    <tr>\n",
       "      <th>valor_em_investimentos</th>\n",
       "      <td>612.00</td>\n",
       "      <td>2,002.44</td>\n",
       "      <td>0.00</td>\n",
       "      <td>76.08</td>\n",
       "      <td>134.20</td>\n",
       "      <td>249.18</td>\n",
       "      <td>10,000.00</td>\n",
       "      <td>4.44</td>\n",
       "      <td>17.87</td>\n",
       "    </tr>\n",
       "    <tr>\n",
       "      <th>taxa_utilizacao_credito</th>\n",
       "      <td>32.27</td>\n",
       "      <td>5.11</td>\n",
       "      <td>20.99</td>\n",
       "      <td>28.08</td>\n",
       "      <td>32.26</td>\n",
       "      <td>36.46</td>\n",
       "      <td>49.56</td>\n",
       "      <td>0.04</td>\n",
       "      <td>-0.92</td>\n",
       "    </tr>\n",
       "    <tr>\n",
       "      <th>num_emprestimos</th>\n",
       "      <td>3.54</td>\n",
       "      <td>2.45</td>\n",
       "      <td>0.00</td>\n",
       "      <td>2.00</td>\n",
       "      <td>3.00</td>\n",
       "      <td>5.00</td>\n",
       "      <td>19.00</td>\n",
       "      <td>0.46</td>\n",
       "      <td>-0.47</td>\n",
       "    </tr>\n",
       "    <tr>\n",
       "      <th>num_contas_bancarias</th>\n",
       "      <td>5.38</td>\n",
       "      <td>2.60</td>\n",
       "      <td>0.00</td>\n",
       "      <td>3.00</td>\n",
       "      <td>6.00</td>\n",
       "      <td>7.00</td>\n",
       "      <td>10.00</td>\n",
       "      <td>-0.19</td>\n",
       "      <td>-0.70</td>\n",
       "    </tr>\n",
       "    <tr>\n",
       "      <th>num_cartoes_credito</th>\n",
       "      <td>5.55</td>\n",
       "      <td>2.08</td>\n",
       "      <td>1.00</td>\n",
       "      <td>4.00</td>\n",
       "      <td>5.00</td>\n",
       "      <td>7.00</td>\n",
       "      <td>28.00</td>\n",
       "      <td>0.36</td>\n",
       "      <td>1.20</td>\n",
       "    </tr>\n",
       "    <tr>\n",
       "      <th>dias_atraso_dt_venc</th>\n",
       "      <td>20.99</td>\n",
       "      <td>14.80</td>\n",
       "      <td>-5.00</td>\n",
       "      <td>10.00</td>\n",
       "      <td>18.00</td>\n",
       "      <td>28.00</td>\n",
       "      <td>67.00</td>\n",
       "      <td>0.97</td>\n",
       "      <td>0.37</td>\n",
       "    </tr>\n",
       "    <tr>\n",
       "      <th>num_pgtos_atrasados</th>\n",
       "      <td>13.40</td>\n",
       "      <td>6.09</td>\n",
       "      <td>0.00</td>\n",
       "      <td>9.00</td>\n",
       "      <td>14.00</td>\n",
       "      <td>18.00</td>\n",
       "      <td>28.00</td>\n",
       "      <td>-0.21</td>\n",
       "      <td>-0.52</td>\n",
       "    </tr>\n",
       "    <tr>\n",
       "      <th>num_consultas_credito</th>\n",
       "      <td>4.92</td>\n",
       "      <td>3.49</td>\n",
       "      <td>0.00</td>\n",
       "      <td>2.00</td>\n",
       "      <td>4.00</td>\n",
       "      <td>8.00</td>\n",
       "      <td>12.00</td>\n",
       "      <td>0.39</td>\n",
       "      <td>-0.91</td>\n",
       "    </tr>\n",
       "    <tr>\n",
       "      <th>taxa_juros</th>\n",
       "      <td>14.60</td>\n",
       "      <td>8.79</td>\n",
       "      <td>1.00</td>\n",
       "      <td>8.00</td>\n",
       "      <td>13.00</td>\n",
       "      <td>20.00</td>\n",
       "      <td>91.00</td>\n",
       "      <td>0.59</td>\n",
       "      <td>0.16</td>\n",
       "    </tr>\n",
       "  </tbody>\n",
       "</table>\n",
       "</div>"
      ],
      "text/plain": [
       "Summary Statistic             mean          std       min       25%       50%  \\\n",
       "id_cliente                6,210.53     3,603.24      1.00  3,091.75  6,172.50   \n",
       "idade                        37.68        11.41     18.00     28.00     38.00   \n",
       "saldo_atual                 404.53       217.70      0.09    272.36    337.17   \n",
       "divida_atual              1,437.09     1,156.26      0.23    573.62  1,175.73   \n",
       "renda_anual             195,037.27 1,454,273.73 10,473.87 26,207.90 45,991.11   \n",
       "valor_em_investimentos      612.00     2,002.44      0.00     76.08    134.20   \n",
       "taxa_utilizacao_credito      32.27         5.11     20.99     28.08     32.26   \n",
       "num_emprestimos               3.54         2.45      0.00      2.00      3.00   \n",
       "num_contas_bancarias          5.38         2.60      0.00      3.00      6.00   \n",
       "num_cartoes_credito           5.55         2.08      1.00      4.00      5.00   \n",
       "dias_atraso_dt_venc          20.99        14.80     -5.00     10.00     18.00   \n",
       "num_pgtos_atrasados          13.40         6.09      0.00      9.00     14.00   \n",
       "num_consultas_credito         4.92         3.49      0.00      2.00      4.00   \n",
       "taxa_juros                   14.60         8.79      1.00      8.00     13.00   \n",
       "\n",
       "Summary Statistic             75%           max  skewness  kurtosis  \n",
       "id_cliente               9,320.25     12,500.00      0.01     -1.20  \n",
       "idade                       46.00        101.00      0.21     -0.85  \n",
       "saldo_atual                471.26      1,602.04      1.62      3.10  \n",
       "divida_atual             1,963.33      4,998.07      1.19      0.85  \n",
       "renda_anual             80,449.83 23,279,657.98     11.87    149.39  \n",
       "valor_em_investimentos     249.18     10,000.00      4.44     17.87  \n",
       "taxa_utilizacao_credito     36.46         49.56      0.04     -0.92  \n",
       "num_emprestimos              5.00         19.00      0.46     -0.47  \n",
       "num_contas_bancarias         7.00         10.00     -0.19     -0.70  \n",
       "num_cartoes_credito          7.00         28.00      0.36      1.20  \n",
       "dias_atraso_dt_venc         28.00         67.00      0.97      0.37  \n",
       "num_pgtos_atrasados         18.00         28.00     -0.21     -0.52  \n",
       "num_consultas_credito        8.00         12.00      0.39     -0.91  \n",
       "taxa_juros                  20.00         91.00      0.59      0.16  "
      ]
     },
     "metadata": {},
     "output_type": "display_data"
    }
   ],
   "source": [
    "display_stats(data_eda)"
   ]
  },
  {
   "cell_type": "code",
   "execution_count": 460,
   "id": "1475379a",
   "metadata": {},
   "outputs": [],
   "source": [
    "datacon =data.loc[data['limite_adicional']=='Conceder']\n",
    "dataneg =data.loc[data['limite_adicional']=='Negar']"
   ]
  },
  {
   "cell_type": "code",
   "execution_count": 461,
   "id": "41ec3b65",
   "metadata": {},
   "outputs": [
    {
     "data": {
      "text/plain": [
       "(8.0, 21.0)"
      ]
     },
     "execution_count": 461,
     "metadata": {},
     "output_type": "execute_result"
    }
   ],
   "source": [
    "datacon['dias_atraso_dt_venc'].median() , dataneg['dias_atraso_dt_venc'].median()"
   ]
  },
  {
   "cell_type": "code",
   "execution_count": 462,
   "id": "dc9fc172",
   "metadata": {},
   "outputs": [
    {
     "data": {
      "text/plain": [
       "(69617.7545, 44744.87682)"
      ]
     },
     "execution_count": 462,
     "metadata": {},
     "output_type": "execute_result"
    }
   ],
   "source": [
    "datacon['renda_anual'].median() , dataneg['renda_anual'].median()"
   ]
  },
  {
   "cell_type": "code",
   "execution_count": 463,
   "id": "ee171bf7",
   "metadata": {},
   "outputs": [
    {
     "data": {
      "text/plain": [
       "(732.51, 1293.86)"
      ]
     },
     "execution_count": 463,
     "metadata": {},
     "output_type": "execute_result"
    }
   ],
   "source": [
    "datacon['divida_atual'].median() , dataneg['divida_atual'].median()"
   ]
  },
  {
   "cell_type": "code",
   "execution_count": 464,
   "id": "985207e3",
   "metadata": {},
   "outputs": [
    {
     "data": {
      "text/plain": [
       "(6.0, 16.0)"
      ]
     },
     "execution_count": 464,
     "metadata": {},
     "output_type": "execute_result"
    }
   ],
   "source": [
    "datacon['taxa_juros'].median() , dataneg['taxa_juros'].median()"
   ]
  },
  {
   "cell_type": "markdown",
   "id": "cc090b47",
   "metadata": {},
   "source": [
    "## Data Preparation"
   ]
  },
  {
   "cell_type": "code",
   "execution_count": 17,
   "id": "813d5a90",
   "metadata": {},
   "outputs": [],
   "source": [
    "data_prep = data_new.copy()"
   ]
  },
  {
   "cell_type": "markdown",
   "id": "43388ee2",
   "metadata": {},
   "source": [
    "## Dealing with Outliers"
   ]
  },
  {
   "cell_type": "code",
   "execution_count": 19,
   "id": "f87436f5",
   "metadata": {},
   "outputs": [],
   "source": [
    "def outliers(data, factor=10, p1=0.25, p2=0.75):\n",
    "\n",
    "    data.drop(\"renda_anual\", axis=1)\n",
    "    q1 = data.quantile(p1)\n",
    "    q3 = data.quantile(p2)\n",
    "\n",
    "    IQR = q3 -q1 \n",
    "    \n",
    "    q1_to_min = data < (q1 -factor*IQR)\n",
    "    q3_to_max = data > (q3 +factor*IQR)\n",
    "    \n",
    "    df_without_outliers = data[~((q1_to_min) | (q3_to_max)).any(axis=1)]\n",
    "    df_with_outliers = data[((q1_to_min) | (q3_to_max)).any(axis=1)]\n",
    "    \n",
    "#     df_without_outliers = data[~((data < (q1 -factor*IQR)) | (data > (q3 +factor*IQR))).any(axis=1)]\n",
    "#     df_with_outliers = data[((data < (q1 -factor*IQR)) | (data > (q3 +factor*IQR))).any(axis=1)]\n",
    "    print(\"Rows Dropped:\", df_with_outliers.shape[0]) \n",
    "    print(\"Rows Remaning:\", len(df_without_outliers))    \n",
    "    #print(df_without_outliers.limite_adicional.value_counts(normalize=True))\n",
    "    return df_without_outliers, df_with_outliers"
   ]
  },
  {
   "cell_type": "code",
   "execution_count": 20,
   "id": "967f3481",
   "metadata": {},
   "outputs": [
    {
     "name": "stdout",
     "output_type": "stream",
     "text": [
      "Rows Dropped: 93\n",
      "Rows Remaning: 9407\n"
     ]
    },
    {
     "name": "stderr",
     "output_type": "stream",
     "text": [
      "C:\\Users\\Alysson\\AppData\\Local\\Temp/ipykernel_10860/1589817791.py:9: FutureWarning: Automatic reindexing on DataFrame vs Series comparisons is deprecated and will raise ValueError in a future version.  Do `left, right = left.align(right, axis=1, copy=False)` before e.g. `left == right`\n",
      "  q1_to_min = data < (q1 -factor*IQR)\n",
      "C:\\Users\\Alysson\\AppData\\Local\\Temp/ipykernel_10860/1589817791.py:10: FutureWarning: Automatic reindexing on DataFrame vs Series comparisons is deprecated and will raise ValueError in a future version.  Do `left, right = left.align(right, axis=1, copy=False)` before e.g. `left == right`\n",
      "  q3_to_max = data > (q3 +factor*IQR)\n"
     ]
    }
   ],
   "source": [
    "categorical_df, df_outliers =outliers(data_prep, factor=75)"
   ]
  },
  {
   "cell_type": "markdown",
   "id": "f354afef",
   "metadata": {},
   "source": [
    "## Normalization"
   ]
  },
  {
   "cell_type": "code",
   "execution_count": 21,
   "id": "15898158",
   "metadata": {},
   "outputs": [],
   "source": [
    "def apply_log(data):\n",
    "    drop_features =['id_cliente', 'dias_atraso_dt_venc']    #dias_atraso_dt_venc have negative values which cant be used on log operation\n",
    "    numerical =  data.select_dtypes(include=[\"number\"]).drop(drop_features, axis=1)\n",
    "    numerical_features = numerical.columns\n",
    "\n",
    "    log_columns = data[numerical_features].skew().sort_values(ascending=False)\n",
    "    log_columns = log_columns.loc[log_columns > 0.75] # to apply log1p only in features with skill higher than 0.75\n",
    "    for col in log_columns.index:\n",
    "          data[col] = np.log1p(data_prep[col])             \n",
    "    #data_prep[numerical_features].hist(figsize=(18,15), bins='auto');\n"
   ]
  },
  {
   "cell_type": "code",
   "execution_count": 22,
   "id": "34d1e8c9",
   "metadata": {},
   "outputs": [
    {
     "data": {
      "text/plain": [
       "id_cliente                 0\n",
       "idade                      0\n",
       "saldo_atual                0\n",
       "divida_atual               0\n",
       "renda_anual                0\n",
       "valor_em_investimentos     0\n",
       "taxa_utilizacao_credito    0\n",
       "num_emprestimos            0\n",
       "num_contas_bancarias       0\n",
       "num_cartoes_credito        0\n",
       "dias_atraso_dt_venc        0\n",
       "num_pgtos_atrasados        0\n",
       "num_consultas_credito      0\n",
       "taxa_juros                 0\n",
       "investe_exterior           0\n",
       "pessoa_polit_exp           0\n",
       "limite_adicional           0\n",
       "dtype: int64"
      ]
     },
     "execution_count": 22,
     "metadata": {},
     "output_type": "execute_result"
    }
   ],
   "source": [
    "data_prep.isna().sum()"
   ]
  },
  {
   "cell_type": "code",
   "execution_count": 23,
   "id": "bc87e2c5",
   "metadata": {},
   "outputs": [],
   "source": [
    "apply_log(data_prep)"
   ]
  },
  {
   "cell_type": "markdown",
   "id": "bb805eff",
   "metadata": {},
   "source": [
    "## Encoding"
   ]
  },
  {
   "cell_type": "code",
   "execution_count": 24,
   "id": "fac03407",
   "metadata": {},
   "outputs": [],
   "source": [
    "le = LabelEncoder()\n",
    "\n",
    "data_prep['investe_exterior'] = data_prep['investe_exterior'].apply(lambda x: 0 if x =='Não' else 1)\n",
    "data_prep['pessoa_polit_exp'] = data_prep['pessoa_polit_exp'].apply(lambda x: 0 if x =='Não' else 1)\n",
    "data_prep['limite_adicional'] = le.fit_transform(data_prep['limite_adicional'])"
   ]
  },
  {
   "cell_type": "markdown",
   "id": "e320000d",
   "metadata": {},
   "source": [
    "# Modeling"
   ]
  },
  {
   "cell_type": "markdown",
   "id": "025d348b",
   "metadata": {},
   "source": [
    "## Selected Features"
   ]
  },
  {
   "cell_type": "code",
   "execution_count": 25,
   "id": "0eb03d36",
   "metadata": {},
   "outputs": [],
   "source": [
    "'''\n",
    "Best Features XGB: taxa_juros, num_cartoes_credito, num_consultas_credito, dias_atraso_dt_venc, num_contas_bancarias\n",
    "Best Features RF: taxa_juros, num_cartoes_credito, dias_atraso_dt_venc, num_pgmtos, divida_atual\n",
    "\n",
    "Bellow all default and selected features of Dataframe\n",
    "\n",
    "'''\n",
    "\n",
    "target = 'limite_adicional' \n",
    "\n",
    "\n",
    "selected_features = [#'saldo_atual',\n",
    "                     #'idade',\n",
    "                     'divida_atual', \n",
    "                     #'renda_anual',\n",
    "                     #'valor_em_investimentos', \n",
    "                     #'taxa_utilizacao_credito', \n",
    "                     'num_emprestimos',\n",
    "                     'num_contas_bancarias', \n",
    "                     'num_cartoes_credito', \n",
    "                     'dias_atraso_dt_venc',\n",
    "                     'num_pgtos_atrasados',\n",
    "                     'num_consultas_credito', \n",
    "                     'taxa_juros',\n",
    "                     #'investe_exterior', \n",
    "                     #'pessoa_polit_exp',\n",
    "                     #'dias_adiantamento_dt_venc'\n",
    "                    ] \n",
    "\n",
    "\n",
    "y = data_prep[target]\n",
    "X = data_prep[selected_features]"
   ]
  },
  {
   "cell_type": "markdown",
   "id": "e7266ddf",
   "metadata": {},
   "source": [
    "# Train-Test Split"
   ]
  },
  {
   "cell_type": "code",
   "execution_count": 26,
   "id": "d9b6c256",
   "metadata": {},
   "outputs": [
    {
     "data": {
      "text/plain": [
       "((6650, 8), (6650,), (2850, 8), (2850,))"
      ]
     },
     "execution_count": 26,
     "metadata": {},
     "output_type": "execute_result"
    }
   ],
   "source": [
    "seed=7\n",
    "X_train, X_val, y_train, y_val = train_test_split(X, y, test_size = 0.3, stratify=y, random_state=seed)\n",
    "X_train.shape, y_train.shape, X_val.shape, y_val.shape"
   ]
  },
  {
   "cell_type": "markdown",
   "id": "d6adf410",
   "metadata": {},
   "source": [
    "##  Random Forest Classifier\n",
    "\n",
    "**Holdout and Cross Validation**\n",
    " - Standard, up-weight minority class, Over Sampling, Under Sampling"
   ]
  },
  {
   "cell_type": "code",
   "execution_count": 27,
   "id": "a6ad7c35",
   "metadata": {},
   "outputs": [],
   "source": [
    "def CM(y, y_pred):\n",
    "    print(\"Confusion Matrix:\")\n",
    "    labels = [\"Conceder\", \"Negar\"]\n",
    "    cm = confusion_matrix(y, y_pred)\n",
    "    disp = ConfusionMatrixDisplay(confusion_matrix=cm, display_labels=labels)\n",
    "    disp.plot(cmap=\"binary\", values_format=\"d\")  \n",
    "    plt.show() \n",
    "    print(\"Metrics \\n\", classification_report(y,y_pred))   "
   ]
  },
  {
   "cell_type": "code",
   "execution_count": 28,
   "id": "494e9953",
   "metadata": {},
   "outputs": [],
   "source": [
    "def holdout(model, X, y):    \n",
    "    model.fit(X, y)\n",
    "    y_pred = model.predict(X_val)\n",
    "    CM(y_val,y_pred)\n",
    "    n=25\n",
    "    print(f\"first {n} Predictions: {y_pred[0:n]}\\n\")       "
   ]
  },
  {
   "cell_type": "markdown",
   "id": "06557a56",
   "metadata": {},
   "source": [
    "### Holdout"
   ]
  },
  {
   "cell_type": "code",
   "execution_count": 29,
   "id": "4284c7b5",
   "metadata": {},
   "outputs": [],
   "source": [
    "#rf = RandomForestClassifier(random_state=seed)"
   ]
  },
  {
   "cell_type": "code",
   "execution_count": 30,
   "id": "ccbca5eb",
   "metadata": {},
   "outputs": [],
   "source": [
    "# #Holdout\n",
    "# holdout(rf, X_train, y_train)"
   ]
  },
  {
   "cell_type": "code",
   "execution_count": 31,
   "id": "050a6670",
   "metadata": {},
   "outputs": [],
   "source": [
    "# #Holdout\n",
    "# smt=SMOTE()\n",
    "# X_resampled, y_resampled = smt.fit_resample(X_train,y_train)\n",
    "# print(\"Minority/Majority Class, Non-Smote:\", np.bincount(y))\n",
    "# print(\"Minority/Majority Class, Smote:\", np.bincount(y_resampled))\n",
    "# print(\"\\n\")\n",
    "\n",
    "# holdout(rf, X_resampled, y_resampled)"
   ]
  },
  {
   "cell_type": "code",
   "execution_count": 32,
   "id": "d0ea7831",
   "metadata": {},
   "outputs": [],
   "source": [
    "# # #Holdout\n",
    "# tl = TomekLinks()\n",
    "# X_resampled, y_resampled = tl.fit_resample(X_train,y_train)\n",
    "# print(\"Minority/Majority Class, Non-TomekLinks:\", np.bincount(y))\n",
    "# print(\"Minority/Majority Class, TomekLinks:\", np.bincount(y_resampled))\n",
    "# print(\"\\n\")\n",
    "\n",
    "# holdout(rf, X_resampled, y_resampled)"
   ]
  },
  {
   "cell_type": "markdown",
   "id": "077f82d3",
   "metadata": {},
   "source": [
    "### Cross Validation"
   ]
  },
  {
   "cell_type": "code",
   "execution_count": 33,
   "id": "a6980f3c",
   "metadata": {},
   "outputs": [],
   "source": [
    "def CVS(model, X, y, model_dict=''):    \n",
    "    \n",
    "    number_folds = 4\n",
    "    #Kfold = KFold(n_splits=number_folds, shuffle=True, random_state=seed)\n",
    "    Kfold = StratifiedKFold(n_splits=number_folds, shuffle=True, random_state=seed)\n",
    "    \n",
    "    scoring = {'Accuracy': make_scorer(accuracy_score),\n",
    "               'Precision': make_scorer(precision_score),\n",
    "               'f1': make_scorer(f1_score),\n",
    "               'Recall': make_scorer(recall_score)}    \n",
    "\n",
    "    y_pred = cross_val_predict(model, X, y, cv=number_folds, method='predict')\n",
    "   \n",
    "    CM(y,y_pred)\n",
    "   \n",
    "    scores = cross_validate(model, X, y, cv = Kfold, scoring=scoring)\n",
    "    \n",
    "    for chave, valor in scores.items():\n",
    "        print(f\"{chave}, over {number_folds} folds attempts: {round(np.mean(valor),5)} +/- {round(np.std(valor),5)}\")        \n",
    "    print(\"\\n\") \n",
    "    print(f\"Minority/Majority Class Prediction, {model_dict}:\", np.bincount(y_pred))\n",
    "    print(\"\\n\")\n",
    "    n=25\n",
    "    print(f\"First {n} Predictions: {y_pred[0:n]}\\nLast {n} Predictions: {y_pred[n:0:-1]} \\n\")   \n",
    "    \n",
    "    return y_pred"
   ]
  },
  {
   "cell_type": "code",
   "execution_count": 34,
   "id": "c7aa787c",
   "metadata": {},
   "outputs": [],
   "source": [
    "## Random Forest - Without Sampling technique\n",
    "rf_standard = RandomForestClassifier()\n",
    "\n",
    "## Random Forest - Applying up-weight on Minority Class\n",
    "weight = int(y.value_counts()[1]/y.value_counts()[0])\n",
    "rf_weighted = RandomForestClassifier(class_weight={0: 1, 1: weight})\n",
    "\n",
    "\n",
    "## Random Forest - Applying OverSampling, SMOTE\n",
    "rf_oversampled = make_pipeline(\n",
    "        SMOTE(),\n",
    "        RandomForestClassifier())\n",
    "\n",
    "## Random Forest - Applying UnderSampling, TomekLink\n",
    "rf_undersampled = make_pipeline(\n",
    "        TomekLinks(),\n",
    "        RandomForestClassifier())"
   ]
  },
  {
   "cell_type": "code",
   "execution_count": 35,
   "id": "1e7652fb",
   "metadata": {},
   "outputs": [
    {
     "name": "stdout",
     "output_type": "stream",
     "text": [
      "*****************************************************\n",
      "Random Forest - Without Sampling Technique\n",
      "*****************************************************\n",
      "Confusion Matrix:\n"
     ]
    },
    {
     "data": {
      "image/png": "[encoded data removed]",
      "text/plain": [
       "<Figure size 432x288 with 2 Axes>"
      ]
     },
     "metadata": {
      "needs_background": "light"
     },
     "output_type": "display_data"
    },
    {
     "name": "stdout",
     "output_type": "stream",
     "text": [
      "Metrics \n",
      "               precision    recall  f1-score   support\n",
      "\n",
      "           0       0.62      0.50      0.55      1505\n",
      "           1       0.91      0.94      0.93      7995\n",
      "\n",
      "    accuracy                           0.87      9500\n",
      "   macro avg       0.77      0.72      0.74      9500\n",
      "weighted avg       0.86      0.87      0.87      9500\n",
      "\n",
      "fit_time, over 4 folds attempts: 0.33791 +/- 0.0041\n",
      "score_time, over 4 folds attempts: 0.0282 +/- 0.00063\n",
      "test_Accuracy, over 4 folds attempts: 0.87389 +/- 0.00645\n",
      "test_Precision, over 4 folds attempts: 0.90901 +/- 0.00064\n",
      "test_f1, over 4 folds attempts: 0.92651 +/- 0.00403\n",
      "test_Recall, over 4 folds attempts: 0.94472 +/- 0.00786\n",
      "\n",
      "\n",
      "Minority/Majority Class Prediction, Random Forest - Without Sampling Technique: [1203 8297]\n",
      "\n",
      "\n",
      "First 25 Predictions: [1 1 1 1 1 1 1 1 1 1 1 1 1 1 1 1 1 1 1 0 0 1 1 0 1]\n",
      "Last 25 Predictions: [1 1 0 1 1 0 0 1 1 1 1 1 1 1 1 1 1 1 1 1 1 1 1 1 1] \n",
      "\n",
      "*****************************************************\n",
      "Random Forest - Applying up-weight on Minority Class\n",
      "*****************************************************\n",
      "Confusion Matrix:\n"
     ]
    },
    {
     "data": {
      "image/png": "[encoded data removed]",
      "text/plain": [
       "<Figure size 432x288 with 2 Axes>"
      ]
     },
     "metadata": {
      "needs_background": "light"
     },
     "output_type": "display_data"
    },
    {
     "name": "stdout",
     "output_type": "stream",
     "text": [
      "Metrics \n",
      "               precision    recall  f1-score   support\n",
      "\n",
      "           0       0.61      0.53      0.57      1505\n",
      "           1       0.91      0.94      0.93      7995\n",
      "\n",
      "    accuracy                           0.87      9500\n",
      "   macro avg       0.76      0.74      0.75      9500\n",
      "weighted avg       0.87      0.87      0.87      9500\n",
      "\n",
      "fit_time, over 4 folds attempts: 0.35232 +/- 0.00506\n",
      "score_time, over 4 folds attempts: 0.02828 +/- 0.00042\n",
      "test_Accuracy, over 4 folds attempts: 0.87158 +/- 0.00639\n",
      "test_Precision, over 4 folds attempts: 0.91427 +/- 0.00066\n",
      "test_f1, over 4 folds attempts: 0.92454 +/- 0.00407\n",
      "test_Recall, over 4 folds attempts: 0.93508 +/- 0.0082\n",
      "\n",
      "\n",
      "Minority/Majority Class Prediction, Random Forest - Applying up-weight on Minority Class: [1317 8183]\n",
      "\n",
      "\n",
      "First 25 Predictions: [1 1 1 1 1 1 1 1 1 1 1 1 1 1 1 1 1 1 1 1 0 1 1 0 1]\n",
      "Last 25 Predictions: [1 1 0 1 1 0 1 1 1 1 1 1 1 1 1 1 1 1 1 1 1 1 1 1 1] \n",
      "\n",
      "*****************************************************\n",
      "Random Forest - Applying OverSampling, SMOTE\n",
      "*****************************************************\n",
      "Confusion Matrix:\n"
     ]
    },
    {
     "data": {
      "image/png": "[encoded data removed]",
      "text/plain": [
       "<Figure size 432x288 with 2 Axes>"
      ]
     },
     "metadata": {
      "needs_background": "light"
     },
     "output_type": "display_data"
    },
    {
     "name": "stdout",
     "output_type": "stream",
     "text": [
      "Metrics \n",
      "               precision    recall  f1-score   support\n",
      "\n",
      "           0       0.54      0.74      0.63      1505\n",
      "           1       0.95      0.88      0.91      7995\n",
      "\n",
      "    accuracy                           0.86      9500\n",
      "   macro avg       0.74      0.81      0.77      9500\n",
      "weighted avg       0.88      0.86      0.87      9500\n",
      "\n",
      "fit_time, over 4 folds attempts: 0.71653 +/- 0.00617\n",
      "score_time, over 4 folds attempts: 0.03153 +/- 0.00051\n",
      "test_Accuracy, over 4 folds attempts: 0.85695 +/- 0.0041\n",
      "test_Precision, over 4 folds attempts: 0.94822 +/- 0.0057\n",
      "test_f1, over 4 folds attempts: 0.91173 +/- 0.00298\n",
      "test_Recall, over 4 folds attempts: 0.87805 +/- 0.00893\n",
      "\n",
      "\n",
      "Minority/Majority Class Prediction, Random Forest - Applying OverSampling, SMOTE: [2070 7430]\n",
      "\n",
      "\n",
      "First 25 Predictions: [1 1 1 0 1 1 1 1 1 1 1 1 1 1 1 1 1 1 1 0 0 1 1 0 1]\n",
      "Last 25 Predictions: [1 1 0 1 1 0 0 1 1 1 1 1 1 1 1 1 1 1 1 1 1 1 0 1 1] \n",
      "\n",
      "*****************************************************\n",
      "Random Forest - Applying UnderSampling, Tomkelink\n",
      "*****************************************************\n",
      "Confusion Matrix:\n"
     ]
    },
    {
     "data": {
      "image/png": "[encoded data removed]",
      "text/plain": [
       "<Figure size 432x288 with 2 Axes>"
      ]
     },
     "metadata": {
      "needs_background": "light"
     },
     "output_type": "display_data"
    },
    {
     "name": "stdout",
     "output_type": "stream",
     "text": [
      "Metrics \n",
      "               precision    recall  f1-score   support\n",
      "\n",
      "           0       0.60      0.61      0.61      1505\n",
      "           1       0.93      0.92      0.92      7995\n",
      "\n",
      "    accuracy                           0.87      9500\n",
      "   macro avg       0.76      0.77      0.77      9500\n",
      "weighted avg       0.87      0.87      0.87      9500\n",
      "\n",
      "fit_time, over 4 folds attempts: 0.40217 +/- 0.02741\n",
      "score_time, over 4 folds attempts: 0.02801 +/- 0.00069\n",
      "test_Accuracy, over 4 folds attempts: 0.874 +/- 0.00372\n",
      "test_Precision, over 4 folds attempts: 0.92843 +/- 0.00264\n",
      "test_f1, over 4 folds attempts: 0.92485 +/- 0.00245\n",
      "test_Recall, over 4 folds attempts: 0.92133 +/- 0.00598\n",
      "\n",
      "\n",
      "Minority/Majority Class Prediction, Random Forest - Applying UnderSampling, Tomkelink: [1539 7961]\n",
      "\n",
      "\n",
      "First 25 Predictions: [1 1 1 1 1 1 1 1 1 1 1 1 1 1 1 1 1 1 1 0 0 1 1 0 1]\n",
      "Last 25 Predictions: [1 1 0 1 1 0 0 1 1 1 1 1 1 1 1 1 1 1 1 1 1 1 1 1 1] \n",
      "\n"
     ]
    }
   ],
   "source": [
    "pipelines_rf = [rf_standard, rf_weighted, rf_oversampled, rf_undersampled]\n",
    "pipe_dict_rf = {0:'Random Forest - Without Sampling Technique', \n",
    "                1:'Random Forest - Applying up-weight on Minority Class', \n",
    "                2:'Random Forest - Applying OverSampling, SMOTE',\n",
    "                3:'Random Forest - Applying UnderSampling, Tomkelink'}\n",
    "\n",
    "for i,model in enumerate(pipelines_rf): \n",
    "    print('*' * 53) \n",
    "    print(f\"{pipe_dict_rf[i]}\") \n",
    "    print('*' * 53)     \n",
    "    CVS(model,X,y,pipe_dict_rf[i])    "
   ]
  },
  {
   "cell_type": "markdown",
   "id": "19ea809d",
   "metadata": {},
   "source": [
    "## XGBOOST Classifier\n",
    "\n",
    "**Holdout**\n",
    " - Standard, up-weight minority class, Over Sampling, Under Sampling\n",
    " \n",
    "**Cross Validation**\n",
    "  - Standard, up-weight minority class, Over Sampling, Under Sampling"
   ]
  },
  {
   "cell_type": "markdown",
   "id": "8d26b6e9",
   "metadata": {},
   "source": [
    "### Holdout"
   ]
  },
  {
   "cell_type": "code",
   "execution_count": 36,
   "id": "ba736a80",
   "metadata": {},
   "outputs": [],
   "source": [
    "# xgb= XGBClassifier(random_state=seed)"
   ]
  },
  {
   "cell_type": "code",
   "execution_count": 37,
   "id": "f60fb146",
   "metadata": {},
   "outputs": [],
   "source": [
    "#Holdout - Using OverSampling technique, SMOTE\n",
    "# holdout(xgb, X_train, y_train)"
   ]
  },
  {
   "cell_type": "code",
   "execution_count": 38,
   "id": "0d36ad1c",
   "metadata": {},
   "outputs": [],
   "source": [
    "# #Holdout - Using OverSampling technique, SMOTE\n",
    "# smt=SMOTE()\n",
    "# X_resampled, y_resampled = smt.fit_resample(X_train,y_train)\n",
    "# print(\"Minority/Majority Class, Non-Smote:\", np.bincount(y))\n",
    "# print(\"Minority/Majority Class, Smote:\", np.bincount(y_resampled))\n",
    "\n",
    "# holdout(xgb, X_resampled, y_resampled)"
   ]
  },
  {
   "cell_type": "code",
   "execution_count": 42,
   "id": "0992d1f6",
   "metadata": {},
   "outputs": [],
   "source": [
    "## XGBOOST Classifier - Without Sampling technique\n",
    "xgb_standard = XGBClassifier()\n",
    "\n",
    "## XGBOOST Classifier - Applying up-weight on Minority Class\n",
    "weight = int(y.value_counts()[1]/y.value_counts()[0])\n",
    "xgb_weighted = XGBClassifier(scale_pos_weight=weight)\n",
    "\n",
    "\n",
    "## XGBOOST Classifier - Applying OverSampling, SMOTE\n",
    "xgb_oversampled = make_pipeline(\n",
    "        SMOTE(),\n",
    "        XGBClassifier())\n",
    "\n",
    "## XGBOOST Classifier - Applying UnderSampling, TomekLink\n",
    "xgb_undersampled = make_pipeline(\n",
    "        TomekLinks(),\n",
    "        XGBClassifier())"
   ]
  },
  {
   "cell_type": "code",
   "execution_count": 43,
   "id": "cba6541d",
   "metadata": {},
   "outputs": [
    {
     "name": "stdout",
     "output_type": "stream",
     "text": [
      "*****************************************************\n",
      "XGBoost Classifier - Without Sampling Technique\n",
      "*****************************************************\n",
      "Confusion Matrix:\n"
     ]
    },
    {
     "data": {
      "image/png": "[encoded data removed]",
      "text/plain": [
       "<Figure size 432x288 with 2 Axes>"
      ]
     },
     "metadata": {
      "needs_background": "light"
     },
     "output_type": "display_data"
    },
    {
     "name": "stdout",
     "output_type": "stream",
     "text": [
      "Metrics \n",
      "               precision    recall  f1-score   support\n",
      "\n",
      "           0       0.60      0.51      0.55      1505\n",
      "           1       0.91      0.94      0.92      7995\n",
      "\n",
      "    accuracy                           0.87      9500\n",
      "   macro avg       0.75      0.72      0.73      9500\n",
      "weighted avg       0.86      0.87      0.86      9500\n",
      "\n",
      "fit_time, over 4 folds attempts: 0.19075 +/- 0.00258\n",
      "score_time, over 4 folds attempts: 0.008 +/- 0.0\n",
      "test_Accuracy, over 4 folds attempts: 0.86463 +/- 0.00576\n",
      "test_Precision, over 4 folds attempts: 0.90747 +/- 0.00343\n",
      "test_f1, over 4 folds attempts: 0.92074 +/- 0.00369\n",
      "test_Recall, over 4 folds attempts: 0.93446 +/- 0.00857\n",
      "\n",
      "\n",
      "Minority/Majority Class Prediction, : [1276 8224]\n",
      "\n",
      "\n",
      "First 25 Predictions: [1 1 1 1 1 1 1 1 1 1 1 1 1 1 1 1 1 1 1 0 0 1 1 0 1]\n",
      "Last 25 Predictions: [1 1 0 1 1 0 0 1 1 1 1 1 1 1 1 1 1 1 1 1 1 1 1 1 1] \n",
      "\n",
      "*****************************************************\n",
      "XGBoost Classifier - Applying up-weight on Minority Class\n",
      "*****************************************************\n",
      "Confusion Matrix:\n"
     ]
    },
    {
     "data": {
      "image/png": "[encoded data removed]",
      "text/plain": [
       "<Figure size 432x288 with 2 Axes>"
      ]
     },
     "metadata": {
      "needs_background": "light"
     },
     "output_type": "display_data"
    },
    {
     "name": "stdout",
     "output_type": "stream",
     "text": [
      "Metrics \n",
      "               precision    recall  f1-score   support\n",
      "\n",
      "           0       0.67      0.31      0.43      1505\n",
      "           1       0.88      0.97      0.92      7995\n",
      "\n",
      "    accuracy                           0.87      9500\n",
      "   macro avg       0.78      0.64      0.68      9500\n",
      "weighted avg       0.85      0.87      0.85      9500\n",
      "\n",
      "fit_time, over 4 folds attempts: 0.1915 +/- 0.0026\n",
      "score_time, over 4 folds attempts: 0.00725 +/- 0.00043\n",
      "test_Accuracy, over 4 folds attempts: 0.87032 +/- 0.00328\n",
      "test_Precision, over 4 folds attempts: 0.88164 +/- 0.00409\n",
      "test_f1, over 4 folds attempts: 0.92691 +/- 0.00171\n",
      "test_Recall, over 4 folds attempts: 0.97711 +/- 0.00332\n",
      "\n",
      "\n",
      "Minority/Majority Class Prediction, : [ 703 8797]\n",
      "\n",
      "\n",
      "First 25 Predictions: [1 1 1 1 1 1 1 1 1 1 1 1 1 1 1 1 1 1 1 1 0 1 1 0 1]\n",
      "Last 25 Predictions: [1 1 0 1 1 0 1 1 1 1 1 1 1 1 1 1 1 1 1 1 1 1 1 1 1] \n",
      "\n",
      "*****************************************************\n",
      "XGBoost Classifier - Applying OverSampling, SMOTE\n",
      "*****************************************************\n",
      "Confusion Matrix:\n"
     ]
    },
    {
     "data": {
      "image/png": "[encoded data removed]",
      "text/plain": [
       "<Figure size 432x288 with 2 Axes>"
      ]
     },
     "metadata": {
      "needs_background": "light"
     },
     "output_type": "display_data"
    },
    {
     "name": "stdout",
     "output_type": "stream",
     "text": [
      "Metrics \n",
      "               precision    recall  f1-score   support\n",
      "\n",
      "           0       0.55      0.65      0.60      1505\n",
      "           1       0.93      0.90      0.92      7995\n",
      "\n",
      "    accuracy                           0.86      9500\n",
      "   macro avg       0.74      0.78      0.76      9500\n",
      "weighted avg       0.87      0.86      0.86      9500\n",
      "\n",
      "fit_time, over 4 folds attempts: 0.38077 +/- 0.03355\n",
      "score_time, over 4 folds attempts: 0.008 +/- 0.00071\n",
      "test_Accuracy, over 4 folds attempts: 0.86021 +/- 0.00542\n",
      "test_Precision, over 4 folds attempts: 0.93294 +/- 0.00567\n",
      "test_f1, over 4 folds attempts: 0.91538 +/- 0.00361\n",
      "test_Recall, over 4 folds attempts: 0.89856 +/- 0.00906\n",
      "\n",
      "\n",
      "Minority/Majority Class Prediction, : [1792 7708]\n",
      "\n",
      "\n",
      "First 25 Predictions: [1 1 1 0 1 1 1 1 1 1 1 1 1 1 1 1 1 1 1 0 0 1 1 0 1]\n",
      "Last 25 Predictions: [1 1 0 1 1 0 0 1 1 1 1 1 1 1 1 1 1 1 1 1 1 1 0 1 1] \n",
      "\n",
      "*****************************************************\n",
      "XGBoost Classifier - Applying UnderSampling, TomekLink\n",
      "*****************************************************\n",
      "Confusion Matrix:\n"
     ]
    },
    {
     "data": {
      "image/png": "[encoded data removed]",
      "text/plain": [
       "<Figure size 432x288 with 2 Axes>"
      ]
     },
     "metadata": {
      "needs_background": "light"
     },
     "output_type": "display_data"
    },
    {
     "name": "stdout",
     "output_type": "stream",
     "text": [
      "Metrics \n",
      "               precision    recall  f1-score   support\n",
      "\n",
      "           0       0.57      0.60      0.59      1505\n",
      "           1       0.92      0.92      0.92      7995\n",
      "\n",
      "    accuracy                           0.87      9500\n",
      "   macro avg       0.75      0.76      0.75      9500\n",
      "weighted avg       0.87      0.87      0.87      9500\n",
      "\n",
      "fit_time, over 4 folds attempts: 0.267 +/- 0.0151\n",
      "score_time, over 4 folds attempts: 0.0075 +/- 0.0005\n",
      "test_Accuracy, over 4 folds attempts: 0.86253 +/- 0.00745\n",
      "test_Precision, over 4 folds attempts: 0.92149 +/- 0.00305\n",
      "test_f1, over 4 folds attempts: 0.918 +/- 0.00472\n",
      "test_Recall, over 4 folds attempts: 0.91457 +/- 0.00823\n",
      "\n",
      "\n",
      "Minority/Majority Class Prediction, : [1576 7924]\n",
      "\n",
      "\n",
      "First 25 Predictions: [1 1 1 1 1 1 1 1 1 1 1 1 1 1 1 1 1 1 1 0 0 1 1 0 1]\n",
      "Last 25 Predictions: [1 1 0 1 1 0 0 1 1 1 1 1 1 1 1 1 1 1 1 1 1 1 1 1 1] \n",
      "\n"
     ]
    }
   ],
   "source": [
    "pipelines_xgb = [xgb_standard, xgb_weighted, xgb_oversampled, xgb_undersampled]\n",
    "pipe_dict_xgb = {0:'XGBoost Classifier - Without Sampling Technique', \n",
    "                 1:'XGBoost Classifier - Applying up-weight on Minority Class', \n",
    "                 2:'XGBoost Classifier - Applying OverSampling, SMOTE',\n",
    "                 3:'XGBoost Classifier - Applying UnderSampling, TomekLink'}\n",
    "\n",
    "for i,model in enumerate(pipelines_xgb):    \n",
    "    print('*' * 53) \n",
    "    print(f\"{pipe_dict_xgb[i]}\") \n",
    "    print('*' * 53)\n",
    "    CVS(model,X,y)    "
   ]
  },
  {
   "cell_type": "markdown",
   "id": "3bb4a1ed",
   "metadata": {},
   "source": [
    "# Feature Selection \n",
    "\n",
    "**By Univariated Selection**\n",
    "- Pearson Correlation\n",
    "- SelectkBest - Anova\n",
    "    \n",
    "**By Importance - Tree Based Algorithms**\n",
    "- Random Forest\n",
    "- XGBoost\n",
    "    \n",
    "**By Mutal Information**"
   ]
  },
  {
   "cell_type": "code",
   "execution_count": 491,
   "id": "5ce82690",
   "metadata": {},
   "outputs": [
    {
     "data": {
      "image/png": "[encoded data removed]",
      "text/plain": [
       "<Figure size 1152x864 with 2 Axes>"
      ]
     },
     "metadata": {
      "needs_background": "light"
     },
     "output_type": "display_data"
    }
   ],
   "source": [
    "## Need to check if I can use normalized dada not the original?!?!?\n",
    "\n",
    "selected_numerical = pd.concat([-y, X],axis=1) #-y means if pearson conrrelation is negative\n",
    "\n",
    "mask = np.zeros_like(selected_numerical.corr(), dtype=bool) \n",
    "mask[np.triu_indices_from(mask)] = True \n",
    "\n",
    "f, ax = plt.subplots(figsize=(16, 12))\n",
    "\n",
    "plt.title('Pearson Correlation Matrix',fontsize=25)\n",
    "\n",
    "sns.heatmap(selected_numerical.corr(method='pearson'), linewidths=0.25,fmt=\".2f\", cmap=\"Blues\", linecolor='w',annot=True,annot_kws={\"size\":9},mask=mask,cbar_kws={\"shrink\": .9});"
   ]
  },
  {
   "cell_type": "code",
   "execution_count": 492,
   "id": "7721d3bc",
   "metadata": {},
   "outputs": [
    {
     "data": {
      "text/plain": [
       "limite_adicional        1.00\n",
       "taxa_juros              0.40\n",
       "num_pgtos_atrasados     0.40\n",
       "num_contas_bancarias    0.40\n",
       "num_consultas_credito   0.36\n",
       "dias_atraso_dt_venc     0.35\n",
       "num_cartoes_credito     0.35\n",
       "num_emprestimos         0.27\n",
       "divida_atual            0.23\n",
       "Name: limite_adicional, dtype: float64"
      ]
     },
     "execution_count": 492,
     "metadata": {},
     "output_type": "execute_result"
    }
   ],
   "source": [
    "selected_numerical.corr()['limite_adicional'].abs().sort_values(ascending = False)"
   ]
  },
  {
   "cell_type": "code",
   "execution_count": 493,
   "id": "1bfdbd96",
   "metadata": {},
   "outputs": [
    {
     "ename": "KeyError",
     "evalue": "\"None of [Index(['investe_exterior', 'pessoa_polit_exp'], dtype='object')] are in the [columns]\"",
     "output_type": "error",
     "traceback": [
      "\u001b[1;31m---------------------------------------------------------------------------\u001b[0m",
      "\u001b[1;31mKeyError\u001b[0m                                  Traceback (most recent call last)",
      "\u001b[1;32m~\\AppData\\Local\\Temp/ipykernel_8988/2967656481.py\u001b[0m in \u001b[0;36m<module>\u001b[1;34m\u001b[0m\n\u001b[0;32m      2\u001b[0m \u001b[1;33m\u001b[0m\u001b[0m\n\u001b[0;32m      3\u001b[0m \u001b[0mnumerical_df\u001b[0m \u001b[1;33m=\u001b[0m \u001b[0mdata_prep\u001b[0m\u001b[1;33m.\u001b[0m\u001b[0mselect_dtypes\u001b[0m\u001b[1;33m(\u001b[0m\u001b[0minclude\u001b[0m \u001b[1;33m=\u001b[0m \u001b[1;33m[\u001b[0m\u001b[1;34m'int64'\u001b[0m\u001b[1;33m,\u001b[0m\u001b[1;34m'float64'\u001b[0m\u001b[1;33m]\u001b[0m\u001b[1;33m)\u001b[0m\u001b[1;33m.\u001b[0m\u001b[0mdrop\u001b[0m\u001b[1;33m(\u001b[0m\u001b[1;34m\"id_cliente\"\u001b[0m\u001b[1;33m,\u001b[0m \u001b[0maxis\u001b[0m\u001b[1;33m=\u001b[0m\u001b[1;36m1\u001b[0m\u001b[1;33m)\u001b[0m\u001b[1;33m\u001b[0m\u001b[1;33m\u001b[0m\u001b[0m\n\u001b[1;32m----> 4\u001b[1;33m \u001b[0mcategorical_df\u001b[0m \u001b[1;33m=\u001b[0m \u001b[0mX_sel\u001b[0m\u001b[1;33m[\u001b[0m\u001b[1;33m[\u001b[0m\u001b[1;34m'investe_exterior'\u001b[0m\u001b[1;33m,\u001b[0m\u001b[1;34m'pessoa_polit_exp'\u001b[0m\u001b[1;33m]\u001b[0m\u001b[1;33m]\u001b[0m\u001b[1;33m\u001b[0m\u001b[1;33m\u001b[0m\u001b[0m\n\u001b[0m",
      "\u001b[1;32m~\\anaconda3\\lib\\site-packages\\pandas\\core\\frame.py\u001b[0m in \u001b[0;36m__getitem__\u001b[1;34m(self, key)\u001b[0m\n\u001b[0;32m   3462\u001b[0m             \u001b[1;32mif\u001b[0m \u001b[0mis_iterator\u001b[0m\u001b[1;33m(\u001b[0m\u001b[0mkey\u001b[0m\u001b[1;33m)\u001b[0m\u001b[1;33m:\u001b[0m\u001b[1;33m\u001b[0m\u001b[1;33m\u001b[0m\u001b[0m\n\u001b[0;32m   3463\u001b[0m                 \u001b[0mkey\u001b[0m \u001b[1;33m=\u001b[0m \u001b[0mlist\u001b[0m\u001b[1;33m(\u001b[0m\u001b[0mkey\u001b[0m\u001b[1;33m)\u001b[0m\u001b[1;33m\u001b[0m\u001b[1;33m\u001b[0m\u001b[0m\n\u001b[1;32m-> 3464\u001b[1;33m             \u001b[0mindexer\u001b[0m \u001b[1;33m=\u001b[0m \u001b[0mself\u001b[0m\u001b[1;33m.\u001b[0m\u001b[0mloc\u001b[0m\u001b[1;33m.\u001b[0m\u001b[0m_get_listlike_indexer\u001b[0m\u001b[1;33m(\u001b[0m\u001b[0mkey\u001b[0m\u001b[1;33m,\u001b[0m \u001b[0maxis\u001b[0m\u001b[1;33m=\u001b[0m\u001b[1;36m1\u001b[0m\u001b[1;33m)\u001b[0m\u001b[1;33m[\u001b[0m\u001b[1;36m1\u001b[0m\u001b[1;33m]\u001b[0m\u001b[1;33m\u001b[0m\u001b[1;33m\u001b[0m\u001b[0m\n\u001b[0m\u001b[0;32m   3465\u001b[0m \u001b[1;33m\u001b[0m\u001b[0m\n\u001b[0;32m   3466\u001b[0m         \u001b[1;31m# take() does not accept boolean indexers\u001b[0m\u001b[1;33m\u001b[0m\u001b[1;33m\u001b[0m\u001b[0m\n",
      "\u001b[1;32m~\\anaconda3\\lib\\site-packages\\pandas\\core\\indexing.py\u001b[0m in \u001b[0;36m_get_listlike_indexer\u001b[1;34m(self, key, axis)\u001b[0m\n\u001b[0;32m   1312\u001b[0m             \u001b[0mkeyarr\u001b[0m\u001b[1;33m,\u001b[0m \u001b[0mindexer\u001b[0m\u001b[1;33m,\u001b[0m \u001b[0mnew_indexer\u001b[0m \u001b[1;33m=\u001b[0m \u001b[0max\u001b[0m\u001b[1;33m.\u001b[0m\u001b[0m_reindex_non_unique\u001b[0m\u001b[1;33m(\u001b[0m\u001b[0mkeyarr\u001b[0m\u001b[1;33m)\u001b[0m\u001b[1;33m\u001b[0m\u001b[1;33m\u001b[0m\u001b[0m\n\u001b[0;32m   1313\u001b[0m \u001b[1;33m\u001b[0m\u001b[0m\n\u001b[1;32m-> 1314\u001b[1;33m         \u001b[0mself\u001b[0m\u001b[1;33m.\u001b[0m\u001b[0m_validate_read_indexer\u001b[0m\u001b[1;33m(\u001b[0m\u001b[0mkeyarr\u001b[0m\u001b[1;33m,\u001b[0m \u001b[0mindexer\u001b[0m\u001b[1;33m,\u001b[0m \u001b[0maxis\u001b[0m\u001b[1;33m)\u001b[0m\u001b[1;33m\u001b[0m\u001b[1;33m\u001b[0m\u001b[0m\n\u001b[0m\u001b[0;32m   1315\u001b[0m \u001b[1;33m\u001b[0m\u001b[0m\n\u001b[0;32m   1316\u001b[0m         if needs_i8_conversion(ax.dtype) or isinstance(\n",
      "\u001b[1;32m~\\anaconda3\\lib\\site-packages\\pandas\\core\\indexing.py\u001b[0m in \u001b[0;36m_validate_read_indexer\u001b[1;34m(self, key, indexer, axis)\u001b[0m\n\u001b[0;32m   1372\u001b[0m                 \u001b[1;32mif\u001b[0m \u001b[0muse_interval_msg\u001b[0m\u001b[1;33m:\u001b[0m\u001b[1;33m\u001b[0m\u001b[1;33m\u001b[0m\u001b[0m\n\u001b[0;32m   1373\u001b[0m                     \u001b[0mkey\u001b[0m \u001b[1;33m=\u001b[0m \u001b[0mlist\u001b[0m\u001b[1;33m(\u001b[0m\u001b[0mkey\u001b[0m\u001b[1;33m)\u001b[0m\u001b[1;33m\u001b[0m\u001b[1;33m\u001b[0m\u001b[0m\n\u001b[1;32m-> 1374\u001b[1;33m                 \u001b[1;32mraise\u001b[0m \u001b[0mKeyError\u001b[0m\u001b[1;33m(\u001b[0m\u001b[1;34mf\"None of [{key}] are in the [{axis_name}]\"\u001b[0m\u001b[1;33m)\u001b[0m\u001b[1;33m\u001b[0m\u001b[1;33m\u001b[0m\u001b[0m\n\u001b[0m\u001b[0;32m   1375\u001b[0m \u001b[1;33m\u001b[0m\u001b[0m\n\u001b[0;32m   1376\u001b[0m             \u001b[0mnot_found\u001b[0m \u001b[1;33m=\u001b[0m \u001b[0mlist\u001b[0m\u001b[1;33m(\u001b[0m\u001b[0mensure_index\u001b[0m\u001b[1;33m(\u001b[0m\u001b[0mkey\u001b[0m\u001b[1;33m)\u001b[0m\u001b[1;33m[\u001b[0m\u001b[0mmissing_mask\u001b[0m\u001b[1;33m.\u001b[0m\u001b[0mnonzero\u001b[0m\u001b[1;33m(\u001b[0m\u001b[1;33m)\u001b[0m\u001b[1;33m[\u001b[0m\u001b[1;36m0\u001b[0m\u001b[1;33m]\u001b[0m\u001b[1;33m]\u001b[0m\u001b[1;33m.\u001b[0m\u001b[0munique\u001b[0m\u001b[1;33m(\u001b[0m\u001b[1;33m)\u001b[0m\u001b[1;33m)\u001b[0m\u001b[1;33m\u001b[0m\u001b[1;33m\u001b[0m\u001b[0m\n",
      "\u001b[1;31mKeyError\u001b[0m: \"None of [Index(['investe_exterior', 'pessoa_polit_exp'], dtype='object')] are in the [columns]\""
     ]
    }
   ],
   "source": [
    "X_sel = X.copy()\n",
    "\n",
    "numerical_df = data_prep.select_dtypes(include = ['int64','float64']).drop(\"id_cliente\", axis=1)\n",
    "categorical_df = X_sel[['investe_exterior','pessoa_polit_exp']]"
   ]
  },
  {
   "cell_type": "code",
   "execution_count": 494,
   "id": "cf7662f4",
   "metadata": {},
   "outputs": [
    {
     "data": {
      "image/png": "[encoded data removed]",
      "text/plain": [
       "<Figure size 720x432 with 1 Axes>"
      ]
     },
     "metadata": {
      "needs_background": "light"
     },
     "output_type": "display_data"
    }
   ],
   "source": [
    "### Apply SelectKBest Algorithm - Anova\n",
    "anova = SelectKBest(score_func=f_classif, k=10).fit(numerical_df,y)\n",
    "anova_scores=pd.DataFrame(anova.scores_,columns=[\"Score\"])\n",
    "anova_columns=pd.DataFrame(numerical_df.columns)\n",
    "anova_feature_rank=pd.concat([anova_columns,anova_scores],axis=1)\n",
    "anova_feature_rank.columns=['Features','Score']\n",
    "anova_feature_rank=anova_feature_rank.nlargest(10,'Score')\n",
    "\n",
    "plt.figure(figsize=(10,6))\n",
    "plt.title('Univariated Selection - Anova')\n",
    "sns.barplot(data=anova_feature_rank, x='Score', y='Features', color='SteelBlue');\n",
    "plt.show()"
   ]
  },
  {
   "cell_type": "code",
   "execution_count": 497,
   "id": "5601e7c8",
   "metadata": {},
   "outputs": [],
   "source": [
    "# ### Apply SelectKBest Algorithm - Chi2\n",
    "# chi2 = SelectKBest(score_func=chi2, k=2).fit(categorical_df,y)\n",
    "# chi2_scores=pd.DataFrame(chi2.scores_,columns=[\"Score\"])\n",
    "# chi2_columns=pd.DataFrame(categorical_df.columns)\n",
    "# chi2_feature_rank=pd.concat([chi2_columns,anova_scores],axis=1)\n",
    "# chi2_feature_rank.columns=['Features','Score']\n",
    "# chi2_feature_rank=chi2_feature_rank.nlargest(10,'Score')\n",
    "\n",
    "# plt.figure(figsize=(10,6))\n",
    "# plt.title('Univariated Selection - Chi2')\n",
    "# sns.barplot(data=chi2_feature_rank, x='Score', y='Features', color='SteelBlue');\n",
    "# plt.show()"
   ]
  },
  {
   "cell_type": "code",
   "execution_count": 498,
   "id": "e322bc29",
   "metadata": {},
   "outputs": [
    {
     "data": {
      "image/png": "[encoded data removed]",
      "text/plain": [
       "<Figure size 720x432 with 1 Axes>"
      ]
     },
     "metadata": {
      "needs_background": "light"
     },
     "output_type": "display_data"
    }
   ],
   "source": [
    "rf = RandomForestClassifier(class_weight={0: 1, 1: weight}, random_state=seed)\n",
    "rf.fit(X_train,y_train)\n",
    "\n",
    "fi_rf = pd.DataFrame({\n",
    "    'Features': X_train.columns,\n",
    "    'Importance': rf.feature_importances_\n",
    "}).sort_values('Importance', ascending=False)\n",
    "\n",
    "\n",
    "plt.figure(figsize=(10,6))\n",
    "plt.title('Feature Importance - Random Forest Regressor')\n",
    "sns.barplot(data=fi_rf.head(10), x='Importance', y='Features', color='SteelBlue');\n",
    "plt.show()"
   ]
  },
  {
   "cell_type": "code",
   "execution_count": 499,
   "id": "f92935b3",
   "metadata": {},
   "outputs": [
    {
     "data": {
      "image/png": "[encoded data removed]",
      "text/plain": [
       "<Figure size 720x432 with 1 Axes>"
      ]
     },
     "metadata": {
      "needs_background": "light"
     },
     "output_type": "display_data"
    }
   ],
   "source": [
    "xgb = XGBClassifier(scale_pos_weight=weight, random_state=seed)\n",
    "xgb.fit(X_train,y_train)\n",
    "\n",
    "fi_xgb = pd.DataFrame({\n",
    "    'feature': X_train.columns,\n",
    "    'importance': xgb.feature_importances_\n",
    "}).sort_values('importance', ascending=False)\n",
    "\n",
    "plt.figure(figsize=(10,6))\n",
    "plt.title('Feature Importance - XGBoost Regressor')\n",
    "sns.barplot(data=fi_xgb.head(10), x='importance', y='feature', color='SteelBlue');\n",
    "plt.show()"
   ]
  },
  {
   "cell_type": "markdown",
   "id": "3b28ce3e",
   "metadata": {},
   "source": [
    "# Hyperparamters Tunning\n",
    "\n",
    "\n",
    "As our database is relatively small, we will use gridsearchcv"
   ]
  },
  {
   "cell_type": "markdown",
   "id": "9d4a71d8",
   "metadata": {},
   "source": [
    "## Random Forest Tunning"
   ]
  },
  {
   "cell_type": "code",
   "execution_count": 355,
   "id": "c047a939",
   "metadata": {},
   "outputs": [],
   "source": [
    "# np.random.seed(7)\n",
    "\n",
    "# params  = {'criterion': ['entropy', 'gini'],\n",
    "#                'max_depth': [3,6,9,12],\n",
    "#                'max_features': ['auto', 'sqrt'],\n",
    "#                'min_samples_leaf': [1, 4, 6, 8],\n",
    "#                'min_samples_split': [5, 7,10],\n",
    "#                'n_estimators': [100,200,300],\n",
    "#                'class_weight':[0, weight]}\n",
    "\n",
    "\n",
    "# rf = RandomForestClassifier(random_state=seed)\n",
    "\n",
    "# gs = GridSearchCV(estimator = rf, param_grid = params, cv = 3, scoring='f1', verbose= True, n_jobs = -1)\n",
    "# gs.fit(X_train,y_train)\n",
    "\n",
    "# rf_tuning_score = gs.best_score_\n",
    "# predict_rf_tunning = gs.best_estimator_.predict(X_val)\n",
    "\n",
    "# CM(y_val, predict_rf_tunning)\n",
    "\n",
    "# print(f\"\\nF1 Best Score:{gs.best_score_}\") \n",
    "# print(f\"\\nBest Paramters:\\n{gs.best_params_}\") \n",
    "# print(f\"\\nBest Estimator:\\n{gs.best_estimator_}\")"
   ]
  },
  {
   "cell_type": "markdown",
   "id": "24585aa9",
   "metadata": {},
   "source": [
    "## XGBoost Tunning"
   ]
  },
  {
   "cell_type": "code",
   "execution_count": 44,
   "id": "e44b8c8c",
   "metadata": {},
   "outputs": [
    {
     "name": "stdout",
     "output_type": "stream",
     "text": [
      "Confusion Matrix:\n"
     ]
    },
    {
     "data": {
      "image/png": "[encoded data removed]",
      "text/plain": [
       "<Figure size 432x288 with 2 Axes>"
      ]
     },
     "metadata": {
      "needs_background": "light"
     },
     "output_type": "display_data"
    },
    {
     "name": "stdout",
     "output_type": "stream",
     "text": [
      "Metrics \n",
      "               precision    recall  f1-score   support\n",
      "\n",
      "           0       0.65      0.54      0.59       451\n",
      "           1       0.92      0.95      0.93      2399\n",
      "\n",
      "    accuracy                           0.88      2850\n",
      "   macro avg       0.78      0.74      0.76      2850\n",
      "weighted avg       0.87      0.88      0.88      2850\n",
      "\n",
      "\n",
      "F1 Score Traning:0.9309240456752782,F1 Score Validation:0.930709307093071\n",
      "\n",
      "Best Paramters:\n",
      "{'learning_rate': 0.05, 'max_depth': 6, 'n_estimators': 100}\n",
      "\n",
      "Best Estimator:\n",
      "XGBClassifier(base_score=0.5, booster='gbtree', callbacks=None,\n",
      "              colsample_bylevel=1, colsample_bynode=1, colsample_bytree=1,\n",
      "              early_stopping_rounds=None, enable_categorical=False,\n",
      "              eval_metric=None, gamma=0, gpu_id=-1, grow_policy='depthwise',\n",
      "              importance_type=None, interaction_constraints='',\n",
      "              learning_rate=0.05, max_bin=256, max_cat_to_onehot=4,\n",
      "              max_delta_step=0, max_depth=6, max_leaves=0, min_child_weight=1,\n",
      "              missing=nan, monotone_constraints='()', n_estimators=100,\n",
      "              n_jobs=0, num_parallel_tree=1, predictor='auto', random_state=0,\n",
      "              reg_alpha=0, reg_lambda=1, ...)\n"
     ]
    }
   ],
   "source": [
    "np.random.seed(7)\n",
    "\n",
    "params = {\n",
    "    \"learning_rate\":[0.05,0.10,0.15],\n",
    "    \"max_depth\":[6,9,12,15], \n",
    "    #\"min_child_weight\":[1,3,5,7],\n",
    "    #\"gamma\":[0.1,0.2,0.3],\n",
    "    #\"colsample_bytree\":[0.5, 0.7, 0.9],\n",
    "    'n_estimators':[100,200,300],\n",
    "    #'subsample': [0,0.5]\n",
    "    #'scale_pos_weight':[0, weight/2, weight]\n",
    "}\n",
    "\n",
    "xgb = XGBClassifier()\n",
    "\n",
    "gs = GridSearchCV(estimator = xgb, param_grid=params, scoring='f1', cv=3)\n",
    "\n",
    "gs.fit(X_train,y_train)\n",
    "y_pred_xgb_tunning = gs.best_estimator_.predict(X_val)\n",
    "\n",
    "CM(y_val, y_pred_xgb_tunning)\n",
    "\n",
    "val_score = gs.score(X_val, y_val)\n",
    "\n",
    "print(f\"\\nF1 Score Traning:{gs.best_score_},F1 Score Validation:{val_score}\") \n",
    "print(f\"\\nBest Paramters:\\n{gs.best_params_}\") \n",
    "print(f\"\\nBest Estimator:\\n{gs.best_estimator_}\")"
   ]
  },
  {
   "cell_type": "code",
   "execution_count": 45,
   "id": "021d50c2",
   "metadata": {},
   "outputs": [
    {
     "name": "stdout",
     "output_type": "stream",
     "text": [
      "  1%|▍                                              | 1/100 [00:00<00:20,  4.85trial/s, best loss: 0.29387365446214486]"
     ]
    },
    {
     "name": "stderr",
     "output_type": "stream",
     "text": [
      "C:\\Users\\Alysson\\anaconda3\\lib\\site-packages\\xgboost\\sklearn.py:793: UserWarning: `eval_metric` in `fit` method is deprecated for better compatibility with scikit-learn, use `eval_metric` in constructor or`set_params` instead.\n",
      "  warnings.warn(\n",
      "\n",
      "C:\\Users\\Alysson\\anaconda3\\lib\\site-packages\\xgboost\\sklearn.py:793: UserWarning: `early_stopping_rounds` in `fit` method is deprecated for better compatibility with scikit-learn, use `early_stopping_rounds` in constructor or`set_params` instead.\n",
      "  warnings.warn(\n",
      "\n"
     ]
    },
    {
     "name": "stdout",
     "output_type": "stream",
     "text": [
      "\r",
      "  2%|▉                                              | 2/100 [00:00<00:18,  5.31trial/s, best loss: 0.29387365446214486]"
     ]
    },
    {
     "name": "stderr",
     "output_type": "stream",
     "text": [
      "C:\\Users\\Alysson\\anaconda3\\lib\\site-packages\\xgboost\\sklearn.py:793: UserWarning: `eval_metric` in `fit` method is deprecated for better compatibility with scikit-learn, use `eval_metric` in constructor or`set_params` instead.\n",
      "  warnings.warn(\n",
      "\n",
      "C:\\Users\\Alysson\\anaconda3\\lib\\site-packages\\xgboost\\sklearn.py:793: UserWarning: `early_stopping_rounds` in `fit` method is deprecated for better compatibility with scikit-learn, use `early_stopping_rounds` in constructor or`set_params` instead.\n",
      "  warnings.warn(\n",
      "\n",
      "C:\\Users\\Alysson\\anaconda3\\lib\\site-packages\\xgboost\\sklearn.py:793: UserWarning: `eval_metric` in `fit` method is deprecated for better compatibility with scikit-learn, use `eval_metric` in constructor or`set_params` instead.\n",
      "  warnings.warn(\n",
      "\n",
      "C:\\Users\\Alysson\\anaconda3\\lib\\site-packages\\xgboost\\sklearn.py:793: UserWarning: `early_stopping_rounds` in `fit` method is deprecated for better compatibility with scikit-learn, use `early_stopping_rounds` in constructor or`set_params` instead.\n",
      "  warnings.warn(\n",
      "\n"
     ]
    },
    {
     "name": "stdout",
     "output_type": "stream",
     "text": [
      "\r",
      "  3%|█▍                                             | 3/100 [00:00<00:18,  5.24trial/s, best loss: 0.29387365446214486]"
     ]
    },
    {
     "name": "stderr",
     "output_type": "stream",
     "text": [
      "C:\\Users\\Alysson\\anaconda3\\lib\\site-packages\\xgboost\\sklearn.py:793: UserWarning: `eval_metric` in `fit` method is deprecated for better compatibility with scikit-learn, use `eval_metric` in constructor or`set_params` instead.\n",
      "  warnings.warn(\n",
      "\n",
      "C:\\Users\\Alysson\\anaconda3\\lib\\site-packages\\xgboost\\sklearn.py:793: UserWarning: `early_stopping_rounds` in `fit` method is deprecated for better compatibility with scikit-learn, use `early_stopping_rounds` in constructor or`set_params` instead.\n",
      "  warnings.warn(\n",
      "\n",
      "C:\\Users\\Alysson\\anaconda3\\lib\\site-packages\\xgboost\\sklearn.py:793: UserWarning: `eval_metric` in `fit` method is deprecated for better compatibility with scikit-learn, use `eval_metric` in constructor or`set_params` instead.\n",
      "  warnings.warn(\n",
      "\n",
      "C:\\Users\\Alysson\\anaconda3\\lib\\site-packages\\xgboost\\sklearn.py:793: UserWarning: `early_stopping_rounds` in `fit` method is deprecated for better compatibility with scikit-learn, use `early_stopping_rounds` in constructor or`set_params` instead.\n",
      "  warnings.warn(\n",
      "\n"
     ]
    },
    {
     "name": "stdout",
     "output_type": "stream",
     "text": [
      "\r",
      "  5%|██▎                                            | 5/100 [00:00<00:18,  5.18trial/s, best loss: 0.27962059250952537]"
     ]
    },
    {
     "name": "stderr",
     "output_type": "stream",
     "text": [
      "C:\\Users\\Alysson\\anaconda3\\lib\\site-packages\\xgboost\\sklearn.py:793: UserWarning: `eval_metric` in `fit` method is deprecated for better compatibility with scikit-learn, use `eval_metric` in constructor or`set_params` instead.\n",
      "  warnings.warn(\n",
      "\n",
      "C:\\Users\\Alysson\\anaconda3\\lib\\site-packages\\xgboost\\sklearn.py:793: UserWarning: `early_stopping_rounds` in `fit` method is deprecated for better compatibility with scikit-learn, use `early_stopping_rounds` in constructor or`set_params` instead.\n",
      "  warnings.warn(\n",
      "\n"
     ]
    },
    {
     "name": "stdout",
     "output_type": "stream",
     "text": [
      "  7%|███▎                                           | 7/100 [00:01<00:16,  5.68trial/s, best loss: 0.27962059250952537]"
     ]
    },
    {
     "name": "stderr",
     "output_type": "stream",
     "text": [
      "C:\\Users\\Alysson\\anaconda3\\lib\\site-packages\\xgboost\\sklearn.py:793: UserWarning: `eval_metric` in `fit` method is deprecated for better compatibility with scikit-learn, use `eval_metric` in constructor or`set_params` instead.\n",
      "  warnings.warn(\n",
      "\n",
      "C:\\Users\\Alysson\\anaconda3\\lib\\site-packages\\xgboost\\sklearn.py:793: UserWarning: `early_stopping_rounds` in `fit` method is deprecated for better compatibility with scikit-learn, use `early_stopping_rounds` in constructor or`set_params` instead.\n",
      "  warnings.warn(\n",
      "\n",
      "C:\\Users\\Alysson\\anaconda3\\lib\\site-packages\\xgboost\\sklearn.py:793: UserWarning: `eval_metric` in `fit` method is deprecated for better compatibility with scikit-learn, use `eval_metric` in constructor or`set_params` instead.\n",
      "  warnings.warn(\n",
      "\n",
      "C:\\Users\\Alysson\\anaconda3\\lib\\site-packages\\xgboost\\sklearn.py:793: UserWarning: `early_stopping_rounds` in `fit` method is deprecated for better compatibility with scikit-learn, use `early_stopping_rounds` in constructor or`set_params` instead.\n",
      "  warnings.warn(\n",
      "\n"
     ]
    },
    {
     "name": "stdout",
     "output_type": "stream",
     "text": [
      "\r",
      "  8%|███▊                                           | 8/100 [00:01<00:14,  6.20trial/s, best loss: 0.27962059250952537]"
     ]
    },
    {
     "name": "stderr",
     "output_type": "stream",
     "text": [
      "C:\\Users\\Alysson\\anaconda3\\lib\\site-packages\\xgboost\\sklearn.py:793: UserWarning: `eval_metric` in `fit` method is deprecated for better compatibility with scikit-learn, use `eval_metric` in constructor or`set_params` instead.\n",
      "  warnings.warn(\n",
      "\n",
      "C:\\Users\\Alysson\\anaconda3\\lib\\site-packages\\xgboost\\sklearn.py:793: UserWarning: `early_stopping_rounds` in `fit` method is deprecated for better compatibility with scikit-learn, use `early_stopping_rounds` in constructor or`set_params` instead.\n",
      "  warnings.warn(\n",
      "\n",
      "C:\\Users\\Alysson\\anaconda3\\lib\\site-packages\\xgboost\\sklearn.py:793: UserWarning: `eval_metric` in `fit` method is deprecated for better compatibility with scikit-learn, use `eval_metric` in constructor or`set_params` instead.\n",
      "  warnings.warn(\n",
      "\n",
      "C:\\Users\\Alysson\\anaconda3\\lib\\site-packages\\xgboost\\sklearn.py:793: UserWarning: `early_stopping_rounds` in `fit` method is deprecated for better compatibility with scikit-learn, use `early_stopping_rounds` in constructor or`set_params` instead.\n",
      "  warnings.warn(\n",
      "\n"
     ]
    },
    {
     "name": "stdout",
     "output_type": "stream",
     "text": [
      " 12%|█████▌                                        | 12/100 [00:01<00:10,  8.44trial/s, best loss: 0.27962059250952537]"
     ]
    },
    {
     "name": "stderr",
     "output_type": "stream",
     "text": [
      "C:\\Users\\Alysson\\anaconda3\\lib\\site-packages\\xgboost\\sklearn.py:793: UserWarning: `eval_metric` in `fit` method is deprecated for better compatibility with scikit-learn, use `eval_metric` in constructor or`set_params` instead.\n",
      "  warnings.warn(\n",
      "\n",
      "C:\\Users\\Alysson\\anaconda3\\lib\\site-packages\\xgboost\\sklearn.py:793: UserWarning: `early_stopping_rounds` in `fit` method is deprecated for better compatibility with scikit-learn, use `early_stopping_rounds` in constructor or`set_params` instead.\n",
      "  warnings.warn(\n",
      "\n",
      "C:\\Users\\Alysson\\anaconda3\\lib\\site-packages\\xgboost\\sklearn.py:793: UserWarning: `eval_metric` in `fit` method is deprecated for better compatibility with scikit-learn, use `eval_metric` in constructor or`set_params` instead.\n",
      "  warnings.warn(\n",
      "\n",
      "C:\\Users\\Alysson\\anaconda3\\lib\\site-packages\\xgboost\\sklearn.py:793: UserWarning: `early_stopping_rounds` in `fit` method is deprecated for better compatibility with scikit-learn, use `early_stopping_rounds` in constructor or`set_params` instead.\n",
      "  warnings.warn(\n",
      "\n",
      "C:\\Users\\Alysson\\anaconda3\\lib\\site-packages\\xgboost\\sklearn.py:793: UserWarning: `eval_metric` in `fit` method is deprecated for better compatibility with scikit-learn, use `eval_metric` in constructor or`set_params` instead.\n",
      "  warnings.warn(\n",
      "\n",
      "C:\\Users\\Alysson\\anaconda3\\lib\\site-packages\\xgboost\\sklearn.py:793: UserWarning: `early_stopping_rounds` in `fit` method is deprecated for better compatibility with scikit-learn, use `early_stopping_rounds` in constructor or`set_params` instead.\n",
      "  warnings.warn(\n",
      "\n"
     ]
    },
    {
     "name": "stdout",
     "output_type": "stream",
     "text": [
      "\r",
      " 14%|██████▍                                       | 14/100 [00:02<00:09,  8.68trial/s, best loss: 0.27962059250952537]"
     ]
    },
    {
     "name": "stderr",
     "output_type": "stream",
     "text": [
      "C:\\Users\\Alysson\\anaconda3\\lib\\site-packages\\xgboost\\sklearn.py:793: UserWarning: `eval_metric` in `fit` method is deprecated for better compatibility with scikit-learn, use `eval_metric` in constructor or`set_params` instead.\n",
      "  warnings.warn(\n",
      "\n",
      "C:\\Users\\Alysson\\anaconda3\\lib\\site-packages\\xgboost\\sklearn.py:793: UserWarning: `early_stopping_rounds` in `fit` method is deprecated for better compatibility with scikit-learn, use `early_stopping_rounds` in constructor or`set_params` instead.\n",
      "  warnings.warn(\n",
      "\n",
      "C:\\Users\\Alysson\\anaconda3\\lib\\site-packages\\xgboost\\sklearn.py:793: UserWarning: `eval_metric` in `fit` method is deprecated for better compatibility with scikit-learn, use `eval_metric` in constructor or`set_params` instead.\n",
      "  warnings.warn(\n",
      "\n",
      "C:\\Users\\Alysson\\anaconda3\\lib\\site-packages\\xgboost\\sklearn.py:793: UserWarning: `early_stopping_rounds` in `fit` method is deprecated for better compatibility with scikit-learn, use `early_stopping_rounds` in constructor or`set_params` instead.\n",
      "  warnings.warn(\n",
      "\n",
      "C:\\Users\\Alysson\\anaconda3\\lib\\site-packages\\xgboost\\sklearn.py:793: UserWarning: `eval_metric` in `fit` method is deprecated for better compatibility with scikit-learn, use `eval_metric` in constructor or`set_params` instead.\n",
      "  warnings.warn(\n",
      "\n",
      "C:\\Users\\Alysson\\anaconda3\\lib\\site-packages\\xgboost\\sklearn.py:793: UserWarning: `early_stopping_rounds` in `fit` method is deprecated for better compatibility with scikit-learn, use `early_stopping_rounds` in constructor or`set_params` instead.\n",
      "  warnings.warn(\n",
      "\n"
     ]
    },
    {
     "name": "stdout",
     "output_type": "stream",
     "text": [
      "\r",
      " 17%|███████▊                                      | 17/100 [00:02<00:06, 11.94trial/s, best loss: 0.27962059250952537]"
     ]
    },
    {
     "name": "stderr",
     "output_type": "stream",
     "text": [
      "C:\\Users\\Alysson\\anaconda3\\lib\\site-packages\\xgboost\\sklearn.py:793: UserWarning: `eval_metric` in `fit` method is deprecated for better compatibility with scikit-learn, use `eval_metric` in constructor or`set_params` instead.\n",
      "  warnings.warn(\n",
      "\n",
      "C:\\Users\\Alysson\\anaconda3\\lib\\site-packages\\xgboost\\sklearn.py:793: UserWarning: `early_stopping_rounds` in `fit` method is deprecated for better compatibility with scikit-learn, use `early_stopping_rounds` in constructor or`set_params` instead.\n",
      "  warnings.warn(\n",
      "\n",
      "C:\\Users\\Alysson\\anaconda3\\lib\\site-packages\\xgboost\\sklearn.py:793: UserWarning: `eval_metric` in `fit` method is deprecated for better compatibility with scikit-learn, use `eval_metric` in constructor or`set_params` instead.\n",
      "  warnings.warn(\n",
      "\n",
      "C:\\Users\\Alysson\\anaconda3\\lib\\site-packages\\xgboost\\sklearn.py:793: UserWarning: `early_stopping_rounds` in `fit` method is deprecated for better compatibility with scikit-learn, use `early_stopping_rounds` in constructor or`set_params` instead.\n",
      "  warnings.warn(\n",
      "\n",
      "C:\\Users\\Alysson\\anaconda3\\lib\\site-packages\\xgboost\\sklearn.py:793: UserWarning: `eval_metric` in `fit` method is deprecated for better compatibility with scikit-learn, use `eval_metric` in constructor or`set_params` instead.\n",
      "  warnings.warn(\n",
      "\n",
      "C:\\Users\\Alysson\\anaconda3\\lib\\site-packages\\xgboost\\sklearn.py:793: UserWarning: `early_stopping_rounds` in `fit` method is deprecated for better compatibility with scikit-learn, use `early_stopping_rounds` in constructor or`set_params` instead.\n",
      "  warnings.warn(\n",
      "\n"
     ]
    },
    {
     "name": "stdout",
     "output_type": "stream",
     "text": [
      " 21%|█████████▋                                    | 21/100 [00:02<00:07, 11.06trial/s, best loss: 0.27962059250952537]"
     ]
    },
    {
     "name": "stderr",
     "output_type": "stream",
     "text": [
      "C:\\Users\\Alysson\\anaconda3\\lib\\site-packages\\xgboost\\sklearn.py:793: UserWarning: `eval_metric` in `fit` method is deprecated for better compatibility with scikit-learn, use `eval_metric` in constructor or`set_params` instead.\n",
      "  warnings.warn(\n",
      "\n",
      "C:\\Users\\Alysson\\anaconda3\\lib\\site-packages\\xgboost\\sklearn.py:793: UserWarning: `early_stopping_rounds` in `fit` method is deprecated for better compatibility with scikit-learn, use `early_stopping_rounds` in constructor or`set_params` instead.\n",
      "  warnings.warn(\n",
      "\n",
      "C:\\Users\\Alysson\\anaconda3\\lib\\site-packages\\xgboost\\sklearn.py:793: UserWarning: `eval_metric` in `fit` method is deprecated for better compatibility with scikit-learn, use `eval_metric` in constructor or`set_params` instead.\n",
      "  warnings.warn(\n",
      "\n",
      "C:\\Users\\Alysson\\anaconda3\\lib\\site-packages\\xgboost\\sklearn.py:793: UserWarning: `early_stopping_rounds` in `fit` method is deprecated for better compatibility with scikit-learn, use `early_stopping_rounds` in constructor or`set_params` instead.\n",
      "  warnings.warn(\n",
      "\n",
      "C:\\Users\\Alysson\\anaconda3\\lib\\site-packages\\xgboost\\sklearn.py:793: UserWarning: `eval_metric` in `fit` method is deprecated for better compatibility with scikit-learn, use `eval_metric` in constructor or`set_params` instead.\n",
      "  warnings.warn(\n",
      "\n",
      "C:\\Users\\Alysson\\anaconda3\\lib\\site-packages\\xgboost\\sklearn.py:793: UserWarning: `early_stopping_rounds` in `fit` method is deprecated for better compatibility with scikit-learn, use `early_stopping_rounds` in constructor or`set_params` instead.\n",
      "  warnings.warn(\n",
      "\n",
      "C:\\Users\\Alysson\\anaconda3\\lib\\site-packages\\xgboost\\sklearn.py:793: UserWarning: `eval_metric` in `fit` method is deprecated for better compatibility with scikit-learn, use `eval_metric` in constructor or`set_params` instead.\n",
      "  warnings.warn(\n",
      "\n",
      "C:\\Users\\Alysson\\anaconda3\\lib\\site-packages\\xgboost\\sklearn.py:793: UserWarning: `early_stopping_rounds` in `fit` method is deprecated for better compatibility with scikit-learn, use `early_stopping_rounds` in constructor or`set_params` instead.\n",
      "  warnings.warn(\n",
      "\n"
     ]
    },
    {
     "name": "stdout",
     "output_type": "stream",
     "text": [
      " 24%|███████████                                   | 24/100 [00:03<00:11,  6.61trial/s, best loss: 0.27962059250952537]"
     ]
    },
    {
     "name": "stderr",
     "output_type": "stream",
     "text": [
      "C:\\Users\\Alysson\\anaconda3\\lib\\site-packages\\xgboost\\sklearn.py:793: UserWarning: `eval_metric` in `fit` method is deprecated for better compatibility with scikit-learn, use `eval_metric` in constructor or`set_params` instead.\n",
      "  warnings.warn(\n",
      "\n",
      "C:\\Users\\Alysson\\anaconda3\\lib\\site-packages\\xgboost\\sklearn.py:793: UserWarning: `early_stopping_rounds` in `fit` method is deprecated for better compatibility with scikit-learn, use `early_stopping_rounds` in constructor or`set_params` instead.\n",
      "  warnings.warn(\n",
      "\n",
      "C:\\Users\\Alysson\\anaconda3\\lib\\site-packages\\xgboost\\sklearn.py:793: UserWarning: `eval_metric` in `fit` method is deprecated for better compatibility with scikit-learn, use `eval_metric` in constructor or`set_params` instead.\n",
      "  warnings.warn(\n",
      "\n",
      "C:\\Users\\Alysson\\anaconda3\\lib\\site-packages\\xgboost\\sklearn.py:793: UserWarning: `early_stopping_rounds` in `fit` method is deprecated for better compatibility with scikit-learn, use `early_stopping_rounds` in constructor or`set_params` instead.\n",
      "  warnings.warn(\n",
      "\n"
     ]
    },
    {
     "name": "stdout",
     "output_type": "stream",
     "text": [
      " 26%|███████████▉                                  | 26/100 [00:03<00:10,  6.99trial/s, best loss: 0.27962059250952537]"
     ]
    },
    {
     "name": "stderr",
     "output_type": "stream",
     "text": [
      "C:\\Users\\Alysson\\anaconda3\\lib\\site-packages\\xgboost\\sklearn.py:793: UserWarning: `eval_metric` in `fit` method is deprecated for better compatibility with scikit-learn, use `eval_metric` in constructor or`set_params` instead.\n",
      "  warnings.warn(\n",
      "\n",
      "C:\\Users\\Alysson\\anaconda3\\lib\\site-packages\\xgboost\\sklearn.py:793: UserWarning: `early_stopping_rounds` in `fit` method is deprecated for better compatibility with scikit-learn, use `early_stopping_rounds` in constructor or`set_params` instead.\n",
      "  warnings.warn(\n",
      "\n",
      "C:\\Users\\Alysson\\anaconda3\\lib\\site-packages\\xgboost\\sklearn.py:793: UserWarning: `eval_metric` in `fit` method is deprecated for better compatibility with scikit-learn, use `eval_metric` in constructor or`set_params` instead.\n",
      "  warnings.warn(\n",
      "\n",
      "C:\\Users\\Alysson\\anaconda3\\lib\\site-packages\\xgboost\\sklearn.py:793: UserWarning: `early_stopping_rounds` in `fit` method is deprecated for better compatibility with scikit-learn, use `early_stopping_rounds` in constructor or`set_params` instead.\n",
      "  warnings.warn(\n",
      "\n",
      "C:\\Users\\Alysson\\anaconda3\\lib\\site-packages\\xgboost\\sklearn.py:793: UserWarning: `eval_metric` in `fit` method is deprecated for better compatibility with scikit-learn, use `eval_metric` in constructor or`set_params` instead.\n",
      "  warnings.warn(\n",
      "\n",
      "C:\\Users\\Alysson\\anaconda3\\lib\\site-packages\\xgboost\\sklearn.py:793: UserWarning: `early_stopping_rounds` in `fit` method is deprecated for better compatibility with scikit-learn, use `early_stopping_rounds` in constructor or`set_params` instead.\n",
      "  warnings.warn(\n",
      "\n"
     ]
    },
    {
     "name": "stdout",
     "output_type": "stream",
     "text": [
      " 29%|█████████████▎                                | 29/100 [00:03<00:08,  8.26trial/s, best loss: 0.27962059250952537]"
     ]
    },
    {
     "name": "stderr",
     "output_type": "stream",
     "text": [
      "C:\\Users\\Alysson\\anaconda3\\lib\\site-packages\\xgboost\\sklearn.py:793: UserWarning: `eval_metric` in `fit` method is deprecated for better compatibility with scikit-learn, use `eval_metric` in constructor or`set_params` instead.\n",
      "  warnings.warn(\n",
      "\n",
      "C:\\Users\\Alysson\\anaconda3\\lib\\site-packages\\xgboost\\sklearn.py:793: UserWarning: `early_stopping_rounds` in `fit` method is deprecated for better compatibility with scikit-learn, use `early_stopping_rounds` in constructor or`set_params` instead.\n",
      "  warnings.warn(\n",
      "\n",
      "C:\\Users\\Alysson\\anaconda3\\lib\\site-packages\\xgboost\\sklearn.py:793: UserWarning: `eval_metric` in `fit` method is deprecated for better compatibility with scikit-learn, use `eval_metric` in constructor or`set_params` instead.\n",
      "  warnings.warn(\n",
      "\n",
      "C:\\Users\\Alysson\\anaconda3\\lib\\site-packages\\xgboost\\sklearn.py:793: UserWarning: `early_stopping_rounds` in `fit` method is deprecated for better compatibility with scikit-learn, use `early_stopping_rounds` in constructor or`set_params` instead.\n",
      "  warnings.warn(\n",
      "\n"
     ]
    },
    {
     "name": "stdout",
     "output_type": "stream",
     "text": [
      " 31%|██████████████▎                               | 31/100 [00:04<00:10,  6.62trial/s, best loss: 0.27962059250952537]"
     ]
    },
    {
     "name": "stderr",
     "output_type": "stream",
     "text": [
      "C:\\Users\\Alysson\\anaconda3\\lib\\site-packages\\xgboost\\sklearn.py:793: UserWarning: `eval_metric` in `fit` method is deprecated for better compatibility with scikit-learn, use `eval_metric` in constructor or`set_params` instead.\n",
      "  warnings.warn(\n",
      "\n",
      "C:\\Users\\Alysson\\anaconda3\\lib\\site-packages\\xgboost\\sklearn.py:793: UserWarning: `early_stopping_rounds` in `fit` method is deprecated for better compatibility with scikit-learn, use `early_stopping_rounds` in constructor or`set_params` instead.\n",
      "  warnings.warn(\n",
      "\n",
      "C:\\Users\\Alysson\\anaconda3\\lib\\site-packages\\xgboost\\sklearn.py:793: UserWarning: `eval_metric` in `fit` method is deprecated for better compatibility with scikit-learn, use `eval_metric` in constructor or`set_params` instead.\n",
      "  warnings.warn(\n",
      "\n",
      "C:\\Users\\Alysson\\anaconda3\\lib\\site-packages\\xgboost\\sklearn.py:793: UserWarning: `early_stopping_rounds` in `fit` method is deprecated for better compatibility with scikit-learn, use `early_stopping_rounds` in constructor or`set_params` instead.\n",
      "  warnings.warn(\n",
      "\n"
     ]
    },
    {
     "name": "stdout",
     "output_type": "stream",
     "text": [
      " 33%|███████████████▏                              | 33/100 [00:04<00:08,  7.69trial/s, best loss: 0.27959525634850035]"
     ]
    },
    {
     "name": "stderr",
     "output_type": "stream",
     "text": [
      "C:\\Users\\Alysson\\anaconda3\\lib\\site-packages\\xgboost\\sklearn.py:793: UserWarning: `eval_metric` in `fit` method is deprecated for better compatibility with scikit-learn, use `eval_metric` in constructor or`set_params` instead.\n",
      "  warnings.warn(\n",
      "\n",
      "C:\\Users\\Alysson\\anaconda3\\lib\\site-packages\\xgboost\\sklearn.py:793: UserWarning: `early_stopping_rounds` in `fit` method is deprecated for better compatibility with scikit-learn, use `early_stopping_rounds` in constructor or`set_params` instead.\n",
      "  warnings.warn(\n",
      "\n",
      "C:\\Users\\Alysson\\anaconda3\\lib\\site-packages\\xgboost\\sklearn.py:793: UserWarning: `eval_metric` in `fit` method is deprecated for better compatibility with scikit-learn, use `eval_metric` in constructor or`set_params` instead.\n",
      "  warnings.warn(\n",
      "\n",
      "C:\\Users\\Alysson\\anaconda3\\lib\\site-packages\\xgboost\\sklearn.py:793: UserWarning: `early_stopping_rounds` in `fit` method is deprecated for better compatibility with scikit-learn, use `early_stopping_rounds` in constructor or`set_params` instead.\n",
      "  warnings.warn(\n",
      "\n"
     ]
    },
    {
     "name": "stdout",
     "output_type": "stream",
     "text": [
      " 35%|████████████████                              | 35/100 [00:04<00:10,  6.36trial/s, best loss: 0.27959525634850035]"
     ]
    },
    {
     "name": "stderr",
     "output_type": "stream",
     "text": [
      "C:\\Users\\Alysson\\anaconda3\\lib\\site-packages\\xgboost\\sklearn.py:793: UserWarning: `eval_metric` in `fit` method is deprecated for better compatibility with scikit-learn, use `eval_metric` in constructor or`set_params` instead.\n",
      "  warnings.warn(\n",
      "\n",
      "C:\\Users\\Alysson\\anaconda3\\lib\\site-packages\\xgboost\\sklearn.py:793: UserWarning: `early_stopping_rounds` in `fit` method is deprecated for better compatibility with scikit-learn, use `early_stopping_rounds` in constructor or`set_params` instead.\n",
      "  warnings.warn(\n",
      "\n"
     ]
    },
    {
     "name": "stdout",
     "output_type": "stream",
     "text": [
      "\r",
      " 36%|████████████████▌                             | 36/100 [00:04<00:09,  7.04trial/s, best loss: 0.27959525634850035]"
     ]
    },
    {
     "name": "stderr",
     "output_type": "stream",
     "text": [
      "C:\\Users\\Alysson\\anaconda3\\lib\\site-packages\\xgboost\\sklearn.py:793: UserWarning: `eval_metric` in `fit` method is deprecated for better compatibility with scikit-learn, use `eval_metric` in constructor or`set_params` instead.\n",
      "  warnings.warn(\n",
      "\n",
      "C:\\Users\\Alysson\\anaconda3\\lib\\site-packages\\xgboost\\sklearn.py:793: UserWarning: `early_stopping_rounds` in `fit` method is deprecated for better compatibility with scikit-learn, use `early_stopping_rounds` in constructor or`set_params` instead.\n",
      "  warnings.warn(\n",
      "\n",
      "C:\\Users\\Alysson\\anaconda3\\lib\\site-packages\\xgboost\\sklearn.py:793: UserWarning: `eval_metric` in `fit` method is deprecated for better compatibility with scikit-learn, use `eval_metric` in constructor or`set_params` instead.\n",
      "  warnings.warn(\n",
      "\n",
      "C:\\Users\\Alysson\\anaconda3\\lib\\site-packages\\xgboost\\sklearn.py:793: UserWarning: `early_stopping_rounds` in `fit` method is deprecated for better compatibility with scikit-learn, use `early_stopping_rounds` in constructor or`set_params` instead.\n",
      "  warnings.warn(\n",
      "\n",
      "C:\\Users\\Alysson\\anaconda3\\lib\\site-packages\\xgboost\\sklearn.py:793: UserWarning: `eval_metric` in `fit` method is deprecated for better compatibility with scikit-learn, use `eval_metric` in constructor or`set_params` instead.\n",
      "  warnings.warn(\n",
      "\n",
      "C:\\Users\\Alysson\\anaconda3\\lib\\site-packages\\xgboost\\sklearn.py:793: UserWarning: `early_stopping_rounds` in `fit` method is deprecated for better compatibility with scikit-learn, use `early_stopping_rounds` in constructor or`set_params` instead.\n",
      "  warnings.warn(\n",
      "\n"
     ]
    },
    {
     "name": "stdout",
     "output_type": "stream",
     "text": [
      "\r",
      " 38%|██████████████████▏                             | 38/100 [00:05<00:07,  8.44trial/s, best loss: 0.279487490534504]"
     ]
    },
    {
     "name": "stderr",
     "output_type": "stream",
     "text": [
      "C:\\Users\\Alysson\\anaconda3\\lib\\site-packages\\xgboost\\sklearn.py:793: UserWarning: `eval_metric` in `fit` method is deprecated for better compatibility with scikit-learn, use `eval_metric` in constructor or`set_params` instead.\n",
      "  warnings.warn(\n",
      "\n",
      "C:\\Users\\Alysson\\anaconda3\\lib\\site-packages\\xgboost\\sklearn.py:793: UserWarning: `early_stopping_rounds` in `fit` method is deprecated for better compatibility with scikit-learn, use `early_stopping_rounds` in constructor or`set_params` instead.\n",
      "  warnings.warn(\n",
      "\n"
     ]
    },
    {
     "name": "stdout",
     "output_type": "stream",
     "text": [
      " 40%|███████████████████▏                            | 40/100 [00:05<00:09,  6.47trial/s, best loss: 0.279487490534504]"
     ]
    },
    {
     "name": "stderr",
     "output_type": "stream",
     "text": [
      "C:\\Users\\Alysson\\anaconda3\\lib\\site-packages\\xgboost\\sklearn.py:793: UserWarning: `eval_metric` in `fit` method is deprecated for better compatibility with scikit-learn, use `eval_metric` in constructor or`set_params` instead.\n",
      "  warnings.warn(\n",
      "\n",
      "C:\\Users\\Alysson\\anaconda3\\lib\\site-packages\\xgboost\\sklearn.py:793: UserWarning: `early_stopping_rounds` in `fit` method is deprecated for better compatibility with scikit-learn, use `early_stopping_rounds` in constructor or`set_params` instead.\n",
      "  warnings.warn(\n",
      "\n",
      "C:\\Users\\Alysson\\anaconda3\\lib\\site-packages\\xgboost\\sklearn.py:793: UserWarning: `eval_metric` in `fit` method is deprecated for better compatibility with scikit-learn, use `eval_metric` in constructor or`set_params` instead.\n",
      "  warnings.warn(\n",
      "\n",
      "C:\\Users\\Alysson\\anaconda3\\lib\\site-packages\\xgboost\\sklearn.py:793: UserWarning: `early_stopping_rounds` in `fit` method is deprecated for better compatibility with scikit-learn, use `early_stopping_rounds` in constructor or`set_params` instead.\n",
      "  warnings.warn(\n",
      "\n"
     ]
    },
    {
     "name": "stdout",
     "output_type": "stream",
     "text": [
      "\r",
      " 41%|███████████████████▋                            | 41/100 [00:05<00:10,  5.85trial/s, best loss: 0.279487490534504]"
     ]
    },
    {
     "name": "stderr",
     "output_type": "stream",
     "text": [
      "C:\\Users\\Alysson\\anaconda3\\lib\\site-packages\\xgboost\\sklearn.py:793: UserWarning: `eval_metric` in `fit` method is deprecated for better compatibility with scikit-learn, use `eval_metric` in constructor or`set_params` instead.\n",
      "  warnings.warn(\n",
      "\n",
      "C:\\Users\\Alysson\\anaconda3\\lib\\site-packages\\xgboost\\sklearn.py:793: UserWarning: `early_stopping_rounds` in `fit` method is deprecated for better compatibility with scikit-learn, use `early_stopping_rounds` in constructor or`set_params` instead.\n",
      "  warnings.warn(\n",
      "\n",
      "C:\\Users\\Alysson\\anaconda3\\lib\\site-packages\\xgboost\\sklearn.py:793: UserWarning: `eval_metric` in `fit` method is deprecated for better compatibility with scikit-learn, use `eval_metric` in constructor or`set_params` instead.\n",
      "  warnings.warn(\n",
      "\n",
      "C:\\Users\\Alysson\\anaconda3\\lib\\site-packages\\xgboost\\sklearn.py:793: UserWarning: `early_stopping_rounds` in `fit` method is deprecated for better compatibility with scikit-learn, use `early_stopping_rounds` in constructor or`set_params` instead.\n",
      "  warnings.warn(\n",
      "\n"
     ]
    },
    {
     "name": "stdout",
     "output_type": "stream",
     "text": [
      " 45%|█████████████████████▌                          | 45/100 [00:06<00:08,  6.83trial/s, best loss: 0.279487490534504]"
     ]
    },
    {
     "name": "stderr",
     "output_type": "stream",
     "text": [
      "C:\\Users\\Alysson\\anaconda3\\lib\\site-packages\\xgboost\\sklearn.py:793: UserWarning: `eval_metric` in `fit` method is deprecated for better compatibility with scikit-learn, use `eval_metric` in constructor or`set_params` instead.\n",
      "  warnings.warn(\n",
      "\n",
      "C:\\Users\\Alysson\\anaconda3\\lib\\site-packages\\xgboost\\sklearn.py:793: UserWarning: `early_stopping_rounds` in `fit` method is deprecated for better compatibility with scikit-learn, use `early_stopping_rounds` in constructor or`set_params` instead.\n",
      "  warnings.warn(\n",
      "\n",
      "C:\\Users\\Alysson\\anaconda3\\lib\\site-packages\\xgboost\\sklearn.py:793: UserWarning: `eval_metric` in `fit` method is deprecated for better compatibility with scikit-learn, use `eval_metric` in constructor or`set_params` instead.\n",
      "  warnings.warn(\n",
      "\n",
      "C:\\Users\\Alysson\\anaconda3\\lib\\site-packages\\xgboost\\sklearn.py:793: UserWarning: `early_stopping_rounds` in `fit` method is deprecated for better compatibility with scikit-learn, use `early_stopping_rounds` in constructor or`set_params` instead.\n",
      "  warnings.warn(\n",
      "\n",
      "C:\\Users\\Alysson\\anaconda3\\lib\\site-packages\\xgboost\\sklearn.py:793: UserWarning: `eval_metric` in `fit` method is deprecated for better compatibility with scikit-learn, use `eval_metric` in constructor or`set_params` instead.\n",
      "  warnings.warn(\n",
      "\n",
      "C:\\Users\\Alysson\\anaconda3\\lib\\site-packages\\xgboost\\sklearn.py:793: UserWarning: `early_stopping_rounds` in `fit` method is deprecated for better compatibility with scikit-learn, use `early_stopping_rounds` in constructor or`set_params` instead.\n",
      "  warnings.warn(\n",
      "\n",
      "C:\\Users\\Alysson\\anaconda3\\lib\\site-packages\\xgboost\\sklearn.py:793: UserWarning: `eval_metric` in `fit` method is deprecated for better compatibility with scikit-learn, use `eval_metric` in constructor or`set_params` instead.\n",
      "  warnings.warn(\n",
      "\n",
      "C:\\Users\\Alysson\\anaconda3\\lib\\site-packages\\xgboost\\sklearn.py:793: UserWarning: `early_stopping_rounds` in `fit` method is deprecated for better compatibility with scikit-learn, use `early_stopping_rounds` in constructor or`set_params` instead.\n",
      "  warnings.warn(\n",
      "\n"
     ]
    },
    {
     "name": "stdout",
     "output_type": "stream",
     "text": [
      " 48%|███████████████████████                         | 48/100 [00:06<00:07,  7.29trial/s, best loss: 0.279487490534504]"
     ]
    },
    {
     "name": "stderr",
     "output_type": "stream",
     "text": [
      "C:\\Users\\Alysson\\anaconda3\\lib\\site-packages\\xgboost\\sklearn.py:793: UserWarning: `eval_metric` in `fit` method is deprecated for better compatibility with scikit-learn, use `eval_metric` in constructor or`set_params` instead.\n",
      "  warnings.warn(\n",
      "\n",
      "C:\\Users\\Alysson\\anaconda3\\lib\\site-packages\\xgboost\\sklearn.py:793: UserWarning: `early_stopping_rounds` in `fit` method is deprecated for better compatibility with scikit-learn, use `early_stopping_rounds` in constructor or`set_params` instead.\n",
      "  warnings.warn(\n",
      "\n",
      "C:\\Users\\Alysson\\anaconda3\\lib\\site-packages\\xgboost\\sklearn.py:793: UserWarning: `eval_metric` in `fit` method is deprecated for better compatibility with scikit-learn, use `eval_metric` in constructor or`set_params` instead.\n",
      "  warnings.warn(\n",
      "\n",
      "C:\\Users\\Alysson\\anaconda3\\lib\\site-packages\\xgboost\\sklearn.py:793: UserWarning: `early_stopping_rounds` in `fit` method is deprecated for better compatibility with scikit-learn, use `early_stopping_rounds` in constructor or`set_params` instead.\n",
      "  warnings.warn(\n",
      "\n"
     ]
    },
    {
     "name": "stdout",
     "output_type": "stream",
     "text": [
      " 50%|████████████████████████                        | 50/100 [00:06<00:06,  7.15trial/s, best loss: 0.279487490534504]"
     ]
    },
    {
     "name": "stderr",
     "output_type": "stream",
     "text": [
      "C:\\Users\\Alysson\\anaconda3\\lib\\site-packages\\xgboost\\sklearn.py:793: UserWarning: `eval_metric` in `fit` method is deprecated for better compatibility with scikit-learn, use `eval_metric` in constructor or`set_params` instead.\n",
      "  warnings.warn(\n",
      "\n",
      "C:\\Users\\Alysson\\anaconda3\\lib\\site-packages\\xgboost\\sklearn.py:793: UserWarning: `early_stopping_rounds` in `fit` method is deprecated for better compatibility with scikit-learn, use `early_stopping_rounds` in constructor or`set_params` instead.\n",
      "  warnings.warn(\n",
      "\n",
      "C:\\Users\\Alysson\\anaconda3\\lib\\site-packages\\xgboost\\sklearn.py:793: UserWarning: `eval_metric` in `fit` method is deprecated for better compatibility with scikit-learn, use `eval_metric` in constructor or`set_params` instead.\n",
      "  warnings.warn(\n",
      "\n",
      "C:\\Users\\Alysson\\anaconda3\\lib\\site-packages\\xgboost\\sklearn.py:793: UserWarning: `early_stopping_rounds` in `fit` method is deprecated for better compatibility with scikit-learn, use `early_stopping_rounds` in constructor or`set_params` instead.\n",
      "  warnings.warn(\n",
      "\n"
     ]
    },
    {
     "name": "stdout",
     "output_type": "stream",
     "text": [
      " 54%|█████████████████████████▉                      | 54/100 [00:07<00:04,  9.76trial/s, best loss: 0.279487490534504]"
     ]
    },
    {
     "name": "stderr",
     "output_type": "stream",
     "text": [
      "C:\\Users\\Alysson\\anaconda3\\lib\\site-packages\\xgboost\\sklearn.py:793: UserWarning: `eval_metric` in `fit` method is deprecated for better compatibility with scikit-learn, use `eval_metric` in constructor or`set_params` instead.\n",
      "  warnings.warn(\n",
      "\n",
      "C:\\Users\\Alysson\\anaconda3\\lib\\site-packages\\xgboost\\sklearn.py:793: UserWarning: `early_stopping_rounds` in `fit` method is deprecated for better compatibility with scikit-learn, use `early_stopping_rounds` in constructor or`set_params` instead.\n",
      "  warnings.warn(\n",
      "\n",
      "C:\\Users\\Alysson\\anaconda3\\lib\\site-packages\\xgboost\\sklearn.py:793: UserWarning: `eval_metric` in `fit` method is deprecated for better compatibility with scikit-learn, use `eval_metric` in constructor or`set_params` instead.\n",
      "  warnings.warn(\n",
      "\n",
      "C:\\Users\\Alysson\\anaconda3\\lib\\site-packages\\xgboost\\sklearn.py:793: UserWarning: `early_stopping_rounds` in `fit` method is deprecated for better compatibility with scikit-learn, use `early_stopping_rounds` in constructor or`set_params` instead.\n",
      "  warnings.warn(\n",
      "\n",
      "C:\\Users\\Alysson\\anaconda3\\lib\\site-packages\\xgboost\\sklearn.py:793: UserWarning: `eval_metric` in `fit` method is deprecated for better compatibility with scikit-learn, use `eval_metric` in constructor or`set_params` instead.\n",
      "  warnings.warn(\n",
      "\n",
      "C:\\Users\\Alysson\\anaconda3\\lib\\site-packages\\xgboost\\sklearn.py:793: UserWarning: `early_stopping_rounds` in `fit` method is deprecated for better compatibility with scikit-learn, use `early_stopping_rounds` in constructor or`set_params` instead.\n",
      "  warnings.warn(\n",
      "\n"
     ]
    },
    {
     "name": "stdout",
     "output_type": "stream",
     "text": [
      "\r",
      " 56%|██████████████████████████▉                     | 56/100 [00:07<00:04, 10.59trial/s, best loss: 0.279487490534504]"
     ]
    },
    {
     "name": "stderr",
     "output_type": "stream",
     "text": [
      "C:\\Users\\Alysson\\anaconda3\\lib\\site-packages\\xgboost\\sklearn.py:793: UserWarning: `eval_metric` in `fit` method is deprecated for better compatibility with scikit-learn, use `eval_metric` in constructor or`set_params` instead.\n",
      "  warnings.warn(\n",
      "\n",
      "C:\\Users\\Alysson\\anaconda3\\lib\\site-packages\\xgboost\\sklearn.py:793: UserWarning: `early_stopping_rounds` in `fit` method is deprecated for better compatibility with scikit-learn, use `early_stopping_rounds` in constructor or`set_params` instead.\n",
      "  warnings.warn(\n",
      "\n",
      "C:\\Users\\Alysson\\anaconda3\\lib\\site-packages\\xgboost\\sklearn.py:793: UserWarning: `eval_metric` in `fit` method is deprecated for better compatibility with scikit-learn, use `eval_metric` in constructor or`set_params` instead.\n",
      "  warnings.warn(\n",
      "\n",
      "C:\\Users\\Alysson\\anaconda3\\lib\\site-packages\\xgboost\\sklearn.py:793: UserWarning: `early_stopping_rounds` in `fit` method is deprecated for better compatibility with scikit-learn, use `early_stopping_rounds` in constructor or`set_params` instead.\n",
      "  warnings.warn(\n",
      "\n",
      "C:\\Users\\Alysson\\anaconda3\\lib\\site-packages\\xgboost\\sklearn.py:793: UserWarning: `eval_metric` in `fit` method is deprecated for better compatibility with scikit-learn, use `eval_metric` in constructor or`set_params` instead.\n",
      "  warnings.warn(\n",
      "\n",
      "C:\\Users\\Alysson\\anaconda3\\lib\\site-packages\\xgboost\\sklearn.py:793: UserWarning: `early_stopping_rounds` in `fit` method is deprecated for better compatibility with scikit-learn, use `early_stopping_rounds` in constructor or`set_params` instead.\n",
      "  warnings.warn(\n",
      "\n"
     ]
    },
    {
     "name": "stdout",
     "output_type": "stream",
     "text": [
      "\r",
      " 58%|███████████████████████████▊                    | 58/100 [00:07<00:03, 10.98trial/s, best loss: 0.279487490534504]"
     ]
    },
    {
     "name": "stderr",
     "output_type": "stream",
     "text": [
      "C:\\Users\\Alysson\\anaconda3\\lib\\site-packages\\xgboost\\sklearn.py:793: UserWarning: `eval_metric` in `fit` method is deprecated for better compatibility with scikit-learn, use `eval_metric` in constructor or`set_params` instead.\n",
      "  warnings.warn(\n",
      "\n",
      "C:\\Users\\Alysson\\anaconda3\\lib\\site-packages\\xgboost\\sklearn.py:793: UserWarning: `early_stopping_rounds` in `fit` method is deprecated for better compatibility with scikit-learn, use `early_stopping_rounds` in constructor or`set_params` instead.\n",
      "  warnings.warn(\n",
      "\n",
      "C:\\Users\\Alysson\\anaconda3\\lib\\site-packages\\xgboost\\sklearn.py:793: UserWarning: `eval_metric` in `fit` method is deprecated for better compatibility with scikit-learn, use `eval_metric` in constructor or`set_params` instead.\n",
      "  warnings.warn(\n",
      "\n",
      "C:\\Users\\Alysson\\anaconda3\\lib\\site-packages\\xgboost\\sklearn.py:793: UserWarning: `early_stopping_rounds` in `fit` method is deprecated for better compatibility with scikit-learn, use `early_stopping_rounds` in constructor or`set_params` instead.\n",
      "  warnings.warn(\n",
      "\n"
     ]
    },
    {
     "name": "stdout",
     "output_type": "stream",
     "text": [
      "\r",
      " 60%|████████████████████████████▊                   | 60/100 [00:08<00:04,  8.04trial/s, best loss: 0.279487490534504]"
     ]
    },
    {
     "name": "stderr",
     "output_type": "stream",
     "text": [
      "C:\\Users\\Alysson\\anaconda3\\lib\\site-packages\\xgboost\\sklearn.py:793: UserWarning: `eval_metric` in `fit` method is deprecated for better compatibility with scikit-learn, use `eval_metric` in constructor or`set_params` instead.\n",
      "  warnings.warn(\n",
      "\n",
      "C:\\Users\\Alysson\\anaconda3\\lib\\site-packages\\xgboost\\sklearn.py:793: UserWarning: `early_stopping_rounds` in `fit` method is deprecated for better compatibility with scikit-learn, use `early_stopping_rounds` in constructor or`set_params` instead.\n",
      "  warnings.warn(\n",
      "\n",
      "C:\\Users\\Alysson\\anaconda3\\lib\\site-packages\\xgboost\\sklearn.py:793: UserWarning: `eval_metric` in `fit` method is deprecated for better compatibility with scikit-learn, use `eval_metric` in constructor or`set_params` instead.\n",
      "  warnings.warn(\n",
      "\n",
      "C:\\Users\\Alysson\\anaconda3\\lib\\site-packages\\xgboost\\sklearn.py:793: UserWarning: `early_stopping_rounds` in `fit` method is deprecated for better compatibility with scikit-learn, use `early_stopping_rounds` in constructor or`set_params` instead.\n",
      "  warnings.warn(\n",
      "\n"
     ]
    },
    {
     "name": "stdout",
     "output_type": "stream",
     "text": [
      " 63%|██████████████████████████████▏                 | 63/100 [00:08<00:05,  7.38trial/s, best loss: 0.279487490534504]"
     ]
    },
    {
     "name": "stderr",
     "output_type": "stream",
     "text": [
      "C:\\Users\\Alysson\\anaconda3\\lib\\site-packages\\xgboost\\sklearn.py:793: UserWarning: `eval_metric` in `fit` method is deprecated for better compatibility with scikit-learn, use `eval_metric` in constructor or`set_params` instead.\n",
      "  warnings.warn(\n",
      "\n",
      "C:\\Users\\Alysson\\anaconda3\\lib\\site-packages\\xgboost\\sklearn.py:793: UserWarning: `early_stopping_rounds` in `fit` method is deprecated for better compatibility with scikit-learn, use `early_stopping_rounds` in constructor or`set_params` instead.\n",
      "  warnings.warn(\n",
      "\n",
      "C:\\Users\\Alysson\\anaconda3\\lib\\site-packages\\xgboost\\sklearn.py:793: UserWarning: `eval_metric` in `fit` method is deprecated for better compatibility with scikit-learn, use `eval_metric` in constructor or`set_params` instead.\n",
      "  warnings.warn(\n",
      "\n",
      "C:\\Users\\Alysson\\anaconda3\\lib\\site-packages\\xgboost\\sklearn.py:793: UserWarning: `early_stopping_rounds` in `fit` method is deprecated for better compatibility with scikit-learn, use `early_stopping_rounds` in constructor or`set_params` instead.\n",
      "  warnings.warn(\n",
      "\n",
      "C:\\Users\\Alysson\\anaconda3\\lib\\site-packages\\xgboost\\sklearn.py:793: UserWarning: `eval_metric` in `fit` method is deprecated for better compatibility with scikit-learn, use `eval_metric` in constructor or`set_params` instead.\n",
      "  warnings.warn(\n",
      "\n",
      "C:\\Users\\Alysson\\anaconda3\\lib\\site-packages\\xgboost\\sklearn.py:793: UserWarning: `early_stopping_rounds` in `fit` method is deprecated for better compatibility with scikit-learn, use `early_stopping_rounds` in constructor or`set_params` instead.\n",
      "  warnings.warn(\n",
      "\n"
     ]
    },
    {
     "name": "stdout",
     "output_type": "stream",
     "text": [
      " 66%|███████████████████████████████                | 66/100 [00:08<00:04,  8.38trial/s, best loss: 0.2778645431269406]"
     ]
    },
    {
     "name": "stderr",
     "output_type": "stream",
     "text": [
      "C:\\Users\\Alysson\\anaconda3\\lib\\site-packages\\xgboost\\sklearn.py:793: UserWarning: `eval_metric` in `fit` method is deprecated for better compatibility with scikit-learn, use `eval_metric` in constructor or`set_params` instead.\n",
      "  warnings.warn(\n",
      "\n",
      "C:\\Users\\Alysson\\anaconda3\\lib\\site-packages\\xgboost\\sklearn.py:793: UserWarning: `early_stopping_rounds` in `fit` method is deprecated for better compatibility with scikit-learn, use `early_stopping_rounds` in constructor or`set_params` instead.\n",
      "  warnings.warn(\n",
      "\n",
      "C:\\Users\\Alysson\\anaconda3\\lib\\site-packages\\xgboost\\sklearn.py:793: UserWarning: `eval_metric` in `fit` method is deprecated for better compatibility with scikit-learn, use `eval_metric` in constructor or`set_params` instead.\n",
      "  warnings.warn(\n",
      "\n",
      "C:\\Users\\Alysson\\anaconda3\\lib\\site-packages\\xgboost\\sklearn.py:793: UserWarning: `early_stopping_rounds` in `fit` method is deprecated for better compatibility with scikit-learn, use `early_stopping_rounds` in constructor or`set_params` instead.\n",
      "  warnings.warn(\n",
      "\n",
      "C:\\Users\\Alysson\\anaconda3\\lib\\site-packages\\xgboost\\sklearn.py:793: UserWarning: `eval_metric` in `fit` method is deprecated for better compatibility with scikit-learn, use `eval_metric` in constructor or`set_params` instead.\n",
      "  warnings.warn(\n",
      "\n",
      "C:\\Users\\Alysson\\anaconda3\\lib\\site-packages\\xgboost\\sklearn.py:793: UserWarning: `early_stopping_rounds` in `fit` method is deprecated for better compatibility with scikit-learn, use `early_stopping_rounds` in constructor or`set_params` instead.\n",
      "  warnings.warn(\n",
      "\n"
     ]
    },
    {
     "name": "stdout",
     "output_type": "stream",
     "text": [
      " 69%|████████████████████████████████▍              | 69/100 [00:09<00:03,  8.80trial/s, best loss: 0.2778645431269406]"
     ]
    },
    {
     "name": "stderr",
     "output_type": "stream",
     "text": [
      "C:\\Users\\Alysson\\anaconda3\\lib\\site-packages\\xgboost\\sklearn.py:793: UserWarning: `eval_metric` in `fit` method is deprecated for better compatibility with scikit-learn, use `eval_metric` in constructor or`set_params` instead.\n",
      "  warnings.warn(\n",
      "\n",
      "C:\\Users\\Alysson\\anaconda3\\lib\\site-packages\\xgboost\\sklearn.py:793: UserWarning: `early_stopping_rounds` in `fit` method is deprecated for better compatibility with scikit-learn, use `early_stopping_rounds` in constructor or`set_params` instead.\n",
      "  warnings.warn(\n",
      "\n",
      "C:\\Users\\Alysson\\anaconda3\\lib\\site-packages\\xgboost\\sklearn.py:793: UserWarning: `eval_metric` in `fit` method is deprecated for better compatibility with scikit-learn, use `eval_metric` in constructor or`set_params` instead.\n",
      "  warnings.warn(\n",
      "\n",
      "C:\\Users\\Alysson\\anaconda3\\lib\\site-packages\\xgboost\\sklearn.py:793: UserWarning: `early_stopping_rounds` in `fit` method is deprecated for better compatibility with scikit-learn, use `early_stopping_rounds` in constructor or`set_params` instead.\n",
      "  warnings.warn(\n",
      "\n"
     ]
    },
    {
     "name": "stdout",
     "output_type": "stream",
     "text": [
      "\r",
      " 70%|████████████████████████████████▉              | 70/100 [00:09<00:03,  8.41trial/s, best loss: 0.2778645431269406]"
     ]
    },
    {
     "name": "stderr",
     "output_type": "stream",
     "text": [
      "C:\\Users\\Alysson\\anaconda3\\lib\\site-packages\\xgboost\\sklearn.py:793: UserWarning: `eval_metric` in `fit` method is deprecated for better compatibility with scikit-learn, use `eval_metric` in constructor or`set_params` instead.\n",
      "  warnings.warn(\n",
      "\n",
      "C:\\Users\\Alysson\\anaconda3\\lib\\site-packages\\xgboost\\sklearn.py:793: UserWarning: `early_stopping_rounds` in `fit` method is deprecated for better compatibility with scikit-learn, use `early_stopping_rounds` in constructor or`set_params` instead.\n",
      "  warnings.warn(\n",
      "\n",
      "C:\\Users\\Alysson\\anaconda3\\lib\\site-packages\\xgboost\\sklearn.py:793: UserWarning: `eval_metric` in `fit` method is deprecated for better compatibility with scikit-learn, use `eval_metric` in constructor or`set_params` instead.\n",
      "  warnings.warn(\n",
      "\n",
      "C:\\Users\\Alysson\\anaconda3\\lib\\site-packages\\xgboost\\sklearn.py:793: UserWarning: `early_stopping_rounds` in `fit` method is deprecated for better compatibility with scikit-learn, use `early_stopping_rounds` in constructor or`set_params` instead.\n",
      "  warnings.warn(\n",
      "\n"
     ]
    },
    {
     "name": "stdout",
     "output_type": "stream",
     "text": [
      " 72%|█████████████████████████████████▊             | 72/100 [00:09<00:03,  8.19trial/s, best loss: 0.2778645431269406]"
     ]
    },
    {
     "name": "stderr",
     "output_type": "stream",
     "text": [
      "C:\\Users\\Alysson\\anaconda3\\lib\\site-packages\\xgboost\\sklearn.py:793: UserWarning: `eval_metric` in `fit` method is deprecated for better compatibility with scikit-learn, use `eval_metric` in constructor or`set_params` instead.\n",
      "  warnings.warn(\n",
      "\n",
      "C:\\Users\\Alysson\\anaconda3\\lib\\site-packages\\xgboost\\sklearn.py:793: UserWarning: `early_stopping_rounds` in `fit` method is deprecated for better compatibility with scikit-learn, use `early_stopping_rounds` in constructor or`set_params` instead.\n",
      "  warnings.warn(\n",
      "\n",
      "C:\\Users\\Alysson\\anaconda3\\lib\\site-packages\\xgboost\\sklearn.py:793: UserWarning: `eval_metric` in `fit` method is deprecated for better compatibility with scikit-learn, use `eval_metric` in constructor or`set_params` instead.\n",
      "  warnings.warn(\n",
      "\n",
      "C:\\Users\\Alysson\\anaconda3\\lib\\site-packages\\xgboost\\sklearn.py:793: UserWarning: `early_stopping_rounds` in `fit` method is deprecated for better compatibility with scikit-learn, use `early_stopping_rounds` in constructor or`set_params` instead.\n",
      "  warnings.warn(\n",
      "\n"
     ]
    },
    {
     "name": "stdout",
     "output_type": "stream",
     "text": [
      "\r",
      " 74%|██████████████████████████████████▊            | 74/100 [00:09<00:02,  8.80trial/s, best loss: 0.2778645431269406]"
     ]
    },
    {
     "name": "stderr",
     "output_type": "stream",
     "text": [
      "C:\\Users\\Alysson\\anaconda3\\lib\\site-packages\\xgboost\\sklearn.py:793: UserWarning: `eval_metric` in `fit` method is deprecated for better compatibility with scikit-learn, use `eval_metric` in constructor or`set_params` instead.\n",
      "  warnings.warn(\n",
      "\n",
      "C:\\Users\\Alysson\\anaconda3\\lib\\site-packages\\xgboost\\sklearn.py:793: UserWarning: `early_stopping_rounds` in `fit` method is deprecated for better compatibility with scikit-learn, use `early_stopping_rounds` in constructor or`set_params` instead.\n",
      "  warnings.warn(\n",
      "\n",
      "C:\\Users\\Alysson\\anaconda3\\lib\\site-packages\\xgboost\\sklearn.py:793: UserWarning: `eval_metric` in `fit` method is deprecated for better compatibility with scikit-learn, use `eval_metric` in constructor or`set_params` instead.\n",
      "  warnings.warn(\n",
      "\n",
      "C:\\Users\\Alysson\\anaconda3\\lib\\site-packages\\xgboost\\sklearn.py:793: UserWarning: `early_stopping_rounds` in `fit` method is deprecated for better compatibility with scikit-learn, use `early_stopping_rounds` in constructor or`set_params` instead.\n",
      "  warnings.warn(\n",
      "\n"
     ]
    },
    {
     "name": "stdout",
     "output_type": "stream",
     "text": [
      " 76%|███████████████████████████████████▋           | 76/100 [00:10<00:03,  7.82trial/s, best loss: 0.2778645431269406]"
     ]
    },
    {
     "name": "stderr",
     "output_type": "stream",
     "text": [
      "C:\\Users\\Alysson\\anaconda3\\lib\\site-packages\\xgboost\\sklearn.py:793: UserWarning: `eval_metric` in `fit` method is deprecated for better compatibility with scikit-learn, use `eval_metric` in constructor or`set_params` instead.\n",
      "  warnings.warn(\n",
      "\n",
      "C:\\Users\\Alysson\\anaconda3\\lib\\site-packages\\xgboost\\sklearn.py:793: UserWarning: `early_stopping_rounds` in `fit` method is deprecated for better compatibility with scikit-learn, use `early_stopping_rounds` in constructor or`set_params` instead.\n",
      "  warnings.warn(\n",
      "\n",
      "C:\\Users\\Alysson\\anaconda3\\lib\\site-packages\\xgboost\\sklearn.py:793: UserWarning: `eval_metric` in `fit` method is deprecated for better compatibility with scikit-learn, use `eval_metric` in constructor or`set_params` instead.\n",
      "  warnings.warn(\n",
      "\n",
      "C:\\Users\\Alysson\\anaconda3\\lib\\site-packages\\xgboost\\sklearn.py:793: UserWarning: `early_stopping_rounds` in `fit` method is deprecated for better compatibility with scikit-learn, use `early_stopping_rounds` in constructor or`set_params` instead.\n",
      "  warnings.warn(\n",
      "\n"
     ]
    },
    {
     "name": "stdout",
     "output_type": "stream",
     "text": [
      "\r",
      " 77%|████████████████████████████████████▏          | 77/100 [00:10<00:03,  7.31trial/s, best loss: 0.2778645431269406]"
     ]
    },
    {
     "name": "stderr",
     "output_type": "stream",
     "text": [
      "C:\\Users\\Alysson\\anaconda3\\lib\\site-packages\\xgboost\\sklearn.py:793: UserWarning: `eval_metric` in `fit` method is deprecated for better compatibility with scikit-learn, use `eval_metric` in constructor or`set_params` instead.\n",
      "  warnings.warn(\n",
      "\n",
      "C:\\Users\\Alysson\\anaconda3\\lib\\site-packages\\xgboost\\sklearn.py:793: UserWarning: `early_stopping_rounds` in `fit` method is deprecated for better compatibility with scikit-learn, use `early_stopping_rounds` in constructor or`set_params` instead.\n",
      "  warnings.warn(\n",
      "\n"
     ]
    },
    {
     "name": "stdout",
     "output_type": "stream",
     "text": [
      " 79%|█████████████████████████████████████▏         | 79/100 [00:10<00:03,  6.32trial/s, best loss: 0.2778645431269406]"
     ]
    },
    {
     "name": "stderr",
     "output_type": "stream",
     "text": [
      "C:\\Users\\Alysson\\anaconda3\\lib\\site-packages\\xgboost\\sklearn.py:793: UserWarning: `eval_metric` in `fit` method is deprecated for better compatibility with scikit-learn, use `eval_metric` in constructor or`set_params` instead.\n",
      "  warnings.warn(\n",
      "\n",
      "C:\\Users\\Alysson\\anaconda3\\lib\\site-packages\\xgboost\\sklearn.py:793: UserWarning: `early_stopping_rounds` in `fit` method is deprecated for better compatibility with scikit-learn, use `early_stopping_rounds` in constructor or`set_params` instead.\n",
      "  warnings.warn(\n",
      "\n",
      "C:\\Users\\Alysson\\anaconda3\\lib\\site-packages\\xgboost\\sklearn.py:793: UserWarning: `eval_metric` in `fit` method is deprecated for better compatibility with scikit-learn, use `eval_metric` in constructor or`set_params` instead.\n",
      "  warnings.warn(\n",
      "\n",
      "C:\\Users\\Alysson\\anaconda3\\lib\\site-packages\\xgboost\\sklearn.py:793: UserWarning: `early_stopping_rounds` in `fit` method is deprecated for better compatibility with scikit-learn, use `early_stopping_rounds` in constructor or`set_params` instead.\n",
      "  warnings.warn(\n",
      "\n"
     ]
    },
    {
     "name": "stdout",
     "output_type": "stream",
     "text": [
      " 81%|██████████████████████████████████████         | 81/100 [00:10<00:02,  6.49trial/s, best loss: 0.2778645431269406]"
     ]
    },
    {
     "name": "stderr",
     "output_type": "stream",
     "text": [
      "C:\\Users\\Alysson\\anaconda3\\lib\\site-packages\\xgboost\\sklearn.py:793: UserWarning: `eval_metric` in `fit` method is deprecated for better compatibility with scikit-learn, use `eval_metric` in constructor or`set_params` instead.\n",
      "  warnings.warn(\n",
      "\n",
      "C:\\Users\\Alysson\\anaconda3\\lib\\site-packages\\xgboost\\sklearn.py:793: UserWarning: `early_stopping_rounds` in `fit` method is deprecated for better compatibility with scikit-learn, use `early_stopping_rounds` in constructor or`set_params` instead.\n",
      "  warnings.warn(\n",
      "\n",
      "C:\\Users\\Alysson\\anaconda3\\lib\\site-packages\\xgboost\\sklearn.py:793: UserWarning: `eval_metric` in `fit` method is deprecated for better compatibility with scikit-learn, use `eval_metric` in constructor or`set_params` instead.\n",
      "  warnings.warn(\n",
      "\n",
      "C:\\Users\\Alysson\\anaconda3\\lib\\site-packages\\xgboost\\sklearn.py:793: UserWarning: `early_stopping_rounds` in `fit` method is deprecated for better compatibility with scikit-learn, use `early_stopping_rounds` in constructor or`set_params` instead.\n",
      "  warnings.warn(\n",
      "\n"
     ]
    },
    {
     "name": "stdout",
     "output_type": "stream",
     "text": [
      "\r",
      " 83%|███████████████████████████████████████        | 83/100 [00:11<00:02,  7.59trial/s, best loss: 0.2778645431269406]"
     ]
    },
    {
     "name": "stderr",
     "output_type": "stream",
     "text": [
      "C:\\Users\\Alysson\\anaconda3\\lib\\site-packages\\xgboost\\sklearn.py:793: UserWarning: `eval_metric` in `fit` method is deprecated for better compatibility with scikit-learn, use `eval_metric` in constructor or`set_params` instead.\n",
      "  warnings.warn(\n",
      "\n",
      "C:\\Users\\Alysson\\anaconda3\\lib\\site-packages\\xgboost\\sklearn.py:793: UserWarning: `early_stopping_rounds` in `fit` method is deprecated for better compatibility with scikit-learn, use `early_stopping_rounds` in constructor or`set_params` instead.\n",
      "  warnings.warn(\n",
      "\n",
      "C:\\Users\\Alysson\\anaconda3\\lib\\site-packages\\xgboost\\sklearn.py:793: UserWarning: `eval_metric` in `fit` method is deprecated for better compatibility with scikit-learn, use `eval_metric` in constructor or`set_params` instead.\n",
      "  warnings.warn(\n",
      "\n",
      "C:\\Users\\Alysson\\anaconda3\\lib\\site-packages\\xgboost\\sklearn.py:793: UserWarning: `early_stopping_rounds` in `fit` method is deprecated for better compatibility with scikit-learn, use `early_stopping_rounds` in constructor or`set_params` instead.\n",
      "  warnings.warn(\n",
      "\n",
      "C:\\Users\\Alysson\\anaconda3\\lib\\site-packages\\xgboost\\sklearn.py:793: UserWarning: `eval_metric` in `fit` method is deprecated for better compatibility with scikit-learn, use `eval_metric` in constructor or`set_params` instead.\n",
      "  warnings.warn(\n",
      "\n",
      "C:\\Users\\Alysson\\anaconda3\\lib\\site-packages\\xgboost\\sklearn.py:793: UserWarning: `early_stopping_rounds` in `fit` method is deprecated for better compatibility with scikit-learn, use `early_stopping_rounds` in constructor or`set_params` instead.\n",
      "  warnings.warn(\n",
      "\n"
     ]
    },
    {
     "name": "stdout",
     "output_type": "stream",
     "text": [
      " 87%|████████████████████████████████████████▉      | 87/100 [00:11<00:01,  9.70trial/s, best loss: 0.2778645431269406]"
     ]
    },
    {
     "name": "stderr",
     "output_type": "stream",
     "text": [
      "C:\\Users\\Alysson\\anaconda3\\lib\\site-packages\\xgboost\\sklearn.py:793: UserWarning: `eval_metric` in `fit` method is deprecated for better compatibility with scikit-learn, use `eval_metric` in constructor or`set_params` instead.\n",
      "  warnings.warn(\n",
      "\n",
      "C:\\Users\\Alysson\\anaconda3\\lib\\site-packages\\xgboost\\sklearn.py:793: UserWarning: `early_stopping_rounds` in `fit` method is deprecated for better compatibility with scikit-learn, use `early_stopping_rounds` in constructor or`set_params` instead.\n",
      "  warnings.warn(\n",
      "\n",
      "C:\\Users\\Alysson\\anaconda3\\lib\\site-packages\\xgboost\\sklearn.py:793: UserWarning: `eval_metric` in `fit` method is deprecated for better compatibility with scikit-learn, use `eval_metric` in constructor or`set_params` instead.\n",
      "  warnings.warn(\n",
      "\n",
      "C:\\Users\\Alysson\\anaconda3\\lib\\site-packages\\xgboost\\sklearn.py:793: UserWarning: `early_stopping_rounds` in `fit` method is deprecated for better compatibility with scikit-learn, use `early_stopping_rounds` in constructor or`set_params` instead.\n",
      "  warnings.warn(\n",
      "\n",
      "C:\\Users\\Alysson\\anaconda3\\lib\\site-packages\\xgboost\\sklearn.py:793: UserWarning: `eval_metric` in `fit` method is deprecated for better compatibility with scikit-learn, use `eval_metric` in constructor or`set_params` instead.\n",
      "  warnings.warn(\n",
      "\n",
      "C:\\Users\\Alysson\\anaconda3\\lib\\site-packages\\xgboost\\sklearn.py:793: UserWarning: `early_stopping_rounds` in `fit` method is deprecated for better compatibility with scikit-learn, use `early_stopping_rounds` in constructor or`set_params` instead.\n",
      "  warnings.warn(\n",
      "\n"
     ]
    },
    {
     "name": "stdout",
     "output_type": "stream",
     "text": [
      " 89%|█████████████████████████████████████████▊     | 89/100 [00:11<00:01,  8.34trial/s, best loss: 0.2778645431269406]"
     ]
    },
    {
     "name": "stderr",
     "output_type": "stream",
     "text": [
      "C:\\Users\\Alysson\\anaconda3\\lib\\site-packages\\xgboost\\sklearn.py:793: UserWarning: `eval_metric` in `fit` method is deprecated for better compatibility with scikit-learn, use `eval_metric` in constructor or`set_params` instead.\n",
      "  warnings.warn(\n",
      "\n",
      "C:\\Users\\Alysson\\anaconda3\\lib\\site-packages\\xgboost\\sklearn.py:793: UserWarning: `early_stopping_rounds` in `fit` method is deprecated for better compatibility with scikit-learn, use `early_stopping_rounds` in constructor or`set_params` instead.\n",
      "  warnings.warn(\n",
      "\n",
      "C:\\Users\\Alysson\\anaconda3\\lib\\site-packages\\xgboost\\sklearn.py:793: UserWarning: `eval_metric` in `fit` method is deprecated for better compatibility with scikit-learn, use `eval_metric` in constructor or`set_params` instead.\n",
      "  warnings.warn(\n",
      "\n",
      "C:\\Users\\Alysson\\anaconda3\\lib\\site-packages\\xgboost\\sklearn.py:793: UserWarning: `early_stopping_rounds` in `fit` method is deprecated for better compatibility with scikit-learn, use `early_stopping_rounds` in constructor or`set_params` instead.\n",
      "  warnings.warn(\n",
      "\n"
     ]
    },
    {
     "name": "stdout",
     "output_type": "stream",
     "text": [
      "\r",
      " 91%|██████████████████████████████████████████▊    | 91/100 [00:11<00:01,  8.61trial/s, best loss: 0.2776631791837371]"
     ]
    },
    {
     "name": "stderr",
     "output_type": "stream",
     "text": [
      "C:\\Users\\Alysson\\anaconda3\\lib\\site-packages\\xgboost\\sklearn.py:793: UserWarning: `eval_metric` in `fit` method is deprecated for better compatibility with scikit-learn, use `eval_metric` in constructor or`set_params` instead.\n",
      "  warnings.warn(\n",
      "\n",
      "C:\\Users\\Alysson\\anaconda3\\lib\\site-packages\\xgboost\\sklearn.py:793: UserWarning: `early_stopping_rounds` in `fit` method is deprecated for better compatibility with scikit-learn, use `early_stopping_rounds` in constructor or`set_params` instead.\n",
      "  warnings.warn(\n",
      "\n",
      "C:\\Users\\Alysson\\anaconda3\\lib\\site-packages\\xgboost\\sklearn.py:793: UserWarning: `eval_metric` in `fit` method is deprecated for better compatibility with scikit-learn, use `eval_metric` in constructor or`set_params` instead.\n",
      "  warnings.warn(\n",
      "\n",
      "C:\\Users\\Alysson\\anaconda3\\lib\\site-packages\\xgboost\\sklearn.py:793: UserWarning: `early_stopping_rounds` in `fit` method is deprecated for better compatibility with scikit-learn, use `early_stopping_rounds` in constructor or`set_params` instead.\n",
      "  warnings.warn(\n",
      "\n",
      "C:\\Users\\Alysson\\anaconda3\\lib\\site-packages\\xgboost\\sklearn.py:793: UserWarning: `eval_metric` in `fit` method is deprecated for better compatibility with scikit-learn, use `eval_metric` in constructor or`set_params` instead.\n",
      "  warnings.warn(\n",
      "\n",
      "C:\\Users\\Alysson\\anaconda3\\lib\\site-packages\\xgboost\\sklearn.py:793: UserWarning: `early_stopping_rounds` in `fit` method is deprecated for better compatibility with scikit-learn, use `early_stopping_rounds` in constructor or`set_params` instead.\n",
      "  warnings.warn(\n",
      "\n"
     ]
    },
    {
     "name": "stdout",
     "output_type": "stream",
     "text": [
      " 95%|████████████████████████████████████████████▋  | 95/100 [00:12<00:00, 11.25trial/s, best loss: 0.2776631791837371]"
     ]
    },
    {
     "name": "stderr",
     "output_type": "stream",
     "text": [
      "C:\\Users\\Alysson\\anaconda3\\lib\\site-packages\\xgboost\\sklearn.py:793: UserWarning: `eval_metric` in `fit` method is deprecated for better compatibility with scikit-learn, use `eval_metric` in constructor or`set_params` instead.\n",
      "  warnings.warn(\n",
      "\n",
      "C:\\Users\\Alysson\\anaconda3\\lib\\site-packages\\xgboost\\sklearn.py:793: UserWarning: `early_stopping_rounds` in `fit` method is deprecated for better compatibility with scikit-learn, use `early_stopping_rounds` in constructor or`set_params` instead.\n",
      "  warnings.warn(\n",
      "\n",
      "C:\\Users\\Alysson\\anaconda3\\lib\\site-packages\\xgboost\\sklearn.py:793: UserWarning: `eval_metric` in `fit` method is deprecated for better compatibility with scikit-learn, use `eval_metric` in constructor or`set_params` instead.\n",
      "  warnings.warn(\n",
      "\n",
      "C:\\Users\\Alysson\\anaconda3\\lib\\site-packages\\xgboost\\sklearn.py:793: UserWarning: `early_stopping_rounds` in `fit` method is deprecated for better compatibility with scikit-learn, use `early_stopping_rounds` in constructor or`set_params` instead.\n",
      "  warnings.warn(\n",
      "\n",
      "C:\\Users\\Alysson\\anaconda3\\lib\\site-packages\\xgboost\\sklearn.py:793: UserWarning: `eval_metric` in `fit` method is deprecated for better compatibility with scikit-learn, use `eval_metric` in constructor or`set_params` instead.\n",
      "  warnings.warn(\n",
      "\n",
      "C:\\Users\\Alysson\\anaconda3\\lib\\site-packages\\xgboost\\sklearn.py:793: UserWarning: `early_stopping_rounds` in `fit` method is deprecated for better compatibility with scikit-learn, use `early_stopping_rounds` in constructor or`set_params` instead.\n",
      "  warnings.warn(\n",
      "\n"
     ]
    },
    {
     "name": "stdout",
     "output_type": "stream",
     "text": [
      "\r",
      " 97%|████████████████████████████████████████████▌ | 97/100 [00:12<00:00,  9.65trial/s, best loss: 0.27712597192953803]"
     ]
    },
    {
     "name": "stderr",
     "output_type": "stream",
     "text": [
      "C:\\Users\\Alysson\\anaconda3\\lib\\site-packages\\xgboost\\sklearn.py:793: UserWarning: `eval_metric` in `fit` method is deprecated for better compatibility with scikit-learn, use `eval_metric` in constructor or`set_params` instead.\n",
      "  warnings.warn(\n",
      "\n",
      "C:\\Users\\Alysson\\anaconda3\\lib\\site-packages\\xgboost\\sklearn.py:793: UserWarning: `early_stopping_rounds` in `fit` method is deprecated for better compatibility with scikit-learn, use `early_stopping_rounds` in constructor or`set_params` instead.\n",
      "  warnings.warn(\n",
      "\n",
      "C:\\Users\\Alysson\\anaconda3\\lib\\site-packages\\xgboost\\sklearn.py:793: UserWarning: `eval_metric` in `fit` method is deprecated for better compatibility with scikit-learn, use `eval_metric` in constructor or`set_params` instead.\n",
      "  warnings.warn(\n",
      "\n",
      "C:\\Users\\Alysson\\anaconda3\\lib\\site-packages\\xgboost\\sklearn.py:793: UserWarning: `early_stopping_rounds` in `fit` method is deprecated for better compatibility with scikit-learn, use `early_stopping_rounds` in constructor or`set_params` instead.\n",
      "  warnings.warn(\n",
      "\n"
     ]
    },
    {
     "name": "stdout",
     "output_type": "stream",
     "text": [
      "\r",
      " 99%|█████████████████████████████████████████████▌| 99/100 [00:12<00:00, 10.04trial/s, best loss: 0.27712597192953803]"
     ]
    },
    {
     "name": "stderr",
     "output_type": "stream",
     "text": [
      "C:\\Users\\Alysson\\anaconda3\\lib\\site-packages\\xgboost\\sklearn.py:793: UserWarning: `eval_metric` in `fit` method is deprecated for better compatibility with scikit-learn, use `eval_metric` in constructor or`set_params` instead.\n",
      "  warnings.warn(\n",
      "\n",
      "C:\\Users\\Alysson\\anaconda3\\lib\\site-packages\\xgboost\\sklearn.py:793: UserWarning: `early_stopping_rounds` in `fit` method is deprecated for better compatibility with scikit-learn, use `early_stopping_rounds` in constructor or`set_params` instead.\n",
      "  warnings.warn(\n",
      "\n",
      "C:\\Users\\Alysson\\anaconda3\\lib\\site-packages\\xgboost\\sklearn.py:793: UserWarning: `eval_metric` in `fit` method is deprecated for better compatibility with scikit-learn, use `eval_metric` in constructor or`set_params` instead.\n",
      "  warnings.warn(\n",
      "\n",
      "C:\\Users\\Alysson\\anaconda3\\lib\\site-packages\\xgboost\\sklearn.py:793: UserWarning: `early_stopping_rounds` in `fit` method is deprecated for better compatibility with scikit-learn, use `early_stopping_rounds` in constructor or`set_params` instead.\n",
      "  warnings.warn(\n",
      "\n"
     ]
    },
    {
     "name": "stdout",
     "output_type": "stream",
     "text": [
      "100%|█████████████████████████████████████████████| 100/100 [00:12<00:00,  7.74trial/s, best loss: 0.27712597192953803]\n"
     ]
    }
   ],
   "source": [
    "from hyperopt import hp\n",
    "from sklearn.metrics import mean_squared_error\n",
    "import xgboost as xgb\n",
    "from hyperopt import fmin, tpe, STATUS_OK, STATUS_FAIL, Trials\n",
    "from hyperopt.pyll import scope\n",
    "\n",
    "# XGB parameters\n",
    "xgb_reg_params = {\n",
    "    'learning_rate': hp.loguniform('learning_rate', -7, 0),\n",
    "    'max_depth': scope.int(hp.uniform('max_depth', 1, 100)),\n",
    "    'min_child_weight': hp.loguniform('min_child_weight', -2, 3),\n",
    "    'subsample': hp.uniform('subsample', 0.5, 1),\n",
    "    'colsample_bytree': hp.uniform('colsample_bytree', 0.5, 1),\n",
    "    'gamma': hp.loguniform('gamma', -10, 10),\n",
    "    'alpha': hp.loguniform('alpha', -10, 10),\n",
    "    'lambda': hp.loguniform('lambda', -10, 10),\n",
    "    'objective': 'binary:logistic',\n",
    "    'seed': 123,\n",
    "}\n",
    "xgb_fit_params = {\n",
    "    'eval_metric': 'auc',\n",
    "    'early_stopping_rounds': 10,\n",
    "    'verbose': False\n",
    "}\n",
    "\n",
    "xgb_para = dict()\n",
    "xgb_para['reg_params'] = xgb_reg_params\n",
    "xgb_para['fit_params'] = xgb_fit_params\n",
    "xgb_para['loss_func' ] = lambda y, pred: np.sqrt(mean_squared_error(y, pred))\n",
    "\n",
    "class HPOpt(object):\n",
    "\n",
    "    def __init__(self, X_train, X_val, y_train, y_val):\n",
    "        self.X_train = X_train\n",
    "        self.X_val  = X_val\n",
    "        self.y_train = y_train\n",
    "        self.y_val  = y_val\n",
    "\n",
    "    def process(self, fn_name, space, trials, algo, max_evals):\n",
    "        fn = getattr(self, fn_name)\n",
    "        try:\n",
    "            result = fmin(fn=fn, space=space, algo=algo, max_evals=max_evals, trials=trials)\n",
    "        except Exception as e:\n",
    "            return {'status': STATUS_FAIL,\n",
    "                    'exception': str(e)}\n",
    "        return result, trials\n",
    "\n",
    "    def xgb_reg(self, para):\n",
    "        reg = xgb.XGBRegressor(**para['reg_params'])\n",
    "        return self.train_reg(reg, para)\n",
    "\n",
    "    def train_reg(self, reg, para):\n",
    "        reg.fit(self.X_train, self.y_train,\n",
    "                eval_set=[(self.X_train, self.y_train), (self.X_val, self.y_val)],\n",
    "                **para['fit_params'])\n",
    "        pred = reg.predict(self.X_val)\n",
    "        loss = para['loss_func'](self.y_val, pred)\n",
    "        return {'loss': loss, 'status': STATUS_OK}\n",
    "\n",
    "obj = HPOpt(X_train, X_val, y_train, y_val)\n",
    "\n",
    "xgb_opt = obj.process(fn_name='xgb_reg', space=xgb_para, trials=Trials(), algo=tpe.suggest, max_evals=100)"
   ]
  },
  {
   "cell_type": "code",
   "execution_count": 46,
   "id": "95ebcfd7",
   "metadata": {},
   "outputs": [
    {
     "data": {
      "text/plain": [
       "({'alpha': 0.09321311403827649,\n",
       "  'colsample_bytree': 0.5000728229179298,\n",
       "  'gamma': 10.040556608021548,\n",
       "  'lambda': 0.1771197260602443,\n",
       "  'learning_rate': 0.19878052349834666,\n",
       "  'max_depth': 33.765737268397714,\n",
       "  'min_child_weight': 3.2451336687762904,\n",
       "  'subsample': 0.8111912439953778},\n",
       " <hyperopt.base.Trials at 0x157136d6520>)"
      ]
     },
     "execution_count": 46,
     "metadata": {},
     "output_type": "execute_result"
    }
   ],
   "source": [
    "xgb_opt"
   ]
  },
  {
   "cell_type": "markdown",
   "id": "d834363b",
   "metadata": {},
   "source": [
    "### Evaluating Best Model"
   ]
  },
  {
   "cell_type": "code",
   "execution_count": 47,
   "id": "a8fd8001",
   "metadata": {},
   "outputs": [
    {
     "name": "stdout",
     "output_type": "stream",
     "text": [
      "Confusion Matrix:\n"
     ]
    },
    {
     "data": {
      "image/png": "[encoded data removed]",
      "text/plain": [
       "<Figure size 432x288 with 2 Axes>"
      ]
     },
     "metadata": {
      "needs_background": "light"
     },
     "output_type": "display_data"
    },
    {
     "name": "stdout",
     "output_type": "stream",
     "text": [
      "Metrics \n",
      "               precision    recall  f1-score   support\n",
      "\n",
      "           0       0.65      0.50      0.57      1505\n",
      "           1       0.91      0.95      0.93      7995\n",
      "\n",
      "    accuracy                           0.88      9500\n",
      "   macro avg       0.78      0.73      0.75      9500\n",
      "weighted avg       0.87      0.88      0.87      9500\n",
      "\n",
      "fit_time, over 4 folds attempts: 0.3205 +/- 0.01262\n",
      "score_time, over 4 folds attempts: 0.00725 +/- 0.00043\n",
      "test_Accuracy, over 4 folds attempts: 0.87895 +/- 0.00332\n",
      "test_Precision, over 4 folds attempts: 0.91075 +/- 0.00295\n",
      "test_f1, over 4 folds attempts: 0.92956 +/- 0.00233\n",
      "test_Recall, over 4 folds attempts: 0.94922 +/- 0.008\n",
      "\n",
      "\n",
      "Minority/Majority Class Prediction, : [1159 8341]\n",
      "\n",
      "\n",
      "First 25 Predictions: [1 1 1 1 1 1 1 1 1 1 1 1 1 1 1 1 1 1 1 1 0 1 1 0 1]\n",
      "Last 25 Predictions: [1 1 0 1 1 0 1 1 1 1 1 1 1 1 1 1 1 1 1 1 1 1 1 1 1] \n",
      "\n"
     ]
    }
   ],
   "source": [
    "#np.random.seed(7)\n",
    "\n",
    "tuned_params = {'alpha': 0.1,\n",
    "  'colsample_bytree': 0.5,\n",
    "  'gamma': 10,\n",
    "  'lambda': 0.2,\n",
    "  'learning_rate': 0.2,\n",
    "  'max_depth': 34,\n",
    "  'min_child_weight': 3,\n",
    "  'subsample': 1}\n",
    "\n",
    "#gs.best_params_\n",
    "\n",
    "xgb_tuned = XGBClassifier(**tuned_params)\n",
    "y_pred_xgb_tuned = CVS(xgb_tuned,X,y)"
   ]
  },
  {
   "cell_type": "markdown",
   "id": "4090ec94",
   "metadata": {},
   "source": [
    "## Test"
   ]
  },
  {
   "cell_type": "code",
   "execution_count": 48,
   "id": "d19c64f3",
   "metadata": {},
   "outputs": [],
   "source": [
    "data_test = data_test_raw.copy()"
   ]
  },
  {
   "cell_type": "code",
   "execution_count": 49,
   "id": "f1bbf9a4",
   "metadata": {},
   "outputs": [],
   "source": [
    "## Data Preprossesing / Preparation\n",
    "\n",
    "nan_transformer(data_test)\n",
    "#y_knn = data_test['limite_adicional']\n",
    "X_knn = data_test.drop(['id_cliente'], axis=1)\n",
    "knn_imputer(X_knn)\n",
    "round_col(X_knn)\n",
    "data_test = pd.concat([data_test[['id_cliente']], X_knn],axis=1)"
   ]
  },
  {
   "cell_type": "code",
   "execution_count": 50,
   "id": "0c199374",
   "metadata": {},
   "outputs": [],
   "source": [
    "apply_log(data_test)\n",
    "data_test['investe_exterior'] = data_test['investe_exterior'].apply(lambda x: 0 if x =='Não' else 1)\n",
    "data_test['pessoa_polit_exp'] = data_test['pessoa_polit_exp'].apply(lambda x: 0 if x =='Não' else 1)"
   ]
  },
  {
   "cell_type": "code",
   "execution_count": 51,
   "id": "b95f37d0",
   "metadata": {},
   "outputs": [
    {
     "data": {
      "text/plain": [
       "id_cliente                 0\n",
       "idade                      0\n",
       "saldo_atual                0\n",
       "divida_atual               0\n",
       "renda_anual                0\n",
       "valor_em_investimentos     0\n",
       "taxa_utilizacao_credito    0\n",
       "num_emprestimos            0\n",
       "num_contas_bancarias       0\n",
       "num_cartoes_credito        0\n",
       "dias_atraso_dt_venc        0\n",
       "num_pgtos_atrasados        0\n",
       "num_consultas_credito      0\n",
       "taxa_juros                 0\n",
       "investe_exterior           0\n",
       "pessoa_polit_exp           0\n",
       "dtype: int64"
      ]
     },
     "execution_count": 51,
     "metadata": {},
     "output_type": "execute_result"
    }
   ],
   "source": [
    "data_test.isna().sum()"
   ]
  },
  {
   "cell_type": "code",
   "execution_count": 52,
   "id": "ffc60bbe",
   "metadata": {},
   "outputs": [
    {
     "data": {
      "text/html": [
       "<div>\n",
       "<style scoped>\n",
       "    .dataframe tbody tr th:only-of-type {\n",
       "        vertical-align: middle;\n",
       "    }\n",
       "\n",
       "    .dataframe tbody tr th {\n",
       "        vertical-align: top;\n",
       "    }\n",
       "\n",
       "    .dataframe thead th {\n",
       "        text-align: right;\n",
       "    }\n",
       "</style>\n",
       "<table border=\"1\" class=\"dataframe\">\n",
       "  <thead>\n",
       "    <tr style=\"text-align: right;\">\n",
       "      <th></th>\n",
       "      <th>id_cliente</th>\n",
       "      <th>idade</th>\n",
       "      <th>saldo_atual</th>\n",
       "      <th>divida_atual</th>\n",
       "      <th>renda_anual</th>\n",
       "      <th>valor_em_investimentos</th>\n",
       "      <th>taxa_utilizacao_credito</th>\n",
       "      <th>num_emprestimos</th>\n",
       "      <th>num_contas_bancarias</th>\n",
       "      <th>num_cartoes_credito</th>\n",
       "      <th>dias_atraso_dt_venc</th>\n",
       "      <th>num_pgtos_atrasados</th>\n",
       "      <th>num_consultas_credito</th>\n",
       "      <th>taxa_juros</th>\n",
       "      <th>investe_exterior</th>\n",
       "      <th>pessoa_polit_exp</th>\n",
       "    </tr>\n",
       "  </thead>\n",
       "  <tbody>\n",
       "    <tr>\n",
       "      <th>0</th>\n",
       "      <td>2</td>\n",
       "      <td>32</td>\n",
       "      <td>1.89</td>\n",
       "      <td>2.18</td>\n",
       "      <td>2.41</td>\n",
       "      <td>1.73</td>\n",
       "      <td>24.46</td>\n",
       "      <td>1</td>\n",
       "      <td>2</td>\n",
       "      <td>2.08</td>\n",
       "      <td>3.00</td>\n",
       "      <td>4</td>\n",
       "      <td>2</td>\n",
       "      <td>6</td>\n",
       "      <td>0</td>\n",
       "      <td>0</td>\n",
       "    </tr>\n",
       "    <tr>\n",
       "      <th>1</th>\n",
       "      <td>5</td>\n",
       "      <td>25</td>\n",
       "      <td>1.89</td>\n",
       "      <td>2.18</td>\n",
       "      <td>2.39</td>\n",
       "      <td>1.66</td>\n",
       "      <td>39.80</td>\n",
       "      <td>0</td>\n",
       "      <td>7</td>\n",
       "      <td>1.79</td>\n",
       "      <td>5.00</td>\n",
       "      <td>14</td>\n",
       "      <td>4</td>\n",
       "      <td>5</td>\n",
       "      <td>0</td>\n",
       "      <td>0</td>\n",
       "    </tr>\n",
       "    <tr>\n",
       "      <th>2</th>\n",
       "      <td>6</td>\n",
       "      <td>35</td>\n",
       "      <td>1.96</td>\n",
       "      <td>2.07</td>\n",
       "      <td>2.46</td>\n",
       "      <td>1.78</td>\n",
       "      <td>39.96</td>\n",
       "      <td>0</td>\n",
       "      <td>4</td>\n",
       "      <td>1.95</td>\n",
       "      <td>12.00</td>\n",
       "      <td>10</td>\n",
       "      <td>2</td>\n",
       "      <td>8</td>\n",
       "      <td>0</td>\n",
       "      <td>0</td>\n",
       "    </tr>\n",
       "    <tr>\n",
       "      <th>3</th>\n",
       "      <td>8</td>\n",
       "      <td>41</td>\n",
       "      <td>1.91</td>\n",
       "      <td>2.02</td>\n",
       "      <td>2.47</td>\n",
       "      <td>1.90</td>\n",
       "      <td>24.45</td>\n",
       "      <td>3</td>\n",
       "      <td>8</td>\n",
       "      <td>2.08</td>\n",
       "      <td>30.00</td>\n",
       "      <td>11</td>\n",
       "      <td>5</td>\n",
       "      <td>15</td>\n",
       "      <td>0</td>\n",
       "      <td>0</td>\n",
       "    </tr>\n",
       "    <tr>\n",
       "      <th>4</th>\n",
       "      <td>10</td>\n",
       "      <td>49</td>\n",
       "      <td>1.95</td>\n",
       "      <td>2.05</td>\n",
       "      <td>2.46</td>\n",
       "      <td>1.78</td>\n",
       "      <td>29.52</td>\n",
       "      <td>2</td>\n",
       "      <td>0</td>\n",
       "      <td>2.08</td>\n",
       "      <td>4.00</td>\n",
       "      <td>0</td>\n",
       "      <td>2</td>\n",
       "      <td>12</td>\n",
       "      <td>0</td>\n",
       "      <td>0</td>\n",
       "    </tr>\n",
       "    <tr>\n",
       "      <th>...</th>\n",
       "      <td>...</td>\n",
       "      <td>...</td>\n",
       "      <td>...</td>\n",
       "      <td>...</td>\n",
       "      <td>...</td>\n",
       "      <td>...</td>\n",
       "      <td>...</td>\n",
       "      <td>...</td>\n",
       "      <td>...</td>\n",
       "      <td>...</td>\n",
       "      <td>...</td>\n",
       "      <td>...</td>\n",
       "      <td>...</td>\n",
       "      <td>...</td>\n",
       "      <td>...</td>\n",
       "      <td>...</td>\n",
       "    </tr>\n",
       "    <tr>\n",
       "      <th>2995</th>\n",
       "      <td>12484</td>\n",
       "      <td>48</td>\n",
       "      <td>1.91</td>\n",
       "      <td>2.13</td>\n",
       "      <td>2.42</td>\n",
       "      <td>1.57</td>\n",
       "      <td>25.38</td>\n",
       "      <td>2</td>\n",
       "      <td>7</td>\n",
       "      <td>1.79</td>\n",
       "      <td>6.00</td>\n",
       "      <td>8</td>\n",
       "      <td>4</td>\n",
       "      <td>19</td>\n",
       "      <td>1</td>\n",
       "      <td>0</td>\n",
       "    </tr>\n",
       "    <tr>\n",
       "      <th>2996</th>\n",
       "      <td>12487</td>\n",
       "      <td>43</td>\n",
       "      <td>2.04</td>\n",
       "      <td>1.92</td>\n",
       "      <td>2.55</td>\n",
       "      <td>1.81</td>\n",
       "      <td>27.78</td>\n",
       "      <td>2</td>\n",
       "      <td>6</td>\n",
       "      <td>2.08</td>\n",
       "      <td>30.00</td>\n",
       "      <td>20</td>\n",
       "      <td>5</td>\n",
       "      <td>11</td>\n",
       "      <td>1</td>\n",
       "      <td>0</td>\n",
       "    </tr>\n",
       "    <tr>\n",
       "      <th>2997</th>\n",
       "      <td>12489</td>\n",
       "      <td>44</td>\n",
       "      <td>1.78</td>\n",
       "      <td>1.99</td>\n",
       "      <td>2.54</td>\n",
       "      <td>2.02</td>\n",
       "      <td>43.31</td>\n",
       "      <td>0</td>\n",
       "      <td>2</td>\n",
       "      <td>0.69</td>\n",
       "      <td>5.00</td>\n",
       "      <td>7</td>\n",
       "      <td>1</td>\n",
       "      <td>7</td>\n",
       "      <td>0</td>\n",
       "      <td>0</td>\n",
       "    </tr>\n",
       "    <tr>\n",
       "      <th>2998</th>\n",
       "      <td>12495</td>\n",
       "      <td>24</td>\n",
       "      <td>1.15</td>\n",
       "      <td>2.18</td>\n",
       "      <td>2.46</td>\n",
       "      <td>1.93</td>\n",
       "      <td>35.12</td>\n",
       "      <td>4</td>\n",
       "      <td>4</td>\n",
       "      <td>2.40</td>\n",
       "      <td>11.00</td>\n",
       "      <td>4</td>\n",
       "      <td>3</td>\n",
       "      <td>3</td>\n",
       "      <td>0</td>\n",
       "      <td>0</td>\n",
       "    </tr>\n",
       "    <tr>\n",
       "      <th>2999</th>\n",
       "      <td>12498</td>\n",
       "      <td>55</td>\n",
       "      <td>1.92</td>\n",
       "      <td>2.16</td>\n",
       "      <td>2.49</td>\n",
       "      <td>1.91</td>\n",
       "      <td>39.08</td>\n",
       "      <td>3</td>\n",
       "      <td>1</td>\n",
       "      <td>2.20</td>\n",
       "      <td>7.00</td>\n",
       "      <td>12</td>\n",
       "      <td>3</td>\n",
       "      <td>5</td>\n",
       "      <td>0</td>\n",
       "      <td>0</td>\n",
       "    </tr>\n",
       "  </tbody>\n",
       "</table>\n",
       "<p>3000 rows × 16 columns</p>\n",
       "</div>"
      ],
      "text/plain": [
       "      id_cliente  idade  saldo_atual  divida_atual  renda_anual  \\\n",
       "0              2     32         1.89          2.18         2.41   \n",
       "1              5     25         1.89          2.18         2.39   \n",
       "2              6     35         1.96          2.07         2.46   \n",
       "3              8     41         1.91          2.02         2.47   \n",
       "4             10     49         1.95          2.05         2.46   \n",
       "...          ...    ...          ...           ...          ...   \n",
       "2995       12484     48         1.91          2.13         2.42   \n",
       "2996       12487     43         2.04          1.92         2.55   \n",
       "2997       12489     44         1.78          1.99         2.54   \n",
       "2998       12495     24         1.15          2.18         2.46   \n",
       "2999       12498     55         1.92          2.16         2.49   \n",
       "\n",
       "      valor_em_investimentos  taxa_utilizacao_credito  num_emprestimos  \\\n",
       "0                       1.73                    24.46                1   \n",
       "1                       1.66                    39.80                0   \n",
       "2                       1.78                    39.96                0   \n",
       "3                       1.90                    24.45                3   \n",
       "4                       1.78                    29.52                2   \n",
       "...                      ...                      ...              ...   \n",
       "2995                    1.57                    25.38                2   \n",
       "2996                    1.81                    27.78                2   \n",
       "2997                    2.02                    43.31                0   \n",
       "2998                    1.93                    35.12                4   \n",
       "2999                    1.91                    39.08                3   \n",
       "\n",
       "      num_contas_bancarias  num_cartoes_credito  dias_atraso_dt_venc  \\\n",
       "0                        2                 2.08                 3.00   \n",
       "1                        7                 1.79                 5.00   \n",
       "2                        4                 1.95                12.00   \n",
       "3                        8                 2.08                30.00   \n",
       "4                        0                 2.08                 4.00   \n",
       "...                    ...                  ...                  ...   \n",
       "2995                     7                 1.79                 6.00   \n",
       "2996                     6                 2.08                30.00   \n",
       "2997                     2                 0.69                 5.00   \n",
       "2998                     4                 2.40                11.00   \n",
       "2999                     1                 2.20                 7.00   \n",
       "\n",
       "      num_pgtos_atrasados  num_consultas_credito  taxa_juros  \\\n",
       "0                       4                      2           6   \n",
       "1                      14                      4           5   \n",
       "2                      10                      2           8   \n",
       "3                      11                      5          15   \n",
       "4                       0                      2          12   \n",
       "...                   ...                    ...         ...   \n",
       "2995                    8                      4          19   \n",
       "2996                   20                      5          11   \n",
       "2997                    7                      1           7   \n",
       "2998                    4                      3           3   \n",
       "2999                   12                      3           5   \n",
       "\n",
       "      investe_exterior  pessoa_polit_exp  \n",
       "0                    0                 0  \n",
       "1                    0                 0  \n",
       "2                    0                 0  \n",
       "3                    0                 0  \n",
       "4                    0                 0  \n",
       "...                ...               ...  \n",
       "2995                 1                 0  \n",
       "2996                 1                 0  \n",
       "2997                 0                 0  \n",
       "2998                 0                 0  \n",
       "2999                 0                 0  \n",
       "\n",
       "[3000 rows x 16 columns]"
      ]
     },
     "execution_count": 52,
     "metadata": {},
     "output_type": "execute_result"
    }
   ],
   "source": [
    "data_test"
   ]
  },
  {
   "cell_type": "markdown",
   "id": "4fd7b0c0",
   "metadata": {},
   "source": [
    "### Using Best Model"
   ]
  },
  {
   "cell_type": "code",
   "execution_count": 53,
   "id": "7bd17017",
   "metadata": {},
   "outputs": [
    {
     "data": {
      "text/plain": [
       "((3000, 8), (9500, 8))"
      ]
     },
     "execution_count": 53,
     "metadata": {},
     "output_type": "execute_result"
    }
   ],
   "source": [
    "X_test = data_test[selected_features]\n",
    "X_test.shape, X.shape"
   ]
  },
  {
   "cell_type": "code",
   "execution_count": 54,
   "id": "d2e2cac5",
   "metadata": {},
   "outputs": [
    {
     "data": {
      "text/plain": [
       "array([0, 0, 0, ..., 0, 0, 0])"
      ]
     },
     "execution_count": 54,
     "metadata": {},
     "output_type": "execute_result"
    }
   ],
   "source": [
    "xgb_tuned.fit(X, y)\n",
    "y_pred_xgb_tuned=xgb_tuned.predict(X_test)\n",
    "y_pred_xgb_tuned"
   ]
  },
  {
   "cell_type": "code",
   "execution_count": 55,
   "id": "d1dbbd37",
   "metadata": {},
   "outputs": [
    {
     "data": {
      "text/html": [
       "<div>\n",
       "<style scoped>\n",
       "    .dataframe tbody tr th:only-of-type {\n",
       "        vertical-align: middle;\n",
       "    }\n",
       "\n",
       "    .dataframe tbody tr th {\n",
       "        vertical-align: top;\n",
       "    }\n",
       "\n",
       "    .dataframe thead th {\n",
       "        text-align: right;\n",
       "    }\n",
       "</style>\n",
       "<table border=\"1\" class=\"dataframe\">\n",
       "  <thead>\n",
       "    <tr style=\"text-align: right;\">\n",
       "      <th></th>\n",
       "      <th>id_cliente</th>\n",
       "      <th>idade</th>\n",
       "      <th>saldo_atual</th>\n",
       "      <th>divida_atual</th>\n",
       "      <th>renda_anual</th>\n",
       "      <th>valor_em_investimentos</th>\n",
       "      <th>taxa_utilizacao_credito</th>\n",
       "      <th>num_emprestimos</th>\n",
       "      <th>num_contas_bancarias</th>\n",
       "      <th>num_cartoes_credito</th>\n",
       "      <th>dias_atraso_dt_venc</th>\n",
       "      <th>num_pgtos_atrasados</th>\n",
       "      <th>num_consultas_credito</th>\n",
       "      <th>taxa_juros</th>\n",
       "      <th>investe_exterior</th>\n",
       "      <th>pessoa_polit_exp</th>\n",
       "      <th>limite_adicional</th>\n",
       "    </tr>\n",
       "  </thead>\n",
       "  <tbody>\n",
       "    <tr>\n",
       "      <th>0</th>\n",
       "      <td>2</td>\n",
       "      <td>32</td>\n",
       "      <td>1.89</td>\n",
       "      <td>2.18</td>\n",
       "      <td>2.41</td>\n",
       "      <td>1.73</td>\n",
       "      <td>24.46</td>\n",
       "      <td>1</td>\n",
       "      <td>2</td>\n",
       "      <td>2.08</td>\n",
       "      <td>3.00</td>\n",
       "      <td>4</td>\n",
       "      <td>2</td>\n",
       "      <td>6</td>\n",
       "      <td>0</td>\n",
       "      <td>0</td>\n",
       "      <td>Conceder</td>\n",
       "    </tr>\n",
       "    <tr>\n",
       "      <th>1</th>\n",
       "      <td>5</td>\n",
       "      <td>25</td>\n",
       "      <td>1.89</td>\n",
       "      <td>2.18</td>\n",
       "      <td>2.39</td>\n",
       "      <td>1.66</td>\n",
       "      <td>39.80</td>\n",
       "      <td>0</td>\n",
       "      <td>7</td>\n",
       "      <td>1.79</td>\n",
       "      <td>5.00</td>\n",
       "      <td>14</td>\n",
       "      <td>4</td>\n",
       "      <td>5</td>\n",
       "      <td>0</td>\n",
       "      <td>0</td>\n",
       "      <td>Conceder</td>\n",
       "    </tr>\n",
       "    <tr>\n",
       "      <th>2</th>\n",
       "      <td>6</td>\n",
       "      <td>35</td>\n",
       "      <td>1.96</td>\n",
       "      <td>2.07</td>\n",
       "      <td>2.46</td>\n",
       "      <td>1.78</td>\n",
       "      <td>39.96</td>\n",
       "      <td>0</td>\n",
       "      <td>4</td>\n",
       "      <td>1.95</td>\n",
       "      <td>12.00</td>\n",
       "      <td>10</td>\n",
       "      <td>2</td>\n",
       "      <td>8</td>\n",
       "      <td>0</td>\n",
       "      <td>0</td>\n",
       "      <td>Conceder</td>\n",
       "    </tr>\n",
       "    <tr>\n",
       "      <th>3</th>\n",
       "      <td>8</td>\n",
       "      <td>41</td>\n",
       "      <td>1.91</td>\n",
       "      <td>2.02</td>\n",
       "      <td>2.47</td>\n",
       "      <td>1.90</td>\n",
       "      <td>24.45</td>\n",
       "      <td>3</td>\n",
       "      <td>8</td>\n",
       "      <td>2.08</td>\n",
       "      <td>30.00</td>\n",
       "      <td>11</td>\n",
       "      <td>5</td>\n",
       "      <td>15</td>\n",
       "      <td>0</td>\n",
       "      <td>0</td>\n",
       "      <td>Negar</td>\n",
       "    </tr>\n",
       "    <tr>\n",
       "      <th>4</th>\n",
       "      <td>10</td>\n",
       "      <td>49</td>\n",
       "      <td>1.95</td>\n",
       "      <td>2.05</td>\n",
       "      <td>2.46</td>\n",
       "      <td>1.78</td>\n",
       "      <td>29.52</td>\n",
       "      <td>2</td>\n",
       "      <td>0</td>\n",
       "      <td>2.08</td>\n",
       "      <td>4.00</td>\n",
       "      <td>0</td>\n",
       "      <td>2</td>\n",
       "      <td>12</td>\n",
       "      <td>0</td>\n",
       "      <td>0</td>\n",
       "      <td>Conceder</td>\n",
       "    </tr>\n",
       "    <tr>\n",
       "      <th>...</th>\n",
       "      <td>...</td>\n",
       "      <td>...</td>\n",
       "      <td>...</td>\n",
       "      <td>...</td>\n",
       "      <td>...</td>\n",
       "      <td>...</td>\n",
       "      <td>...</td>\n",
       "      <td>...</td>\n",
       "      <td>...</td>\n",
       "      <td>...</td>\n",
       "      <td>...</td>\n",
       "      <td>...</td>\n",
       "      <td>...</td>\n",
       "      <td>...</td>\n",
       "      <td>...</td>\n",
       "      <td>...</td>\n",
       "      <td>...</td>\n",
       "    </tr>\n",
       "    <tr>\n",
       "      <th>2995</th>\n",
       "      <td>12484</td>\n",
       "      <td>48</td>\n",
       "      <td>1.91</td>\n",
       "      <td>2.13</td>\n",
       "      <td>2.42</td>\n",
       "      <td>1.57</td>\n",
       "      <td>25.38</td>\n",
       "      <td>2</td>\n",
       "      <td>7</td>\n",
       "      <td>1.79</td>\n",
       "      <td>6.00</td>\n",
       "      <td>8</td>\n",
       "      <td>4</td>\n",
       "      <td>19</td>\n",
       "      <td>1</td>\n",
       "      <td>0</td>\n",
       "      <td>Negar</td>\n",
       "    </tr>\n",
       "    <tr>\n",
       "      <th>2996</th>\n",
       "      <td>12487</td>\n",
       "      <td>43</td>\n",
       "      <td>2.04</td>\n",
       "      <td>1.92</td>\n",
       "      <td>2.55</td>\n",
       "      <td>1.81</td>\n",
       "      <td>27.78</td>\n",
       "      <td>2</td>\n",
       "      <td>6</td>\n",
       "      <td>2.08</td>\n",
       "      <td>30.00</td>\n",
       "      <td>20</td>\n",
       "      <td>5</td>\n",
       "      <td>11</td>\n",
       "      <td>1</td>\n",
       "      <td>0</td>\n",
       "      <td>Negar</td>\n",
       "    </tr>\n",
       "    <tr>\n",
       "      <th>2997</th>\n",
       "      <td>12489</td>\n",
       "      <td>44</td>\n",
       "      <td>1.78</td>\n",
       "      <td>1.99</td>\n",
       "      <td>2.54</td>\n",
       "      <td>2.02</td>\n",
       "      <td>43.31</td>\n",
       "      <td>0</td>\n",
       "      <td>2</td>\n",
       "      <td>0.69</td>\n",
       "      <td>5.00</td>\n",
       "      <td>7</td>\n",
       "      <td>1</td>\n",
       "      <td>7</td>\n",
       "      <td>0</td>\n",
       "      <td>0</td>\n",
       "      <td>Conceder</td>\n",
       "    </tr>\n",
       "    <tr>\n",
       "      <th>2998</th>\n",
       "      <td>12495</td>\n",
       "      <td>24</td>\n",
       "      <td>1.15</td>\n",
       "      <td>2.18</td>\n",
       "      <td>2.46</td>\n",
       "      <td>1.93</td>\n",
       "      <td>35.12</td>\n",
       "      <td>4</td>\n",
       "      <td>4</td>\n",
       "      <td>2.40</td>\n",
       "      <td>11.00</td>\n",
       "      <td>4</td>\n",
       "      <td>3</td>\n",
       "      <td>3</td>\n",
       "      <td>0</td>\n",
       "      <td>0</td>\n",
       "      <td>Conceder</td>\n",
       "    </tr>\n",
       "    <tr>\n",
       "      <th>2999</th>\n",
       "      <td>12498</td>\n",
       "      <td>55</td>\n",
       "      <td>1.92</td>\n",
       "      <td>2.16</td>\n",
       "      <td>2.49</td>\n",
       "      <td>1.91</td>\n",
       "      <td>39.08</td>\n",
       "      <td>3</td>\n",
       "      <td>1</td>\n",
       "      <td>2.20</td>\n",
       "      <td>7.00</td>\n",
       "      <td>12</td>\n",
       "      <td>3</td>\n",
       "      <td>5</td>\n",
       "      <td>0</td>\n",
       "      <td>0</td>\n",
       "      <td>Conceder</td>\n",
       "    </tr>\n",
       "  </tbody>\n",
       "</table>\n",
       "<p>3000 rows × 17 columns</p>\n",
       "</div>"
      ],
      "text/plain": [
       "      id_cliente  idade  saldo_atual  divida_atual  renda_anual  \\\n",
       "0              2     32         1.89          2.18         2.41   \n",
       "1              5     25         1.89          2.18         2.39   \n",
       "2              6     35         1.96          2.07         2.46   \n",
       "3              8     41         1.91          2.02         2.47   \n",
       "4             10     49         1.95          2.05         2.46   \n",
       "...          ...    ...          ...           ...          ...   \n",
       "2995       12484     48         1.91          2.13         2.42   \n",
       "2996       12487     43         2.04          1.92         2.55   \n",
       "2997       12489     44         1.78          1.99         2.54   \n",
       "2998       12495     24         1.15          2.18         2.46   \n",
       "2999       12498     55         1.92          2.16         2.49   \n",
       "\n",
       "      valor_em_investimentos  taxa_utilizacao_credito  num_emprestimos  \\\n",
       "0                       1.73                    24.46                1   \n",
       "1                       1.66                    39.80                0   \n",
       "2                       1.78                    39.96                0   \n",
       "3                       1.90                    24.45                3   \n",
       "4                       1.78                    29.52                2   \n",
       "...                      ...                      ...              ...   \n",
       "2995                    1.57                    25.38                2   \n",
       "2996                    1.81                    27.78                2   \n",
       "2997                    2.02                    43.31                0   \n",
       "2998                    1.93                    35.12                4   \n",
       "2999                    1.91                    39.08                3   \n",
       "\n",
       "      num_contas_bancarias  num_cartoes_credito  dias_atraso_dt_venc  \\\n",
       "0                        2                 2.08                 3.00   \n",
       "1                        7                 1.79                 5.00   \n",
       "2                        4                 1.95                12.00   \n",
       "3                        8                 2.08                30.00   \n",
       "4                        0                 2.08                 4.00   \n",
       "...                    ...                  ...                  ...   \n",
       "2995                     7                 1.79                 6.00   \n",
       "2996                     6                 2.08                30.00   \n",
       "2997                     2                 0.69                 5.00   \n",
       "2998                     4                 2.40                11.00   \n",
       "2999                     1                 2.20                 7.00   \n",
       "\n",
       "      num_pgtos_atrasados  num_consultas_credito  taxa_juros  \\\n",
       "0                       4                      2           6   \n",
       "1                      14                      4           5   \n",
       "2                      10                      2           8   \n",
       "3                      11                      5          15   \n",
       "4                       0                      2          12   \n",
       "...                   ...                    ...         ...   \n",
       "2995                    8                      4          19   \n",
       "2996                   20                      5          11   \n",
       "2997                    7                      1           7   \n",
       "2998                    4                      3           3   \n",
       "2999                   12                      3           5   \n",
       "\n",
       "      investe_exterior  pessoa_polit_exp limite_adicional  \n",
       "0                    0                 0         Conceder  \n",
       "1                    0                 0         Conceder  \n",
       "2                    0                 0         Conceder  \n",
       "3                    0                 0            Negar  \n",
       "4                    0                 0         Conceder  \n",
       "...                ...               ...              ...  \n",
       "2995                 1                 0            Negar  \n",
       "2996                 1                 0            Negar  \n",
       "2997                 0                 0         Conceder  \n",
       "2998                 0                 0         Conceder  \n",
       "2999                 0                 0         Conceder  \n",
       "\n",
       "[3000 rows x 17 columns]"
      ]
     },
     "execution_count": 55,
     "metadata": {},
     "output_type": "execute_result"
    }
   ],
   "source": [
    "data_test['limite_adicional'] = y_pred_xgb_tuned\n",
    "data_test['limite_adicional'] = data_test['limite_adicional'].apply(lambda x: 'Negar' if x == 1 else 'Conceder')\n",
    "data_test"
   ]
  },
  {
   "cell_type": "code",
   "execution_count": 58,
   "id": "410ce5dc",
   "metadata": {},
   "outputs": [
    {
     "data": {
      "text/plain": [
       "Negar      0.64\n",
       "Conceder   0.36\n",
       "Name: limite_adicional, dtype: float64"
      ]
     },
     "execution_count": 58,
     "metadata": {},
     "output_type": "execute_result"
    }
   ],
   "source": [
    "data_test['limite_adicional'].value_counts(normalize=True)"
   ]
  },
  {
   "cell_type": "code",
   "execution_count": 59,
   "id": "b49cde85",
   "metadata": {},
   "outputs": [],
   "source": [
    "data_test[['id_cliente','limite_adicional']].to_csv(\"submission11.csv\", index=False)"
   ]
  },
  {
   "cell_type": "markdown",
   "id": "a3e1fcdc",
   "metadata": {},
   "source": [
    "### Conclusions\n",
    "\n",
    "As técnicas de UnderSampling e OverSampling tendem a aumentar consideravelmente as predições do tipo \"Conceder\", sendo o SMOTE o algoritimo onde isso mais ocorreu e no \"up-weight\" onde isso menos ocorreu. Talvez nesse projeto em especifico a tecnica de sub/super amostragem não fosse indicada porque utilizamos algorimos por sí só potentes e na base de teste divulgada foi revelado que a base era desbalanceda em proporções parecidas."
   ]
  }
 ],
 "metadata": {
  "hide_input": false,
  "kernelspec": {
   "display_name": "Python 3 (ipykernel)",
   "language": "python",
   "name": "python3"
  },
  "language_info": {
   "codemirror_mode": {
    "name": "ipython",
    "version": 3
   },
   "file_extension": ".py",
   "mimetype": "text/x-python",
   "name": "python",
   "nbconvert_exporter": "python",
   "pygments_lexer": "ipython3",
   "version": "3.9.7"
  },
  "latex_envs": {
   "LaTeX_envs_menu_present": true,
   "autoclose": false,
   "autocomplete": true,
   "bibliofile": "biblio.bib",
   "cite_by": "apalike",
   "current_citInitial": 1,
   "eqLabelWithNumbers": true,
   "eqNumInitial": 1,
   "hotkeys": {
    "equation": "Ctrl-E",
    "itemize": "Ctrl-I"
   },
   "labels_anchors": false,
   "latex_user_defs": false,
   "report_style_numbering": false,
   "user_envs_cfg": false
  }
 },
 "nbformat": 4,
 "nbformat_minor": 5
}
